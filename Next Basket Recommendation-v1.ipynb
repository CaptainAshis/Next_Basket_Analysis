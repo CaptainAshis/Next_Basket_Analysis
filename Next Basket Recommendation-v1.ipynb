{
 "cells": [
  {
   "cell_type": "code",
   "execution_count": 1,
   "metadata": {
    "application/vnd.databricks.v1+cell": {
     "cellMetadata": {
      "byteLimit": 2048000,
      "rowLimit": 10000
     },
     "inputWidgets": {},
     "nuid": "b24a29d1-8ee8-493b-a812-59ee6d8af2de",
     "showTitle": false,
     "tableResultSettingsMap": {},
     "title": ""
    },
    "id": "QgKqN33cTnR8"
   },
   "outputs": [],
   "source": [
    "import numpy as np\n",
    "# import sys\n",
    "import math\n",
    "\n",
    "import pandas as pd\n",
    "from sklearn.neighbors import NearestNeighbors\n",
    "\n",
    "# topk = 10"
   ]
  },
  {
   "cell_type": "markdown",
   "metadata": {},
   "source": [
    "# Next Basket Recommendation- TIFU-KNN"
   ]
  },
  {
   "cell_type": "markdown",
   "metadata": {
    "application/vnd.databricks.v1+cell": {
     "cellMetadata": {
      "byteLimit": 2048000,
      "rowLimit": 10000
     },
     "inputWidgets": {},
     "nuid": "90436475-b662-42f7-839c-d6148d598b49",
     "showTitle": false,
     "tableResultSettingsMap": {},
     "title": ""
    },
    "id": "E5oL9LXqTnSE"
   },
   "source": [
    "## 1. Data Preparation and cleaning"
   ]
  },
  {
   "cell_type": "code",
   "execution_count": 2,
   "metadata": {
    "application/vnd.databricks.v1+cell": {
     "cellMetadata": {
      "byteLimit": 2048000,
      "rowLimit": 10000
     },
     "inputWidgets": {},
     "nuid": "ca6ac194-d0f9-49ac-99de-e2094555e5e5",
     "showTitle": false,
     "tableResultSettingsMap": {},
     "title": ""
    },
    "colab": {
     "base_uri": "https://localhost:8080/"
    },
    "executionInfo": {
     "elapsed": 418,
     "status": "ok",
     "timestamp": 1722325556218,
     "user": {
      "displayName": "ashis kumar",
      "userId": "11359412875664137523"
     },
     "user_tz": -330
    },
    "id": "qYjLNmxxVWD8",
    "outputId": "63f9f037-dd8e-4aae-f448-33ebfc9c66cc"
   },
   "outputs": [],
   "source": [
    "df_futures_pd=pd.read_csv(r'C:\\destination\\tafeng_future.csv')\n",
    "df_history_pd=pd.read_csv(r'C:\\destination\\tafeng_history.csv')\n",
    "data_history1=df_history_pd\n",
    "data_future1=df_futures_pd"
   ]
  },
  {
   "cell_type": "code",
   "execution_count": null,
   "metadata": {
    "application/vnd.databricks.v1+cell": {
     "cellMetadata": {
      "byteLimit": 2048000,
      "rowLimit": 10000
     },
     "inputWidgets": {},
     "nuid": "feaf93c8-6182-44e5-9782-a26d7a874e3c",
     "showTitle": false,
     "tableResultSettingsMap": {},
     "title": ""
    }
   },
   "outputs": [],
   "source": []
  },
  {
   "cell_type": "code",
   "execution_count": 3,
   "metadata": {
    "application/vnd.databricks.v1+cell": {
     "cellMetadata": {
      "byteLimit": 2048000,
      "rowLimit": 10000
     },
     "inputWidgets": {},
     "nuid": "f33c942c-b02d-4319-8d36-2b608b0605dc",
     "showTitle": false,
     "tableResultSettingsMap": {},
     "title": ""
    },
    "id": "uzIJNlbxVKnE"
   },
   "outputs": [
    {
     "data": {
      "text/html": [
       "<div>\n",
       "<style scoped>\n",
       "    .dataframe tbody tr th:only-of-type {\n",
       "        vertical-align: middle;\n",
       "    }\n",
       "\n",
       "    .dataframe tbody tr th {\n",
       "        vertical-align: top;\n",
       "    }\n",
       "\n",
       "    .dataframe thead th {\n",
       "        text-align: right;\n",
       "    }\n",
       "</style>\n",
       "<table border=\"1\" class=\"dataframe\">\n",
       "  <thead>\n",
       "    <tr style=\"text-align: right;\">\n",
       "      <th></th>\n",
       "      <th>user_id</th>\n",
       "      <th>order_number</th>\n",
       "      <th>product_id</th>\n",
       "    </tr>\n",
       "  </thead>\n",
       "  <tbody>\n",
       "    <tr>\n",
       "      <th>0</th>\n",
       "      <td>1</td>\n",
       "      <td>1</td>\n",
       "      <td>0</td>\n",
       "    </tr>\n",
       "    <tr>\n",
       "      <th>1</th>\n",
       "      <td>1</td>\n",
       "      <td>1</td>\n",
       "      <td>1</td>\n",
       "    </tr>\n",
       "    <tr>\n",
       "      <th>2</th>\n",
       "      <td>1</td>\n",
       "      <td>1</td>\n",
       "      <td>2</td>\n",
       "    </tr>\n",
       "    <tr>\n",
       "      <th>3</th>\n",
       "      <td>1</td>\n",
       "      <td>2</td>\n",
       "      <td>3</td>\n",
       "    </tr>\n",
       "    <tr>\n",
       "      <th>4</th>\n",
       "      <td>1</td>\n",
       "      <td>2</td>\n",
       "      <td>4</td>\n",
       "    </tr>\n",
       "  </tbody>\n",
       "</table>\n",
       "</div>"
      ],
      "text/plain": [
       "   user_id  order_number  product_id\n",
       "0        1             1           0\n",
       "1        1             1           1\n",
       "2        1             1           2\n",
       "3        1             2           3\n",
       "4        1             2           4"
      ]
     },
     "execution_count": 3,
     "metadata": {},
     "output_type": "execute_result"
    }
   ],
   "source": [
    "data_history1.head()"
   ]
  },
  {
   "cell_type": "code",
   "execution_count": 4,
   "metadata": {
    "application/vnd.databricks.v1+cell": {
     "cellMetadata": {
      "byteLimit": 2048000,
      "rowLimit": 10000
     },
     "inputWidgets": {},
     "nuid": "e0ec8d0b-cdb0-4070-8903-25f59504c331",
     "showTitle": false,
     "tableResultSettingsMap": {},
     "title": ""
    },
    "colab": {
     "base_uri": "https://localhost:8080/"
    },
    "executionInfo": {
     "elapsed": 56,
     "status": "ok",
     "timestamp": 1722325558563,
     "user": {
      "displayName": "ashis kumar",
      "userId": "11359412875664137523"
     },
     "user_tz": -330
    },
    "id": "GzvK8_lDTnSM",
    "outputId": "62f050f0-b1e8-4388-d3cb-f429a02b11a0",
    "scrolled": true
   },
   "outputs": [],
   "source": [
    "# data_history1.shape,data_future1.shape"
   ]
  },
  {
   "cell_type": "code",
   "execution_count": 5,
   "metadata": {
    "application/vnd.databricks.v1+cell": {
     "cellMetadata": {
      "byteLimit": 2048000,
      "rowLimit": 10000
     },
     "inputWidgets": {},
     "nuid": "5437755c-72c4-4ccc-91ff-ded4fa9b178e",
     "showTitle": false,
     "tableResultSettingsMap": {},
     "title": ""
    },
    "colab": {
     "base_uri": "https://localhost:8080/",
     "height": 206
    },
    "executionInfo": {
     "elapsed": 46,
     "status": "ok",
     "timestamp": 1722325558564,
     "user": {
      "displayName": "ashis kumar",
      "userId": "11359412875664137523"
     },
     "user_tz": -330
    },
    "id": "U3oSRdiHTnSP",
    "outputId": "aa477eb6-5013-44b4-fecf-6ded293612e6"
   },
   "outputs": [
    {
     "name": "stderr",
     "output_type": "stream",
     "text": [
      "C:\\Users\\ashis\\AppData\\Local\\Temp\\ipykernel_35660\\2850081035.py:1: DeprecationWarning: DataFrameGroupBy.apply operated on the grouping columns. This behavior is deprecated, and in a future version of pandas the grouping columns will be excluded from the operation. Either pass `include_groups=False` to exclude the groupings or explicitly select the grouping columns after groupby to silence this warning.\n",
      "  data_history2=pd.DataFrame(data_history1.groupby(['user_id','order_number']).apply(lambda x:list(x['product_id']))).reset_index()\n"
     ]
    },
    {
     "data": {
      "text/html": [
       "<div>\n",
       "<style scoped>\n",
       "    .dataframe tbody tr th:only-of-type {\n",
       "        vertical-align: middle;\n",
       "    }\n",
       "\n",
       "    .dataframe tbody tr th {\n",
       "        vertical-align: top;\n",
       "    }\n",
       "\n",
       "    .dataframe thead th {\n",
       "        text-align: right;\n",
       "    }\n",
       "</style>\n",
       "<table border=\"1\" class=\"dataframe\">\n",
       "  <thead>\n",
       "    <tr style=\"text-align: right;\">\n",
       "      <th></th>\n",
       "      <th>user_id</th>\n",
       "      <th>order_number</th>\n",
       "      <th>Products</th>\n",
       "    </tr>\n",
       "  </thead>\n",
       "  <tbody>\n",
       "    <tr>\n",
       "      <th>0</th>\n",
       "      <td>1</td>\n",
       "      <td>1</td>\n",
       "      <td>[0, 1, 2]</td>\n",
       "    </tr>\n",
       "    <tr>\n",
       "      <th>1</th>\n",
       "      <td>1</td>\n",
       "      <td>2</td>\n",
       "      <td>[3, 4, 5, 6, 7]</td>\n",
       "    </tr>\n",
       "    <tr>\n",
       "      <th>2</th>\n",
       "      <td>1</td>\n",
       "      <td>3</td>\n",
       "      <td>[8]</td>\n",
       "    </tr>\n",
       "    <tr>\n",
       "      <th>3</th>\n",
       "      <td>1</td>\n",
       "      <td>4</td>\n",
       "      <td>[9, 10]</td>\n",
       "    </tr>\n",
       "    <tr>\n",
       "      <th>4</th>\n",
       "      <td>1</td>\n",
       "      <td>5</td>\n",
       "      <td>[11, 12, 6, 13, 14, 15]</td>\n",
       "    </tr>\n",
       "  </tbody>\n",
       "</table>\n",
       "</div>"
      ],
      "text/plain": [
       "   user_id  order_number                 Products\n",
       "0        1             1                [0, 1, 2]\n",
       "1        1             2          [3, 4, 5, 6, 7]\n",
       "2        1             3                      [8]\n",
       "3        1             4                  [9, 10]\n",
       "4        1             5  [11, 12, 6, 13, 14, 15]"
      ]
     },
     "execution_count": 5,
     "metadata": {},
     "output_type": "execute_result"
    }
   ],
   "source": [
    "data_history2=pd.DataFrame(data_history1.groupby(['user_id','order_number']).apply(lambda x:list(x['product_id']))).reset_index()\n",
    "data_history2.rename(columns={0:'Products'},inplace=True)\n",
    "data_history2.head()"
   ]
  },
  {
   "cell_type": "code",
   "execution_count": 6,
   "metadata": {
    "application/vnd.databricks.v1+cell": {
     "cellMetadata": {
      "byteLimit": 2048000,
      "rowLimit": 10000
     },
     "inputWidgets": {},
     "nuid": "51819266-05b2-4cb6-8c95-67131f7bc002",
     "showTitle": false,
     "tableResultSettingsMap": {},
     "title": ""
    },
    "colab": {
     "base_uri": "https://localhost:8080/",
     "height": 206
    },
    "executionInfo": {
     "elapsed": 44,
     "status": "ok",
     "timestamp": 1722325558564,
     "user": {
      "displayName": "ashis kumar",
      "userId": "11359412875664137523"
     },
     "user_tz": -330
    },
    "id": "qERPbubgTnSQ",
    "outputId": "7b1dcef1-a386-457a-8aec-6bc85b45ca1d",
    "scrolled": true
   },
   "outputs": [
    {
     "name": "stderr",
     "output_type": "stream",
     "text": [
      "C:\\Users\\ashis\\AppData\\Local\\Temp\\ipykernel_35660\\4228797489.py:1: DeprecationWarning: DataFrameGroupBy.apply operated on the grouping columns. This behavior is deprecated, and in a future version of pandas the grouping columns will be excluded from the operation. Either pass `include_groups=False` to exclude the groupings or explicitly select the grouping columns after groupby to silence this warning.\n",
      "  data_history=pd.DataFrame(data_history2.groupby(['user_id']).apply(lambda x:list(x['Products']))).reset_index()\n"
     ]
    },
    {
     "data": {
      "text/html": [
       "<div>\n",
       "<style scoped>\n",
       "    .dataframe tbody tr th:only-of-type {\n",
       "        vertical-align: middle;\n",
       "    }\n",
       "\n",
       "    .dataframe tbody tr th {\n",
       "        vertical-align: top;\n",
       "    }\n",
       "\n",
       "    .dataframe thead th {\n",
       "        text-align: right;\n",
       "    }\n",
       "</style>\n",
       "<table border=\"1\" class=\"dataframe\">\n",
       "  <thead>\n",
       "    <tr style=\"text-align: right;\">\n",
       "      <th></th>\n",
       "      <th>user_id</th>\n",
       "      <th>Products_as_per_txn_order_hist_baskets</th>\n",
       "    </tr>\n",
       "  </thead>\n",
       "  <tbody>\n",
       "    <tr>\n",
       "      <th>0</th>\n",
       "      <td>1</td>\n",
       "      <td>[[0, 1, 2], [3, 4, 5, 6, 7], [8], [9, 10], [11...</td>\n",
       "    </tr>\n",
       "    <tr>\n",
       "      <th>1</th>\n",
       "      <td>2</td>\n",
       "      <td>[[50, 51, 52, 53, 54, 55, 56, 57, 58, 59, 60, ...</td>\n",
       "    </tr>\n",
       "    <tr>\n",
       "      <th>2</th>\n",
       "      <td>3</td>\n",
       "      <td>[[148, 149, 122, 150], [151, 152], [151, 153],...</td>\n",
       "    </tr>\n",
       "    <tr>\n",
       "      <th>3</th>\n",
       "      <td>4</td>\n",
       "      <td>[[173, 174, 175, 176, 177, 178, 179, 180, 181,...</td>\n",
       "    </tr>\n",
       "    <tr>\n",
       "      <th>4</th>\n",
       "      <td>5</td>\n",
       "      <td>[[227, 228, 229, 50], [230, 231], [232], [233,...</td>\n",
       "    </tr>\n",
       "  </tbody>\n",
       "</table>\n",
       "</div>"
      ],
      "text/plain": [
       "   user_id             Products_as_per_txn_order_hist_baskets\n",
       "0        1  [[0, 1, 2], [3, 4, 5, 6, 7], [8], [9, 10], [11...\n",
       "1        2  [[50, 51, 52, 53, 54, 55, 56, 57, 58, 59, 60, ...\n",
       "2        3  [[148, 149, 122, 150], [151, 152], [151, 153],...\n",
       "3        4  [[173, 174, 175, 176, 177, 178, 179, 180, 181,...\n",
       "4        5  [[227, 228, 229, 50], [230, 231], [232], [233,..."
      ]
     },
     "execution_count": 6,
     "metadata": {},
     "output_type": "execute_result"
    }
   ],
   "source": [
    "data_history=pd.DataFrame(data_history2.groupby(['user_id']).apply(lambda x:list(x['Products']))).reset_index()\n",
    "data_history.rename(columns={0:'Products_as_per_txn_order_hist_baskets'},inplace=True)\n",
    "data_history.head()"
   ]
  },
  {
   "cell_type": "code",
   "execution_count": 7,
   "metadata": {
    "application/vnd.databricks.v1+cell": {
     "cellMetadata": {
      "byteLimit": 2048000,
      "rowLimit": 10000
     },
     "inputWidgets": {},
     "nuid": "aad7851d-983e-4b7f-80b5-b4128ee4a9e5",
     "showTitle": false,
     "tableResultSettingsMap": {},
     "title": ""
    },
    "colab": {
     "base_uri": "https://localhost:8080/",
     "height": 206
    },
    "executionInfo": {
     "elapsed": 51,
     "status": "ok",
     "timestamp": 1722325558563,
     "user": {
      "displayName": "ashis kumar",
      "userId": "11359412875664137523"
     },
     "user_tz": -330
    },
    "id": "KdmA9G_qTnSO",
    "outputId": "e5345e0e-f2b4-458f-a9d5-6b2836d5a843",
    "scrolled": true
   },
   "outputs": [
    {
     "name": "stderr",
     "output_type": "stream",
     "text": [
      "C:\\Users\\ashis\\AppData\\Local\\Temp\\ipykernel_35660\\1883075935.py:2: DeprecationWarning: DataFrameGroupBy.apply operated on the grouping columns. This behavior is deprecated, and in a future version of pandas the grouping columns will be excluded from the operation. Either pass `include_groups=False` to exclude the groupings or explicitly select the grouping columns after groupby to silence this warning.\n",
      "  data_future2=pd.DataFrame(data_future1.groupby(['user_id','order_number']).apply(lambda x:list(x['product_id']))).reset_index()\n"
     ]
    },
    {
     "data": {
      "text/html": [
       "<div>\n",
       "<style scoped>\n",
       "    .dataframe tbody tr th:only-of-type {\n",
       "        vertical-align: middle;\n",
       "    }\n",
       "\n",
       "    .dataframe tbody tr th {\n",
       "        vertical-align: top;\n",
       "    }\n",
       "\n",
       "    .dataframe thead th {\n",
       "        text-align: right;\n",
       "    }\n",
       "</style>\n",
       "<table border=\"1\" class=\"dataframe\">\n",
       "  <thead>\n",
       "    <tr style=\"text-align: right;\">\n",
       "      <th></th>\n",
       "      <th>user_id</th>\n",
       "      <th>order_number</th>\n",
       "      <th>Products</th>\n",
       "    </tr>\n",
       "  </thead>\n",
       "  <tbody>\n",
       "    <tr>\n",
       "      <th>0</th>\n",
       "      <td>1</td>\n",
       "      <td>14</td>\n",
       "      <td>[1144, 3374, 40, 44]</td>\n",
       "    </tr>\n",
       "    <tr>\n",
       "      <th>1</th>\n",
       "      <td>2</td>\n",
       "      <td>16</td>\n",
       "      <td>[9, 145, 5, 125, 1357, 50]</td>\n",
       "    </tr>\n",
       "    <tr>\n",
       "      <th>2</th>\n",
       "      <td>3</td>\n",
       "      <td>10</td>\n",
       "      <td>[3771, 1335, 3219, 1965, 7106, 152, 4279]</td>\n",
       "    </tr>\n",
       "    <tr>\n",
       "      <th>3</th>\n",
       "      <td>4</td>\n",
       "      <td>15</td>\n",
       "      <td>[3551, 361, 4605, 3462, 224]</td>\n",
       "    </tr>\n",
       "    <tr>\n",
       "      <th>4</th>\n",
       "      <td>5</td>\n",
       "      <td>15</td>\n",
       "      <td>[266, 50, 4919, 40]</td>\n",
       "    </tr>\n",
       "  </tbody>\n",
       "</table>\n",
       "</div>"
      ],
      "text/plain": [
       "   user_id  order_number                                   Products\n",
       "0        1            14                       [1144, 3374, 40, 44]\n",
       "1        2            16                 [9, 145, 5, 125, 1357, 50]\n",
       "2        3            10  [3771, 1335, 3219, 1965, 7106, 152, 4279]\n",
       "3        4            15               [3551, 361, 4605, 3462, 224]\n",
       "4        5            15                        [266, 50, 4919, 40]"
      ]
     },
     "execution_count": 7,
     "metadata": {},
     "output_type": "execute_result"
    }
   ],
   "source": [
    "# Every user should have 1 or the final order in future dataframe\n",
    "data_future2=pd.DataFrame(data_future1.groupby(['user_id','order_number']).apply(lambda x:list(x['product_id']))).reset_index()\n",
    "data_future2.rename(columns={0:'Products'},inplace=True)\n",
    "data_future2.head()"
   ]
  },
  {
   "cell_type": "code",
   "execution_count": 8,
   "metadata": {
    "application/vnd.databricks.v1+cell": {
     "cellMetadata": {
      "byteLimit": 2048000,
      "rowLimit": 10000
     },
     "inputWidgets": {},
     "nuid": "510fec1b-3073-4f74-a11d-b2d19fe6e179",
     "showTitle": false,
     "tableResultSettingsMap": {},
     "title": ""
    },
    "colab": {
     "base_uri": "https://localhost:8080/",
     "height": 206
    },
    "executionInfo": {
     "elapsed": 47,
     "status": "ok",
     "timestamp": 1722325558563,
     "user": {
      "displayName": "ashis kumar",
      "userId": "11359412875664137523"
     },
     "user_tz": -330
    },
    "id": "GNQOMb5pTnSP",
    "outputId": "5bbaeaf5-8d17-4950-e5a4-d985db85d668"
   },
   "outputs": [
    {
     "name": "stderr",
     "output_type": "stream",
     "text": [
      "C:\\Users\\ashis\\AppData\\Local\\Temp\\ipykernel_35660\\3904488111.py:1: DeprecationWarning: DataFrameGroupBy.apply operated on the grouping columns. This behavior is deprecated, and in a future version of pandas the grouping columns will be excluded from the operation. Either pass `include_groups=False` to exclude the groupings or explicitly select the grouping columns after groupby to silence this warning.\n",
      "  data_future=pd.DataFrame(data_future2.groupby(['user_id']).apply(lambda x:list(x['Products']))).reset_index()\n"
     ]
    },
    {
     "data": {
      "text/html": [
       "<div>\n",
       "<style scoped>\n",
       "    .dataframe tbody tr th:only-of-type {\n",
       "        vertical-align: middle;\n",
       "    }\n",
       "\n",
       "    .dataframe tbody tr th {\n",
       "        vertical-align: top;\n",
       "    }\n",
       "\n",
       "    .dataframe thead th {\n",
       "        text-align: right;\n",
       "    }\n",
       "</style>\n",
       "<table border=\"1\" class=\"dataframe\">\n",
       "  <thead>\n",
       "    <tr style=\"text-align: right;\">\n",
       "      <th></th>\n",
       "      <th>user_id</th>\n",
       "      <th>Products_as_per_txn_order_future_baskets</th>\n",
       "    </tr>\n",
       "  </thead>\n",
       "  <tbody>\n",
       "    <tr>\n",
       "      <th>0</th>\n",
       "      <td>1</td>\n",
       "      <td>[[1144, 3374, 40, 44]]</td>\n",
       "    </tr>\n",
       "    <tr>\n",
       "      <th>1</th>\n",
       "      <td>2</td>\n",
       "      <td>[[9, 145, 5, 125, 1357, 50]]</td>\n",
       "    </tr>\n",
       "    <tr>\n",
       "      <th>2</th>\n",
       "      <td>3</td>\n",
       "      <td>[[3771, 1335, 3219, 1965, 7106, 152, 4279]]</td>\n",
       "    </tr>\n",
       "    <tr>\n",
       "      <th>3</th>\n",
       "      <td>4</td>\n",
       "      <td>[[3551, 361, 4605, 3462, 224]]</td>\n",
       "    </tr>\n",
       "    <tr>\n",
       "      <th>4</th>\n",
       "      <td>5</td>\n",
       "      <td>[[266, 50, 4919, 40]]</td>\n",
       "    </tr>\n",
       "  </tbody>\n",
       "</table>\n",
       "</div>"
      ],
      "text/plain": [
       "   user_id     Products_as_per_txn_order_future_baskets\n",
       "0        1                       [[1144, 3374, 40, 44]]\n",
       "1        2                 [[9, 145, 5, 125, 1357, 50]]\n",
       "2        3  [[3771, 1335, 3219, 1965, 7106, 152, 4279]]\n",
       "3        4               [[3551, 361, 4605, 3462, 224]]\n",
       "4        5                        [[266, 50, 4919, 40]]"
      ]
     },
     "execution_count": 8,
     "metadata": {},
     "output_type": "execute_result"
    }
   ],
   "source": [
    "data_future=pd.DataFrame(data_future2.groupby(['user_id']).apply(lambda x:list(x['Products']))).reset_index()\n",
    "data_future.rename(columns={0:'Products_as_per_txn_order_future_baskets'},inplace=True)\n",
    "df_gnd_truth=data_future.copy()\n",
    "data_future.head()"
   ]
  },
  {
   "cell_type": "code",
   "execution_count": 9,
   "metadata": {
    "application/vnd.databricks.v1+cell": {
     "cellMetadata": {
      "byteLimit": 2048000,
      "rowLimit": 10000
     },
     "inputWidgets": {},
     "nuid": "9e308d4b-b3cd-4a13-8f06-701da3cf48e0",
     "showTitle": false,
     "tableResultSettingsMap": {},
     "title": ""
    },
    "colab": {
     "base_uri": "https://localhost:8080/"
    },
    "executionInfo": {
     "elapsed": 42,
     "status": "ok",
     "timestamp": 1722325558564,
     "user": {
      "displayName": "ashis kumar",
      "userId": "11359412875664137523"
     },
     "user_tz": -330
    },
    "id": "6rJk1Zzrtktm",
    "outputId": "136213cf-7a2c-424f-8f96-2da1471fffe0"
   },
   "outputs": [
    {
     "name": "stdout",
     "output_type": "stream",
     "text": [
      "13858\n",
      "13858\n",
      "(13858, 1)\n"
     ]
    }
   ],
   "source": [
    "print(data_history['user_id'].nunique())\n",
    "print(data_future['user_id'].nunique())\n",
    "print(pd.DataFrame(data_history['user_id']).merge(pd.DataFrame(data_future['user_id']),how='inner',on='user_id').shape)"
   ]
  },
  {
   "cell_type": "code",
   "execution_count": 10,
   "metadata": {},
   "outputs": [
    {
     "data": {
      "text/plain": [
       "(571933, 3)"
      ]
     },
     "execution_count": 10,
     "metadata": {},
     "output_type": "execute_result"
    }
   ],
   "source": [
    "df=pd.concat([df_futures_pd,df_history_pd])\n",
    "df.shape"
   ]
  },
  {
   "cell_type": "code",
   "execution_count": 11,
   "metadata": {
    "application/vnd.databricks.v1+cell": {
     "cellMetadata": {
      "byteLimit": 2048000,
      "rowLimit": 10000
     },
     "inputWidgets": {},
     "nuid": "d1f23130-d191-4f13-bee5-dad8f9feb98f",
     "showTitle": false,
     "tableResultSettingsMap": {},
     "title": ""
    },
    "colab": {
     "base_uri": "https://localhost:8080/"
    },
    "executionInfo": {
     "elapsed": 36,
     "status": "ok",
     "timestamp": 1722325558564,
     "user": {
      "displayName": "ashis kumar",
      "userId": "11359412875664137523"
     },
     "user_tz": -330
    },
    "id": "ToZluR0OTnSR",
    "outputId": "6338f213-715b-4446-9d83-20bfca6fc400"
   },
   "outputs": [
    {
     "name": "stdout",
     "output_type": "stream",
     "text": [
      "#Users in train_user: 9977\n",
      "#Users in val_user:1109\n",
      "#Users in test_user:2772\n",
      "#Total Products:11997,\n",
      "#Users in total:13858\n"
     ]
    }
   ],
   "source": [
    "import random\n",
    "user = list(set(data_future['user_id']))\n",
    "user_num = len(user)\n",
    "\n",
    "# random.shuffle(user)\n",
    "user = [str(user_id) for user_id in user]\n",
    "\n",
    "train_user = user[:int(user_num*4/5*0.9)]\n",
    "val_user = user[int(user_num*4/5*0.9):int(user_num*4/5)]\n",
    "val_user1=val_user\n",
    "test_user = user[int(user_num*4/5):]\n",
    "\n",
    "# Assuming each product has been mapped to an individual number , below is the total number of items we have\n",
    "item_num = max(df['product_id'].tolist())+1\n",
    "\n",
    "print(f\"#Users in train_user: {len(train_user)}\\n#Users in val_user:{len(val_user)}\\n#Users in test_user:{len(test_user)}\\n#Total Products:{item_num},\\n#Users in total:{len(user)}\")"
   ]
  },
  {
   "cell_type": "code",
   "execution_count": 12,
   "metadata": {
    "application/vnd.databricks.v1+cell": {
     "cellMetadata": {
      "byteLimit": 2048000,
      "rowLimit": 10000
     },
     "inputWidgets": {},
     "nuid": "32c83b3a-7555-4c26-8662-a26ba9ab9061",
     "showTitle": false,
     "tableResultSettingsMap": {},
     "title": ""
    }
   },
   "outputs": [],
   "source": [
    "# val_user\n",
    "# test_user"
   ]
  },
  {
   "cell_type": "code",
   "execution_count": 13,
   "metadata": {
    "application/vnd.databricks.v1+cell": {
     "cellMetadata": {
      "byteLimit": 2048000,
      "rowLimit": 10000
     },
     "inputWidgets": {},
     "nuid": "4fe95f92-9889-4ea8-92a1-d87fa41feb65",
     "showTitle": false,
     "tableResultSettingsMap": {},
     "title": ""
    }
   },
   "outputs": [
    {
     "name": "stdout",
     "output_type": "stream",
     "text": [
      "1109\n",
      "2772\n",
      "3881\n",
      "3881\n"
     ]
    }
   ],
   "source": [
    "print(len(val_user))\n",
    "print(len(test_user))\n",
    "val_user.extend(test_user)\n",
    "print(len(val_user))\n",
    "print(len(set(val_user)))\n"
   ]
  },
  {
   "cell_type": "code",
   "execution_count": null,
   "metadata": {
    "application/vnd.databricks.v1+cell": {
     "cellMetadata": {
      "byteLimit": 2048000,
      "rowLimit": 10000
     },
     "inputWidgets": {},
     "nuid": "6bf5d723-6404-4401-b19c-08291c1b8322",
     "showTitle": false,
     "tableResultSettingsMap": {},
     "title": ""
    }
   },
   "outputs": [],
   "source": []
  },
  {
   "cell_type": "code",
   "execution_count": 14,
   "metadata": {
    "application/vnd.databricks.v1+cell": {
     "cellMetadata": {
      "byteLimit": 2048000,
      "rowLimit": 10000
     },
     "inputWidgets": {},
     "nuid": "d043d89e-6460-4152-a91a-a317199d88c4",
     "showTitle": false,
     "tableResultSettingsMap": {},
     "title": ""
    }
   },
   "outputs": [],
   "source": [
    "# len(val_user)"
   ]
  },
  {
   "cell_type": "code",
   "execution_count": 15,
   "metadata": {
    "application/vnd.databricks.v1+cell": {
     "cellMetadata": {
      "byteLimit": 2048000,
      "rowLimit": 10000
     },
     "inputWidgets": {},
     "nuid": "22ef5770-3b20-41c8-b120-fb07a8c4dd7f",
     "showTitle": false,
     "tableResultSettingsMap": {},
     "title": ""
    },
    "colab": {
     "base_uri": "https://localhost:8080/"
    },
    "executionInfo": {
     "elapsed": 32,
     "status": "ok",
     "timestamp": 1722325558565,
     "user": {
      "displayName": "ashis kumar",
      "userId": "11359412875664137523"
     },
     "user_tz": -330
    },
    "id": "c1N-iNGeTnSR",
    "outputId": "3c35da70-9fee-464d-c0c8-c62ddc9ad639"
   },
   "outputs": [
    {
     "data": {
      "text/plain": [
       "((100, 2), (100, 2))"
      ]
     },
     "execution_count": 15,
     "metadata": {},
     "output_type": "execute_result"
    }
   ],
   "source": [
    "df_hist=data_history[data_history['user_id'].isin([int(x) for x in train_user])].head(100)\n",
    "# df_fut=data_history[data_history['user_id'].isin([int(x) for x in test_user])]\n",
    "df_fut=data_history[data_history['user_id'].isin([int(x) for x in val_user])].head(100)\n",
    "df_hist.shape,df_fut.shape"
   ]
  },
  {
   "cell_type": "code",
   "execution_count": 16,
   "metadata": {
    "application/vnd.databricks.v1+cell": {
     "cellMetadata": {
      "byteLimit": 2048000,
      "rowLimit": 10000
     },
     "inputWidgets": {},
     "nuid": "e8b66712-916d-4021-bc17-762e5ff2bfea",
     "showTitle": false,
     "tableResultSettingsMap": {},
     "title": ""
    },
    "id": "YOwr7xWsGiy2"
   },
   "outputs": [],
   "source": [
    "df_fut.reset_index(inplace=True,drop=True)\n",
    "df_hist.reset_index(inplace=True,drop=True)"
   ]
  },
  {
   "cell_type": "code",
   "execution_count": null,
   "metadata": {},
   "outputs": [],
   "source": []
  },
  {
   "cell_type": "markdown",
   "metadata": {
    "application/vnd.databricks.v1+cell": {
     "cellMetadata": {
      "byteLimit": 2048000,
      "rowLimit": 10000
     },
     "inputWidgets": {},
     "nuid": "b2e65068-0fe7-4826-af1c-5b2a4d0f11e1",
     "showTitle": false,
     "tableResultSettingsMap": {},
     "title": ""
    },
    "id": "fMkyAPZcTnSS"
   },
   "source": [
    "## 2. Personalized Insights- Feature Engineering"
   ]
  },
  {
   "cell_type": "markdown",
   "metadata": {},
   "source": [
    "### 2.1. Temporal Ripple Effect"
   ]
  },
  {
   "cell_type": "code",
   "execution_count": 17,
   "metadata": {
    "application/vnd.databricks.v1+cell": {
     "cellMetadata": {
      "byteLimit": 2048000,
      "rowLimit": 10000
     },
     "inputWidgets": {},
     "nuid": "d6df502b-ca85-4387-8aed-d6d4ee5e7377",
     "showTitle": false,
     "tableResultSettingsMap": {},
     "title": ""
    },
    "id": "GZaghIjzTnSS"
   },
   "outputs": [],
   "source": [
    "def decayed_wt_assigning(Products_as_per_txn_order,item_num):\n",
    "    his_list=[]\n",
    "    records_non_zero=[]\n",
    "    records_non_zero_values=[]\n",
    "    # print(f\"************* Products_as_per_txn_order : {Products_as_per_txn_order} & \\n Total items in database are : {item_num} *************\")\n",
    "    within_decay_rate =0.9\n",
    "    num_vec=len(Products_as_per_txn_order)\n",
    "    # print(f\"Total number of txns done: {num_vec} \")\n",
    "    for index in range(len(Products_as_per_txn_order)):\n",
    "        item_index=Products_as_per_txn_order[index]\n",
    "        his_vec = np.zeros(item_num)\n",
    "        # print(f\"How old the transaction/Index is: {(num_vec-1)-index} & weight decay values assigned is {within_decay_rate}^{(num_vec-1)-index}\")\n",
    "        decayed_val = np.power(within_decay_rate, (num_vec-1)-index)\n",
    "        his_vec[item_index]=decayed_val\n",
    "        # non_zero_indices = his_vec.nonzero() # which indices have non-zero element\n",
    "        # non_zero_elements = his_vec[non_zero_indices] # what value is present in those non-zero element indexes\n",
    "        # records_non_zero.append(non_zero_indices)\n",
    "        # records_non_zero_values.append(non_zero_elements)\n",
    "        # print(f\"his_vec: {non_zero_elements} & non_zero_indices: {non_zero_indices}\")\n",
    "        # print()\n",
    "        his_list.append(his_vec)\n",
    "    # print(f\"Total length is {len(his_list)} and length of each list is {len(his_list[0])}\")\n",
    "    # print(f\"np.sum(np.array(his_list), axis=1).shape: {np.sum(np.array(his_list), axis=0).shape}\")\n",
    "    # print(f\"records_non_zero:{records_non_zero} \\n\\n records_non_zero_values:{records_non_zero_values}\\n\")\n",
    "    return his_list,len(his_list)"
   ]
  },
  {
   "cell_type": "code",
   "execution_count": 18,
   "metadata": {
    "application/vnd.databricks.v1+cell": {
     "cellMetadata": {
      "byteLimit": 2048000,
      "rowLimit": 10000
     },
     "inputWidgets": {},
     "nuid": "6fd91a1c-3742-4cba-b58a-16c5c6bafad2",
     "showTitle": false,
     "tableResultSettingsMap": {},
     "title": ""
    },
    "scrolled": true
   },
   "outputs": [],
   "source": [
    "# decayed_wt_assigning(df_hist.loc[0,'Products_as_per_txn_order_hist_baskets'],item_num)"
   ]
  },
  {
   "cell_type": "code",
   "execution_count": 19,
   "metadata": {
    "application/vnd.databricks.v1+cell": {
     "cellMetadata": {
      "byteLimit": 2048000,
      "rowLimit": 10000
     },
     "inputWidgets": {},
     "nuid": "3b3b9cc3-6ae4-4b92-badb-6f72d82f153b",
     "showTitle": false,
     "tableResultSettingsMap": {},
     "title": ""
    }
   },
   "outputs": [
    {
     "data": {
      "text/html": [
       "<div>\n",
       "<style scoped>\n",
       "    .dataframe tbody tr th:only-of-type {\n",
       "        vertical-align: middle;\n",
       "    }\n",
       "\n",
       "    .dataframe tbody tr th {\n",
       "        vertical-align: top;\n",
       "    }\n",
       "\n",
       "    .dataframe thead th {\n",
       "        text-align: right;\n",
       "    }\n",
       "</style>\n",
       "<table border=\"1\" class=\"dataframe\">\n",
       "  <thead>\n",
       "    <tr style=\"text-align: right;\">\n",
       "      <th></th>\n",
       "      <th>user_id</th>\n",
       "      <th>Products_as_per_txn_order_hist_baskets</th>\n",
       "    </tr>\n",
       "  </thead>\n",
       "  <tbody>\n",
       "    <tr>\n",
       "      <th>0</th>\n",
       "      <td>1</td>\n",
       "      <td>[[0, 1, 2], [3, 4, 5, 6, 7], [8], [9, 10], [11...</td>\n",
       "    </tr>\n",
       "    <tr>\n",
       "      <th>1</th>\n",
       "      <td>2</td>\n",
       "      <td>[[50, 51, 52, 53, 54, 55, 56, 57, 58, 59, 60, ...</td>\n",
       "    </tr>\n",
       "    <tr>\n",
       "      <th>2</th>\n",
       "      <td>3</td>\n",
       "      <td>[[148, 149, 122, 150], [151, 152], [151, 153],...</td>\n",
       "    </tr>\n",
       "    <tr>\n",
       "      <th>3</th>\n",
       "      <td>4</td>\n",
       "      <td>[[173, 174, 175, 176, 177, 178, 179, 180, 181,...</td>\n",
       "    </tr>\n",
       "    <tr>\n",
       "      <th>4</th>\n",
       "      <td>5</td>\n",
       "      <td>[[227, 228, 229, 50], [230, 231], [232], [233,...</td>\n",
       "    </tr>\n",
       "  </tbody>\n",
       "</table>\n",
       "</div>"
      ],
      "text/plain": [
       "   user_id             Products_as_per_txn_order_hist_baskets\n",
       "0        1  [[0, 1, 2], [3, 4, 5, 6, 7], [8], [9, 10], [11...\n",
       "1        2  [[50, 51, 52, 53, 54, 55, 56, 57, 58, 59, 60, ...\n",
       "2        3  [[148, 149, 122, 150], [151, 152], [151, 153],...\n",
       "3        4  [[173, 174, 175, 176, 177, 178, 179, 180, 181,...\n",
       "4        5  [[227, 228, 229, 50], [230, 231], [232], [233,..."
      ]
     },
     "execution_count": 19,
     "metadata": {},
     "output_type": "execute_result"
    }
   ],
   "source": [
    "df_hist.head()"
   ]
  },
  {
   "cell_type": "code",
   "execution_count": 20,
   "metadata": {
    "application/vnd.databricks.v1+cell": {
     "cellMetadata": {
      "byteLimit": 2048000,
      "rowLimit": 10000
     },
     "inputWidgets": {},
     "nuid": "6f5c10c2-9c83-4e4c-ab05-9e38bf3267c3",
     "showTitle": false,
     "tableResultSettingsMap": {},
     "title": ""
    },
    "colab": {
     "base_uri": "https://localhost:8080/"
    },
    "executionInfo": {
     "elapsed": 28,
     "status": "ok",
     "timestamp": 1722325558566,
     "user": {
      "displayName": "ashis kumar",
      "userId": "11359412875664137523"
     },
     "user_tz": -330
    },
    "id": "SHjw2JQaTnSU",
    "outputId": "681265f9-705e-4441-877f-d3ae0dcc6965",
    "scrolled": true
   },
   "outputs": [],
   "source": [
    "df_hist[['within_decay_rate_list','length']]=df_hist.apply(lambda x:\\\n",
    "                                               decayed_wt_assigning(x['Products_as_per_txn_order_hist_baskets'],item_num),axis=1,result_type='expand')\n",
    "df_fut[['within_decay_rate_list','length']]=df_fut.apply(lambda x:\\\n",
    "                                             decayed_wt_assigning(x['Products_as_per_txn_order_hist_baskets'],item_num),axis=1,result_type='expand')"
   ]
  },
  {
   "cell_type": "code",
   "execution_count": 23,
   "metadata": {},
   "outputs": [
    {
     "data": {
      "text/html": [
       "<div>\n",
       "<style scoped>\n",
       "    .dataframe tbody tr th:only-of-type {\n",
       "        vertical-align: middle;\n",
       "    }\n",
       "\n",
       "    .dataframe tbody tr th {\n",
       "        vertical-align: top;\n",
       "    }\n",
       "\n",
       "    .dataframe thead th {\n",
       "        text-align: right;\n",
       "    }\n",
       "</style>\n",
       "<table border=\"1\" class=\"dataframe\">\n",
       "  <thead>\n",
       "    <tr style=\"text-align: right;\">\n",
       "      <th></th>\n",
       "      <th>user_id</th>\n",
       "      <th>Products_as_per_txn_order_hist_baskets</th>\n",
       "      <th>within_decay_rate_list</th>\n",
       "      <th>length</th>\n",
       "    </tr>\n",
       "  </thead>\n",
       "  <tbody>\n",
       "    <tr>\n",
       "      <th>0</th>\n",
       "      <td>1</td>\n",
       "      <td>[[0, 1, 2], [3, 4, 5, 6, 7], [8], [9, 10], [11...</td>\n",
       "      <td>[[0.2824295364810001, 0.2824295364810001, 0.28...</td>\n",
       "      <td>13</td>\n",
       "    </tr>\n",
       "    <tr>\n",
       "      <th>1</th>\n",
       "      <td>2</td>\n",
       "      <td>[[50, 51, 52, 53, 54, 55, 56, 57, 58, 59, 60, ...</td>\n",
       "      <td>[[0.0, 0.0, 0.0, 0.0, 0.0, 0.0, 0.0, 0.0, 0.0,...</td>\n",
       "      <td>15</td>\n",
       "    </tr>\n",
       "    <tr>\n",
       "      <th>2</th>\n",
       "      <td>3</td>\n",
       "      <td>[[148, 149, 122, 150], [151, 152], [151, 153],...</td>\n",
       "      <td>[[0.0, 0.0, 0.0, 0.0, 0.0, 0.0, 0.0, 0.0, 0.0,...</td>\n",
       "      <td>9</td>\n",
       "    </tr>\n",
       "    <tr>\n",
       "      <th>3</th>\n",
       "      <td>4</td>\n",
       "      <td>[[173, 174, 175, 176, 177, 178, 179, 180, 181,...</td>\n",
       "      <td>[[0.0, 0.0, 0.0, 0.0, 0.0, 0.0, 0.0, 0.0, 0.0,...</td>\n",
       "      <td>14</td>\n",
       "    </tr>\n",
       "    <tr>\n",
       "      <th>4</th>\n",
       "      <td>5</td>\n",
       "      <td>[[227, 228, 229, 50], [230, 231], [232], [233,...</td>\n",
       "      <td>[[0.0, 0.0, 0.0, 0.0, 0.0, 0.0, 0.0, 0.0, 0.0,...</td>\n",
       "      <td>14</td>\n",
       "    </tr>\n",
       "  </tbody>\n",
       "</table>\n",
       "</div>"
      ],
      "text/plain": [
       "   user_id             Products_as_per_txn_order_hist_baskets  \\\n",
       "0        1  [[0, 1, 2], [3, 4, 5, 6, 7], [8], [9, 10], [11...   \n",
       "1        2  [[50, 51, 52, 53, 54, 55, 56, 57, 58, 59, 60, ...   \n",
       "2        3  [[148, 149, 122, 150], [151, 152], [151, 153],...   \n",
       "3        4  [[173, 174, 175, 176, 177, 178, 179, 180, 181,...   \n",
       "4        5  [[227, 228, 229, 50], [230, 231], [232], [233,...   \n",
       "\n",
       "                              within_decay_rate_list  length  \n",
       "0  [[0.2824295364810001, 0.2824295364810001, 0.28...      13  \n",
       "1  [[0.0, 0.0, 0.0, 0.0, 0.0, 0.0, 0.0, 0.0, 0.0,...      15  \n",
       "2  [[0.0, 0.0, 0.0, 0.0, 0.0, 0.0, 0.0, 0.0, 0.0,...       9  \n",
       "3  [[0.0, 0.0, 0.0, 0.0, 0.0, 0.0, 0.0, 0.0, 0.0,...      14  \n",
       "4  [[0.0, 0.0, 0.0, 0.0, 0.0, 0.0, 0.0, 0.0, 0.0,...      14  "
      ]
     },
     "execution_count": 23,
     "metadata": {},
     "output_type": "execute_result"
    }
   ],
   "source": [
    "df_hist.head()"
   ]
  },
  {
   "cell_type": "code",
   "execution_count": 63,
   "metadata": {
    "application/vnd.databricks.v1+cell": {
     "cellMetadata": {
      "byteLimit": 2048000,
      "rowLimit": 10000
     },
     "inputWidgets": {},
     "nuid": "fe13227f-a793-40e0-be73-b8500c027af1",
     "showTitle": false,
     "tableResultSettingsMap": {},
     "title": ""
    },
    "colab": {
     "base_uri": "https://localhost:8080/",
     "height": 206
    },
    "executionInfo": {
     "elapsed": 1240,
     "status": "ok",
     "timestamp": 1722325571062,
     "user": {
      "displayName": "ashis kumar",
      "userId": "11359412875664137523"
     },
     "user_tz": -330
    },
    "id": "XoJYGO70TnSU",
    "outputId": "b1ee5991-f48d-416c-d59f-d2e7768d81fa"
   },
   "outputs": [
    {
     "data": {
      "text/html": [
       "<div>\n",
       "<style scoped>\n",
       "    .dataframe tbody tr th:only-of-type {\n",
       "        vertical-align: middle;\n",
       "    }\n",
       "\n",
       "    .dataframe tbody tr th {\n",
       "        vertical-align: top;\n",
       "    }\n",
       "\n",
       "    .dataframe thead th {\n",
       "        text-align: right;\n",
       "    }\n",
       "</style>\n",
       "<table border=\"1\" class=\"dataframe\">\n",
       "  <thead>\n",
       "    <tr style=\"text-align: right;\">\n",
       "      <th></th>\n",
       "      <th>user_id</th>\n",
       "      <th>Products_as_per_txn_order_hist_baskets</th>\n",
       "      <th>within_decay_rate_list</th>\n",
       "      <th>length</th>\n",
       "    </tr>\n",
       "  </thead>\n",
       "  <tbody>\n",
       "    <tr>\n",
       "      <th>0</th>\n",
       "      <td>10045</td>\n",
       "      <td>[[110, 1894, 1532, 168, 6783, 5087, 1441, 50, ...</td>\n",
       "      <td>[[0.0, 0.0, 0.0, 0.0, 0.0, 0.0, 0.0, 0.0, 0.0,...</td>\n",
       "      <td>2</td>\n",
       "    </tr>\n",
       "    <tr>\n",
       "      <th>1</th>\n",
       "      <td>10046</td>\n",
       "      <td>[[2471, 1169, 6647, 732, 491, 5823, 390, 99, 1...</td>\n",
       "      <td>[[0.0, 0.0, 0.0, 0.0, 0.81, 0.0, 0.0, 0.0, 0.0...</td>\n",
       "      <td>3</td>\n",
       "    </tr>\n",
       "    <tr>\n",
       "      <th>2</th>\n",
       "      <td>10047</td>\n",
       "      <td>[[2172, 7461, 1186, 9474, 1743, 8229, 8568, 38...</td>\n",
       "      <td>[[0.0, 0.0, 0.0, 0.0, 0.0, 0.0, 0.0, 0.0, 0.0,...</td>\n",
       "      <td>7</td>\n",
       "    </tr>\n",
       "    <tr>\n",
       "      <th>3</th>\n",
       "      <td>10048</td>\n",
       "      <td>[[4274, 9, 2588, 2251, 17, 1245, 6524, 7574, 8...</td>\n",
       "      <td>[[0.9, 0.0, 0.0, 0.0, 0.0, 0.0, 0.0, 0.0, 0.0,...</td>\n",
       "      <td>2</td>\n",
       "    </tr>\n",
       "    <tr>\n",
       "      <th>4</th>\n",
       "      <td>10049</td>\n",
       "      <td>[[1356, 1910, 144, 1743], [8071, 1356, 3113, 2...</td>\n",
       "      <td>[[0.0, 0.0, 0.0, 0.0, 0.0, 0.0, 0.0, 0.0, 0.0,...</td>\n",
       "      <td>3</td>\n",
       "    </tr>\n",
       "  </tbody>\n",
       "</table>\n",
       "</div>"
      ],
      "text/plain": [
       "   user_id             Products_as_per_txn_order_hist_baskets  \\\n",
       "0    10045  [[110, 1894, 1532, 168, 6783, 5087, 1441, 50, ...   \n",
       "1    10046  [[2471, 1169, 6647, 732, 491, 5823, 390, 99, 1...   \n",
       "2    10047  [[2172, 7461, 1186, 9474, 1743, 8229, 8568, 38...   \n",
       "3    10048  [[4274, 9, 2588, 2251, 17, 1245, 6524, 7574, 8...   \n",
       "4    10049  [[1356, 1910, 144, 1743], [8071, 1356, 3113, 2...   \n",
       "\n",
       "                              within_decay_rate_list  length  \n",
       "0  [[0.0, 0.0, 0.0, 0.0, 0.0, 0.0, 0.0, 0.0, 0.0,...       2  \n",
       "1  [[0.0, 0.0, 0.0, 0.0, 0.81, 0.0, 0.0, 0.0, 0.0...       3  \n",
       "2  [[0.0, 0.0, 0.0, 0.0, 0.0, 0.0, 0.0, 0.0, 0.0,...       7  \n",
       "3  [[0.9, 0.0, 0.0, 0.0, 0.0, 0.0, 0.0, 0.0, 0.0,...       2  \n",
       "4  [[0.0, 0.0, 0.0, 0.0, 0.0, 0.0, 0.0, 0.0, 0.0,...       3  "
      ]
     },
     "execution_count": 63,
     "metadata": {},
     "output_type": "execute_result"
    }
   ],
   "source": [
    "df_fut.head()"
   ]
  },
  {
   "cell_type": "code",
   "execution_count": 24,
   "metadata": {
    "application/vnd.databricks.v1+cell": {
     "cellMetadata": {
      "byteLimit": 2048000,
      "rowLimit": 10000
     },
     "inputWidgets": {},
     "nuid": "9b8dbd5f-2c40-4b04-a448-c302789ef9c3",
     "showTitle": false,
     "tableResultSettingsMap": {},
     "title": ""
    },
    "colab": {
     "base_uri": "https://localhost:8080/"
    },
    "executionInfo": {
     "elapsed": 941,
     "status": "ok",
     "timestamp": 1722325905468,
     "user": {
      "displayName": "ashis kumar",
      "userId": "11359412875664137523"
     },
     "user_tz": -330
    },
    "id": "JfgYvGliTnSV",
    "outputId": "42d2f115-d7bc-42fc-ab1e-bd4052b2e100",
    "scrolled": true
   },
   "outputs": [],
   "source": [
    "gp_size=7\n",
    "df_hist['Group_size']=gp_size\n",
    "df_hist['Approx_number_of_group']=df_hist['length']/df_hist['Group_size']\n",
    "df_hist['Residual']=df_hist['Approx_number_of_group']-df_hist['Group_size']\n",
    "df_hist['Flag']=df_hist.apply(lambda x:1 if ((x['length']%x['Group_size']==0 ) & (x['length']>=x['Group_size'])) else \\\n",
    "                              (2 if (x['length']<x['Group_size']) else 3),axis=1)\n",
    "# ----------------------------------------------------------------------------------------------------------\n",
    "df_fut['Group_size']=gp_size\n",
    "df_fut['Approx_number_of_group']=df_fut['length']/df_fut['Group_size']\n",
    "df_fut['Residual']=df_fut['Approx_number_of_group']-df_fut['Group_size']\n",
    "df_fut['Flag']=df_fut.apply(lambda x:1 if ((x['length']%x['Group_size']==0 ) & (x['length']>=x['Group_size'])) else \\\n",
    "                              (2 if (x['length']<x['Group_size']) else 3),axis=1)\n",
    "# Flag 1 ==> no of transactions are exactly divisible by number of group\n",
    "# Flag 2 ==> no of transactions is less than  number of group\n",
    "# Flag 3 ==> no of transactions are not divisible by number of group"
   ]
  },
  {
   "cell_type": "code",
   "execution_count": 30,
   "metadata": {
    "application/vnd.databricks.v1+cell": {
     "cellMetadata": {
      "byteLimit": 2048000,
      "rowLimit": 10000
     },
     "inputWidgets": {},
     "nuid": "fa61f894-54f3-49dc-a5ca-38066e81f115",
     "showTitle": false,
     "tableResultSettingsMap": {},
     "title": ""
    },
    "id": "oqoSs5f9TnSW"
   },
   "outputs": [
    {
     "data": {
      "text/html": [
       "<div>\n",
       "<style scoped>\n",
       "    .dataframe tbody tr th:only-of-type {\n",
       "        vertical-align: middle;\n",
       "    }\n",
       "\n",
       "    .dataframe tbody tr th {\n",
       "        vertical-align: top;\n",
       "    }\n",
       "\n",
       "    .dataframe thead th {\n",
       "        text-align: right;\n",
       "    }\n",
       "</style>\n",
       "<table border=\"1\" class=\"dataframe\">\n",
       "  <thead>\n",
       "    <tr style=\"text-align: right;\">\n",
       "      <th></th>\n",
       "      <th>user_id</th>\n",
       "      <th>Products_as_per_txn_order_hist_baskets</th>\n",
       "      <th>within_decay_rate_list</th>\n",
       "      <th>length</th>\n",
       "      <th>Group_size</th>\n",
       "      <th>Approx_number_of_group</th>\n",
       "      <th>Residual</th>\n",
       "      <th>Flag</th>\n",
       "    </tr>\n",
       "  </thead>\n",
       "  <tbody>\n",
       "    <tr>\n",
       "      <th>44</th>\n",
       "      <td>46</td>\n",
       "      <td>[[1194, 2259, 2260, 2261, 56, 2262, 2263, 2264...</td>\n",
       "      <td>[[0.0, 0.0, 0.0, 0.0, 0.0, 0.0, 0.0, 0.0, 0.0,...</td>\n",
       "      <td>3</td>\n",
       "      <td>7</td>\n",
       "      <td>0.428571</td>\n",
       "      <td>-6.571429</td>\n",
       "      <td>2</td>\n",
       "    </tr>\n",
       "    <tr>\n",
       "      <th>97</th>\n",
       "      <td>102</td>\n",
       "      <td>[[365, 1293, 3902, 469, 331, 1856, 3903, 2415,...</td>\n",
       "      <td>[[0.0, 0.81, 0.0, 0.0, 0.0, 0.0, 0.0, 0.0, 0.0...</td>\n",
       "      <td>3</td>\n",
       "      <td>7</td>\n",
       "      <td>0.428571</td>\n",
       "      <td>-6.571429</td>\n",
       "      <td>2</td>\n",
       "    </tr>\n",
       "  </tbody>\n",
       "</table>\n",
       "</div>"
      ],
      "text/plain": [
       "    user_id             Products_as_per_txn_order_hist_baskets  \\\n",
       "44       46  [[1194, 2259, 2260, 2261, 56, 2262, 2263, 2264...   \n",
       "97      102  [[365, 1293, 3902, 469, 331, 1856, 3903, 2415,...   \n",
       "\n",
       "                               within_decay_rate_list  length  Group_size  \\\n",
       "44  [[0.0, 0.0, 0.0, 0.0, 0.0, 0.0, 0.0, 0.0, 0.0,...       3           7   \n",
       "97  [[0.0, 0.81, 0.0, 0.0, 0.0, 0.0, 0.0, 0.0, 0.0...       3           7   \n",
       "\n",
       "    Approx_number_of_group  Residual  Flag  \n",
       "44                0.428571 -6.571429     2  \n",
       "97                0.428571 -6.571429     2  "
      ]
     },
     "execution_count": 30,
     "metadata": {},
     "output_type": "execute_result"
    }
   ],
   "source": [
    "# 13,3,14\n",
    "df_hist[df_hist['length']==3].head()"
   ]
  },
  {
   "cell_type": "code",
   "execution_count": 27,
   "metadata": {
    "application/vnd.databricks.v1+cell": {
     "cellMetadata": {
      "byteLimit": 2048000,
      "rowLimit": 10000
     },
     "inputWidgets": {},
     "nuid": "734dde5a-ddf1-4a0a-a58a-0c76a76ce77a",
     "showTitle": false,
     "tableResultSettingsMap": {},
     "title": ""
    },
    "id": "wq0nB3egTnSZ"
   },
   "outputs": [],
   "source": [
    "# Flag 1 ==> no of transactions are exactly divisible by number of group\n",
    "# Flag 2 ==> no of transactions is less than  number of group\n",
    "# Flag 3 ==> no of transactions are not divisible by number of group"
   ]
  },
  {
   "cell_type": "code",
   "execution_count": 28,
   "metadata": {
    "application/vnd.databricks.v1+cell": {
     "cellMetadata": {
      "byteLimit": 2048000,
      "rowLimit": 10000
     },
     "inputWidgets": {},
     "nuid": "cf3a0c96-e76e-4949-abdc-c1421d42544b",
     "showTitle": false,
     "tableResultSettingsMap": {},
     "title": ""
    },
    "id": "qN_ney-ptcPN"
   },
   "outputs": [],
   "source": [
    "# df_hist.head()"
   ]
  },
  {
   "cell_type": "code",
   "execution_count": 29,
   "metadata": {
    "application/vnd.databricks.v1+cell": {
     "cellMetadata": {
      "byteLimit": 2048000,
      "rowLimit": 10000
     },
     "inputWidgets": {},
     "nuid": "8fd342d7-854b-432f-bbf9-583868d5a884",
     "showTitle": false,
     "tableResultSettingsMap": {},
     "title": ""
    },
    "id": "DyUf6ElktkkF"
   },
   "outputs": [
    {
     "data": {
      "text/html": [
       "<div>\n",
       "<style scoped>\n",
       "    .dataframe tbody tr th:only-of-type {\n",
       "        vertical-align: middle;\n",
       "    }\n",
       "\n",
       "    .dataframe tbody tr th {\n",
       "        vertical-align: top;\n",
       "    }\n",
       "\n",
       "    .dataframe thead th {\n",
       "        text-align: right;\n",
       "    }\n",
       "</style>\n",
       "<table border=\"1\" class=\"dataframe\">\n",
       "  <thead>\n",
       "    <tr style=\"text-align: right;\">\n",
       "      <th></th>\n",
       "      <th>user_id</th>\n",
       "      <th>Products_as_per_txn_order_hist_baskets</th>\n",
       "      <th>within_decay_rate_list</th>\n",
       "      <th>length</th>\n",
       "      <th>Group_size</th>\n",
       "      <th>Approx_number_of_group</th>\n",
       "      <th>Residual</th>\n",
       "      <th>Flag</th>\n",
       "    </tr>\n",
       "  </thead>\n",
       "  <tbody>\n",
       "    <tr>\n",
       "      <th>0</th>\n",
       "      <td>1</td>\n",
       "      <td>[[0, 1, 2], [3, 4, 5, 6, 7], [8], [9, 10], [11...</td>\n",
       "      <td>[[0.2824295364810001, 0.2824295364810001, 0.28...</td>\n",
       "      <td>13</td>\n",
       "      <td>7</td>\n",
       "      <td>1.857143</td>\n",
       "      <td>-5.142857</td>\n",
       "      <td>3</td>\n",
       "    </tr>\n",
       "    <tr>\n",
       "      <th>1</th>\n",
       "      <td>2</td>\n",
       "      <td>[[50, 51, 52, 53, 54, 55, 56, 57, 58, 59, 60, ...</td>\n",
       "      <td>[[0.0, 0.0, 0.0, 0.0, 0.0, 0.0, 0.0, 0.0, 0.0,...</td>\n",
       "      <td>15</td>\n",
       "      <td>7</td>\n",
       "      <td>2.142857</td>\n",
       "      <td>-4.857143</td>\n",
       "      <td>3</td>\n",
       "    </tr>\n",
       "    <tr>\n",
       "      <th>2</th>\n",
       "      <td>3</td>\n",
       "      <td>[[148, 149, 122, 150], [151, 152], [151, 153],...</td>\n",
       "      <td>[[0.0, 0.0, 0.0, 0.0, 0.0, 0.0, 0.0, 0.0, 0.0,...</td>\n",
       "      <td>9</td>\n",
       "      <td>7</td>\n",
       "      <td>1.285714</td>\n",
       "      <td>-5.714286</td>\n",
       "      <td>3</td>\n",
       "    </tr>\n",
       "    <tr>\n",
       "      <th>3</th>\n",
       "      <td>4</td>\n",
       "      <td>[[173, 174, 175, 176, 177, 178, 179, 180, 181,...</td>\n",
       "      <td>[[0.0, 0.0, 0.0, 0.0, 0.0, 0.0, 0.0, 0.0, 0.0,...</td>\n",
       "      <td>14</td>\n",
       "      <td>7</td>\n",
       "      <td>2.000000</td>\n",
       "      <td>-5.000000</td>\n",
       "      <td>1</td>\n",
       "    </tr>\n",
       "    <tr>\n",
       "      <th>4</th>\n",
       "      <td>5</td>\n",
       "      <td>[[227, 228, 229, 50], [230, 231], [232], [233,...</td>\n",
       "      <td>[[0.0, 0.0, 0.0, 0.0, 0.0, 0.0, 0.0, 0.0, 0.0,...</td>\n",
       "      <td>14</td>\n",
       "      <td>7</td>\n",
       "      <td>2.000000</td>\n",
       "      <td>-5.000000</td>\n",
       "      <td>1</td>\n",
       "    </tr>\n",
       "    <tr>\n",
       "      <th>...</th>\n",
       "      <td>...</td>\n",
       "      <td>...</td>\n",
       "      <td>...</td>\n",
       "      <td>...</td>\n",
       "      <td>...</td>\n",
       "      <td>...</td>\n",
       "      <td>...</td>\n",
       "      <td>...</td>\n",
       "    </tr>\n",
       "    <tr>\n",
       "      <th>91</th>\n",
       "      <td>95</td>\n",
       "      <td>[[50, 1181, 2858], [3659, 3660], [3661], [3662...</td>\n",
       "      <td>[[0.0, 0.0, 0.0, 0.0, 0.0, 0.0, 0.0, 0.0, 0.0,...</td>\n",
       "      <td>10</td>\n",
       "      <td>7</td>\n",
       "      <td>1.428571</td>\n",
       "      <td>-5.571429</td>\n",
       "      <td>3</td>\n",
       "    </tr>\n",
       "    <tr>\n",
       "      <th>92</th>\n",
       "      <td>96</td>\n",
       "      <td>[[64, 60, 51, 1110], [3274], [50, 3677], [19],...</td>\n",
       "      <td>[[0.0, 0.0, 0.0, 0.0, 0.0, 0.0, 0.0, 0.0, 0.0,...</td>\n",
       "      <td>11</td>\n",
       "      <td>7</td>\n",
       "      <td>1.571429</td>\n",
       "      <td>-5.428571</td>\n",
       "      <td>3</td>\n",
       "    </tr>\n",
       "    <tr>\n",
       "      <th>95</th>\n",
       "      <td>99</td>\n",
       "      <td>[[1553], [279, 1116, 3481, 469, 2710], [1382, ...</td>\n",
       "      <td>[[0.0, 0.0, 0.0, 0.0, 0.0, 0.0, 0.0, 0.0, 0.0,...</td>\n",
       "      <td>31</td>\n",
       "      <td>7</td>\n",
       "      <td>4.428571</td>\n",
       "      <td>-2.571429</td>\n",
       "      <td>3</td>\n",
       "    </tr>\n",
       "    <tr>\n",
       "      <th>96</th>\n",
       "      <td>100</td>\n",
       "      <td>[[2921, 613, 701, 3258, 1397, 1901, 410, 2664,...</td>\n",
       "      <td>[[0.0, 0.0, 0.0, 0.0, 0.0, 0.0, 0.0, 0.0, 0.0,...</td>\n",
       "      <td>42</td>\n",
       "      <td>7</td>\n",
       "      <td>6.000000</td>\n",
       "      <td>-1.000000</td>\n",
       "      <td>1</td>\n",
       "    </tr>\n",
       "    <tr>\n",
       "      <th>98</th>\n",
       "      <td>103</td>\n",
       "      <td>[[730, 3909, 1946, 3017, 704, 1079, 707, 3910]...</td>\n",
       "      <td>[[0.0, 0.0, 0.0, 0.0, 0.0, 0.0, 0.0, 0.0, 0.0,...</td>\n",
       "      <td>11</td>\n",
       "      <td>7</td>\n",
       "      <td>1.571429</td>\n",
       "      <td>-5.428571</td>\n",
       "      <td>3</td>\n",
       "    </tr>\n",
       "  </tbody>\n",
       "</table>\n",
       "<p>83 rows × 8 columns</p>\n",
       "</div>"
      ],
      "text/plain": [
       "    user_id             Products_as_per_txn_order_hist_baskets  \\\n",
       "0         1  [[0, 1, 2], [3, 4, 5, 6, 7], [8], [9, 10], [11...   \n",
       "1         2  [[50, 51, 52, 53, 54, 55, 56, 57, 58, 59, 60, ...   \n",
       "2         3  [[148, 149, 122, 150], [151, 152], [151, 153],...   \n",
       "3         4  [[173, 174, 175, 176, 177, 178, 179, 180, 181,...   \n",
       "4         5  [[227, 228, 229, 50], [230, 231], [232], [233,...   \n",
       "..      ...                                                ...   \n",
       "91       95  [[50, 1181, 2858], [3659, 3660], [3661], [3662...   \n",
       "92       96  [[64, 60, 51, 1110], [3274], [50, 3677], [19],...   \n",
       "95       99  [[1553], [279, 1116, 3481, 469, 2710], [1382, ...   \n",
       "96      100  [[2921, 613, 701, 3258, 1397, 1901, 410, 2664,...   \n",
       "98      103  [[730, 3909, 1946, 3017, 704, 1079, 707, 3910]...   \n",
       "\n",
       "                               within_decay_rate_list  length  Group_size  \\\n",
       "0   [[0.2824295364810001, 0.2824295364810001, 0.28...      13           7   \n",
       "1   [[0.0, 0.0, 0.0, 0.0, 0.0, 0.0, 0.0, 0.0, 0.0,...      15           7   \n",
       "2   [[0.0, 0.0, 0.0, 0.0, 0.0, 0.0, 0.0, 0.0, 0.0,...       9           7   \n",
       "3   [[0.0, 0.0, 0.0, 0.0, 0.0, 0.0, 0.0, 0.0, 0.0,...      14           7   \n",
       "4   [[0.0, 0.0, 0.0, 0.0, 0.0, 0.0, 0.0, 0.0, 0.0,...      14           7   \n",
       "..                                                ...     ...         ...   \n",
       "91  [[0.0, 0.0, 0.0, 0.0, 0.0, 0.0, 0.0, 0.0, 0.0,...      10           7   \n",
       "92  [[0.0, 0.0, 0.0, 0.0, 0.0, 0.0, 0.0, 0.0, 0.0,...      11           7   \n",
       "95  [[0.0, 0.0, 0.0, 0.0, 0.0, 0.0, 0.0, 0.0, 0.0,...      31           7   \n",
       "96  [[0.0, 0.0, 0.0, 0.0, 0.0, 0.0, 0.0, 0.0, 0.0,...      42           7   \n",
       "98  [[0.0, 0.0, 0.0, 0.0, 0.0, 0.0, 0.0, 0.0, 0.0,...      11           7   \n",
       "\n",
       "    Approx_number_of_group  Residual  Flag  \n",
       "0                 1.857143 -5.142857     3  \n",
       "1                 2.142857 -4.857143     3  \n",
       "2                 1.285714 -5.714286     3  \n",
       "3                 2.000000 -5.000000     1  \n",
       "4                 2.000000 -5.000000     1  \n",
       "..                     ...       ...   ...  \n",
       "91                1.428571 -5.571429     3  \n",
       "92                1.571429 -5.428571     3  \n",
       "95                4.428571 -2.571429     3  \n",
       "96                6.000000 -1.000000     1  \n",
       "98                1.571429 -5.428571     3  \n",
       "\n",
       "[83 rows x 8 columns]"
      ]
     },
     "execution_count": 29,
     "metadata": {},
     "output_type": "execute_result"
    }
   ],
   "source": [
    "df_hist[df_hist['length']>=7]"
   ]
  },
  {
   "cell_type": "markdown",
   "metadata": {},
   "source": [
    "### 2.2. Temporal Fracture Effect"
   ]
  },
  {
   "cell_type": "code",
   "execution_count": 52,
   "metadata": {
    "application/vnd.databricks.v1+cell": {
     "cellMetadata": {
      "byteLimit": 2048000,
      "rowLimit": 10000
     },
     "inputWidgets": {},
     "nuid": "04650766-1c1a-4760-b4b9-168cfc052538",
     "showTitle": false,
     "tableResultSettingsMap": {},
     "title": ""
    }
   },
   "outputs": [],
   "source": [
    "import math\n",
    "\n",
    "def grouping_txns_into_gp_size(within_decay_rate_list,flag):\n",
    "    if flag==1:\n",
    "        # print(f\"Number of transactions : {len(within_decay_rate_list)} to be divided into {gp_size} groups\")\n",
    "        all_txns_array=np.array(within_decay_rate_list)\n",
    "        # print(f\"all_txns_array.shape : {all_txns_array.shape}\")\n",
    "\n",
    "        all_txns_array1=all_txns_array.reshape(gp_size,-1,len(within_decay_rate_list[0]))\n",
    "        # print(f\"all_txns_array1.shape : {all_txns_array1.shape} and individual shape is : {all_txns_array1.shape[0]} , {all_txns_array1.shape[1]}, {all_txns_array1.shape[2]}\")\n",
    "        # print(f\"To be normalised on {all_txns_array1.shape[1]}\")\n",
    "        group_sums = np.sum(all_txns_array1, axis=1)/ all_txns_array1.shape[1]\n",
    "        group_sums=group_sums.reshape(gp_size,1,-1)\n",
    "        # print(f\"group_sums after Addition and Normalisation are {group_sums.shape}\")\n",
    "\n",
    "        return group_sums,group_sums.shape[0]\n",
    "    elif flag==2:\n",
    "        group_sums=np.array(within_decay_rate_list).reshape(len(within_decay_rate_list),1,-1)\n",
    "        # print(f\"group_sums:{group_sums}\")\n",
    "        # print(f\"Length of within_decay_rate_list is:{len(within_decay_rate_list)} & group_sums.shape: {group_sums.shape}\")\n",
    "\n",
    "        return group_sums,group_sums.shape[0]\n",
    "    elif flag==3:\n",
    "        est_num_vec_each_block = len(within_decay_rate_list)/gp_size\n",
    "        base_num_vec_each_block = int(np.floor(len(within_decay_rate_list)/gp_size))\n",
    "        residual = est_num_vec_each_block - base_num_vec_each_block\n",
    "        num_vec_has_extra_vec = int(np.round(residual * gp_size))\n",
    "        # print(f\"est_num_vec_each_block:{est_num_vec_each_block}\")\n",
    "        # print(f\"base_num_vec_each_block:{base_num_vec_each_block}\")\n",
    "        # print(f\"residual:{residual}\")\n",
    "        # print(f\"num_vec_has_extra_vec:{num_vec_has_extra_vec}\")\n",
    "\n",
    "        first_few_groups=gp_size-num_vec_has_extra_vec\n",
    "        # print(f\"first_few_groups:{first_few_groups} where each group should have {base_num_vec_each_block} elements\")\n",
    "        total_no_elements_first_few_gps=first_few_groups*base_num_vec_each_block\n",
    "        # print(f\"total_no_elements_first_few_gps:{total_no_elements_first_few_gps}\")\n",
    "        # print(f\"within_decay_rate_list:{np.array(within_decay_rate_list).shape}\")\n",
    "        all_txns_array_first_few=np.array(within_decay_rate_list[:total_no_elements_first_few_gps])\n",
    "        all_txns_array_first_few1=all_txns_array_first_few.reshape(first_few_groups,-1,item_num)\n",
    "        # print(all_txns_array_first_few1.shape)\n",
    "        all_txns_array_first_few2=np.sum(all_txns_array_first_few1,axis=1)/base_num_vec_each_block\n",
    "        # print(all_txns_array_first_few2.shape)\n",
    "\n",
    "        est_num = int(np.ceil(est_num_vec_each_block))\n",
    "        # print(f\"est_num:{est_num}\")\n",
    "        all_txns_array_rest=np.array(within_decay_rate_list[total_no_elements_first_few_gps:])\n",
    "        # print(f\"all_txns_array_rest:{all_txns_array_rest.shape}\")\n",
    "        numbers_of_gps_left=gp_size-first_few_groups\n",
    "        # print(f\"numbers_of_gps_left to be created :{numbers_of_gps_left} and divide {est_num} elements\")\n",
    "        all_txns_array_rest_left=all_txns_array_rest.reshape(numbers_of_gps_left,-1,item_num)\n",
    "        # print(all_txns_array_rest_left.shape)\n",
    "        all_txns_array_rest_left2=np.sum(all_txns_array_rest_left,axis=1)/est_num\n",
    "        # print(f\"all_txns_array_rest_left2:{all_txns_array_rest_left2.shape}\")\n",
    "        final_arrays=np.concatenate((all_txns_array_first_few2,all_txns_array_rest_left2),axis=0).reshape(-1,1,item_num)\n",
    "        # print(f\"final_arrays:{final_arrays.shape}\")\n",
    "        return final_arrays,final_arrays.shape[0]"
   ]
  },
  {
   "cell_type": "code",
   "execution_count": 44,
   "metadata": {},
   "outputs": [],
   "source": [
    "df_hist.loc[df_hist['user_id']==2]['Flag'].values[0]"
   ]
  },
  {
   "cell_type": "code",
   "execution_count": 48,
   "metadata": {
    "application/vnd.databricks.v1+cell": {
     "cellMetadata": {
      "byteLimit": 2048000,
      "rowLimit": 10000
     },
     "inputWidgets": {},
     "nuid": "67978dea-0816-4d3d-a9d9-d0e13e5a3322",
     "showTitle": false,
     "tableResultSettingsMap": {},
     "title": ""
    },
    "scrolled": true
   },
   "outputs": [
    {
     "name": "stdout",
     "output_type": "stream",
     "text": [
      "Flag 3 ==> no of transactions are not divisible by number of group... where length of txns is 15 & gp_size:7\n",
      "est_num_vec_each_block:2.142857142857143\n",
      "base_num_vec_each_block:2\n",
      "residual:0.1428571428571428\n",
      "num_vec_has_extra_vec:1\n",
      "first_few_groups:6 where each group should have 2 elements\n",
      "total_no_elements_first_few_gps:12\n",
      "within_decay_rate_list:(15, 11997) \n",
      "(6, 2, 11997) \n",
      " [[[0. 0. 0. ... 0. 0. 0.]\n",
      "  [0. 0. 0. ... 0. 0. 0.]]\n",
      "\n",
      " [[0. 0. 0. ... 0. 0. 0.]\n",
      "  [0. 0. 0. ... 0. 0. 0.]]\n",
      "\n",
      " [[0. 0. 0. ... 0. 0. 0.]\n",
      "  [0. 0. 0. ... 0. 0. 0.]]\n",
      "\n",
      " [[0. 0. 0. ... 0. 0. 0.]\n",
      "  [0. 0. 0. ... 0. 0. 0.]]\n",
      "\n",
      " [[0. 0. 0. ... 0. 0. 0.]\n",
      "  [0. 0. 0. ... 0. 0. 0.]]\n",
      "\n",
      " [[0. 0. 0. ... 0. 0. 0.]\n",
      "  [0. 0. 0. ... 0. 0. 0.]]]\n",
      "To be normalised on 2\n",
      "---------> (6, 11997) <---------\n",
      "est_num:3\n",
      "all_txns_array_rest:(3, 11997)\n",
      "numbers_of_gps_left to be created :1 and in each group we will have  3 transactions\n",
      "(1, 3, 11997) \n",
      " [[[0. 0. 0. ... 0. 0. 0.]\n",
      "  [0. 0. 0. ... 0. 0. 0.]\n",
      "  [0. 0. 0. ... 0. 0. 0.]]]\n",
      "To be normalised on 3\n",
      "--------->all_txns_array_rest_left2:(1, 11997) <---------\n",
      " --------->############ final_arrays:(7, 1, 11997) ############<---------\n"
     ]
    }
   ],
   "source": [
    "# 2=Flag 3\n",
    "# 4=Flag=1\n",
    "# 7=Flag=2\n",
    "uid=2\n",
    "final_arrays,_=grouping_txns_into_gp_size(df_hist.loc[df_hist['user_id']==uid]['within_decay_rate_list'].values[0],df_hist.loc[df_hist['user_id']==uid]['Flag'].values[0])"
   ]
  },
  {
   "cell_type": "code",
   "execution_count": 53,
   "metadata": {
    "application/vnd.databricks.v1+cell": {
     "cellMetadata": {
      "byteLimit": 2048000,
      "rowLimit": 10000
     },
     "inputWidgets": {},
     "nuid": "ac04c936-e641-4b38-b736-4725a6b3f59c",
     "showTitle": false,
     "tableResultSettingsMap": {},
     "title": ""
    },
    "colab": {
     "base_uri": "https://localhost:8080/"
    },
    "executionInfo": {
     "elapsed": 14,
     "status": "ok",
     "timestamp": 1722325910712,
     "user": {
      "displayName": "ashis kumar",
      "userId": "11359412875664137523"
     },
     "user_tz": -330
    },
    "id": "hsgNJQTaTnSf",
    "outputId": "9dea7f54-ca1f-425d-a224-230faca21e41"
   },
   "outputs": [],
   "source": [
    "df_hist[['txns_into_gp_size','condensed_length']]=df_hist.apply(lambda x:grouping_txns_into_gp_size(\n",
    "    x['within_decay_rate_list'],x['Flag']),axis=1,result_type='expand')\n",
    "\n",
    "df_fut[['txns_into_gp_size','condensed_length']]=df_fut.apply(lambda x:grouping_txns_into_gp_size(\n",
    "    x['within_decay_rate_list'],x['Flag']),axis=1,result_type='expand')\n"
   ]
  },
  {
   "cell_type": "code",
   "execution_count": 57,
   "metadata": {},
   "outputs": [
    {
     "data": {
      "text/html": [
       "<div>\n",
       "<style scoped>\n",
       "    .dataframe tbody tr th:only-of-type {\n",
       "        vertical-align: middle;\n",
       "    }\n",
       "\n",
       "    .dataframe tbody tr th {\n",
       "        vertical-align: top;\n",
       "    }\n",
       "\n",
       "    .dataframe thead th {\n",
       "        text-align: right;\n",
       "    }\n",
       "</style>\n",
       "<table border=\"1\" class=\"dataframe\">\n",
       "  <thead>\n",
       "    <tr style=\"text-align: right;\">\n",
       "      <th></th>\n",
       "      <th>user_id</th>\n",
       "      <th>Products_as_per_txn_order_hist_baskets</th>\n",
       "      <th>within_decay_rate_list</th>\n",
       "      <th>length</th>\n",
       "      <th>Group_size</th>\n",
       "      <th>Approx_number_of_group</th>\n",
       "      <th>Residual</th>\n",
       "      <th>Flag</th>\n",
       "      <th>txns_into_gp_size</th>\n",
       "      <th>condensed_length</th>\n",
       "    </tr>\n",
       "  </thead>\n",
       "  <tbody>\n",
       "    <tr>\n",
       "      <th>6</th>\n",
       "      <td>7</td>\n",
       "      <td>[[110, 305, 306, 218, 307], [308, 309, 310, 31...</td>\n",
       "      <td>[[0.0, 0.0, 0.0, 0.0, 0.0, 0.0, 0.0, 0.0, 0.0,...</td>\n",
       "      <td>4</td>\n",
       "      <td>7</td>\n",
       "      <td>0.571429</td>\n",
       "      <td>-6.428571</td>\n",
       "      <td>2</td>\n",
       "      <td>[[[0.0, 0.0, 0.0, 0.0, 0.0, 0.0, 0.0, 0.0, 0.0...</td>\n",
       "      <td>4</td>\n",
       "    </tr>\n",
       "    <tr>\n",
       "      <th>36</th>\n",
       "      <td>37</td>\n",
       "      <td>[[1901, 1175, 1902, 1903, 1408, 181, 1746, 143...</td>\n",
       "      <td>[[0.0, 0.0, 0.0, 0.0, 0.0, 0.0, 0.0, 0.0, 0.0,...</td>\n",
       "      <td>4</td>\n",
       "      <td>7</td>\n",
       "      <td>0.571429</td>\n",
       "      <td>-6.428571</td>\n",
       "      <td>2</td>\n",
       "      <td>[[[0.0, 0.0, 0.0, 0.0, 0.0, 0.0, 0.0, 0.0, 0.0...</td>\n",
       "      <td>4</td>\n",
       "    </tr>\n",
       "    <tr>\n",
       "      <th>43</th>\n",
       "      <td>45</td>\n",
       "      <td>[[469, 174, 2247, 1462, 2248, 2249, 1256, 198,...</td>\n",
       "      <td>[[0.0, 0.0, 0.0, 0.0, 0.0, 0.0, 0.0, 0.0, 0.0,...</td>\n",
       "      <td>4</td>\n",
       "      <td>7</td>\n",
       "      <td>0.571429</td>\n",
       "      <td>-6.428571</td>\n",
       "      <td>2</td>\n",
       "      <td>[[[0.0, 0.0, 0.0, 0.0, 0.0, 0.0, 0.0, 0.0, 0.0...</td>\n",
       "      <td>4</td>\n",
       "    </tr>\n",
       "    <tr>\n",
       "      <th>56</th>\n",
       "      <td>58</td>\n",
       "      <td>[[674, 2663, 347, 2664, 2665, 209, 2666], [266...</td>\n",
       "      <td>[[0.0, 0.0, 0.0, 0.0, 0.0, 0.0, 0.0, 0.0, 0.0,...</td>\n",
       "      <td>4</td>\n",
       "      <td>7</td>\n",
       "      <td>0.571429</td>\n",
       "      <td>-6.428571</td>\n",
       "      <td>2</td>\n",
       "      <td>[[[0.0, 0.0, 0.0, 0.0, 0.0, 0.0, 0.0, 0.0, 0.0...</td>\n",
       "      <td>4</td>\n",
       "    </tr>\n",
       "    <tr>\n",
       "      <th>57</th>\n",
       "      <td>59</td>\n",
       "      <td>[[880, 50], [1098, 2676], [2676, 2677, 1414, 2...</td>\n",
       "      <td>[[0.0, 0.0, 0.0, 0.0, 0.0, 0.0, 0.0, 0.0, 0.0,...</td>\n",
       "      <td>4</td>\n",
       "      <td>7</td>\n",
       "      <td>0.571429</td>\n",
       "      <td>-6.428571</td>\n",
       "      <td>2</td>\n",
       "      <td>[[[0.0, 0.0, 0.0, 0.0, 0.0, 0.0, 0.0, 0.0, 0.0...</td>\n",
       "      <td>4</td>\n",
       "    </tr>\n",
       "    <tr>\n",
       "      <th>68</th>\n",
       "      <td>71</td>\n",
       "      <td>[[3135], [3136, 3137, 3138], [2545, 3139, 3140...</td>\n",
       "      <td>[[0.0, 0.0, 0.0, 0.0, 0.0, 0.0, 0.0, 0.0, 0.0,...</td>\n",
       "      <td>4</td>\n",
       "      <td>7</td>\n",
       "      <td>0.571429</td>\n",
       "      <td>-6.428571</td>\n",
       "      <td>2</td>\n",
       "      <td>[[[0.0, 0.0, 0.0, 0.0, 0.0, 0.0, 0.0, 0.0, 0.0...</td>\n",
       "      <td>4</td>\n",
       "    </tr>\n",
       "    <tr>\n",
       "      <th>76</th>\n",
       "      <td>80</td>\n",
       "      <td>[[1330, 3312, 2766, 3313, 2917, 2717, 468, 613...</td>\n",
       "      <td>[[0.0, 0.0, 0.0, 0.0, 0.0, 0.0, 0.0, 0.0, 0.0,...</td>\n",
       "      <td>4</td>\n",
       "      <td>7</td>\n",
       "      <td>0.571429</td>\n",
       "      <td>-6.428571</td>\n",
       "      <td>2</td>\n",
       "      <td>[[[0.0, 0.0, 0.0, 0.0, 0.0, 0.0, 0.0, 0.0, 0.0...</td>\n",
       "      <td>4</td>\n",
       "    </tr>\n",
       "  </tbody>\n",
       "</table>\n",
       "</div>"
      ],
      "text/plain": [
       "    user_id             Products_as_per_txn_order_hist_baskets  \\\n",
       "6         7  [[110, 305, 306, 218, 307], [308, 309, 310, 31...   \n",
       "36       37  [[1901, 1175, 1902, 1903, 1408, 181, 1746, 143...   \n",
       "43       45  [[469, 174, 2247, 1462, 2248, 2249, 1256, 198,...   \n",
       "56       58  [[674, 2663, 347, 2664, 2665, 209, 2666], [266...   \n",
       "57       59  [[880, 50], [1098, 2676], [2676, 2677, 1414, 2...   \n",
       "68       71  [[3135], [3136, 3137, 3138], [2545, 3139, 3140...   \n",
       "76       80  [[1330, 3312, 2766, 3313, 2917, 2717, 468, 613...   \n",
       "\n",
       "                               within_decay_rate_list  length  Group_size  \\\n",
       "6   [[0.0, 0.0, 0.0, 0.0, 0.0, 0.0, 0.0, 0.0, 0.0,...       4           7   \n",
       "36  [[0.0, 0.0, 0.0, 0.0, 0.0, 0.0, 0.0, 0.0, 0.0,...       4           7   \n",
       "43  [[0.0, 0.0, 0.0, 0.0, 0.0, 0.0, 0.0, 0.0, 0.0,...       4           7   \n",
       "56  [[0.0, 0.0, 0.0, 0.0, 0.0, 0.0, 0.0, 0.0, 0.0,...       4           7   \n",
       "57  [[0.0, 0.0, 0.0, 0.0, 0.0, 0.0, 0.0, 0.0, 0.0,...       4           7   \n",
       "68  [[0.0, 0.0, 0.0, 0.0, 0.0, 0.0, 0.0, 0.0, 0.0,...       4           7   \n",
       "76  [[0.0, 0.0, 0.0, 0.0, 0.0, 0.0, 0.0, 0.0, 0.0,...       4           7   \n",
       "\n",
       "    Approx_number_of_group  Residual  Flag  \\\n",
       "6                 0.571429 -6.428571     2   \n",
       "36                0.571429 -6.428571     2   \n",
       "43                0.571429 -6.428571     2   \n",
       "56                0.571429 -6.428571     2   \n",
       "57                0.571429 -6.428571     2   \n",
       "68                0.571429 -6.428571     2   \n",
       "76                0.571429 -6.428571     2   \n",
       "\n",
       "                                    txns_into_gp_size  condensed_length  \n",
       "6   [[[0.0, 0.0, 0.0, 0.0, 0.0, 0.0, 0.0, 0.0, 0.0...                 4  \n",
       "36  [[[0.0, 0.0, 0.0, 0.0, 0.0, 0.0, 0.0, 0.0, 0.0...                 4  \n",
       "43  [[[0.0, 0.0, 0.0, 0.0, 0.0, 0.0, 0.0, 0.0, 0.0...                 4  \n",
       "56  [[[0.0, 0.0, 0.0, 0.0, 0.0, 0.0, 0.0, 0.0, 0.0...                 4  \n",
       "57  [[[0.0, 0.0, 0.0, 0.0, 0.0, 0.0, 0.0, 0.0, 0.0...                 4  \n",
       "68  [[[0.0, 0.0, 0.0, 0.0, 0.0, 0.0, 0.0, 0.0, 0.0...                 4  \n",
       "76  [[[0.0, 0.0, 0.0, 0.0, 0.0, 0.0, 0.0, 0.0, 0.0...                 4  "
      ]
     },
     "execution_count": 57,
     "metadata": {},
     "output_type": "execute_result"
    }
   ],
   "source": [
    "df_hist[df_hist['condensed_length']==4]"
   ]
  },
  {
   "cell_type": "markdown",
   "metadata": {
    "application/vnd.databricks.v1+cell": {
     "cellMetadata": {
      "byteLimit": 2048000,
      "rowLimit": 10000
     },
     "inputWidgets": {},
     "nuid": "affc9e3c-acc6-4010-ad85-37b33d26c44a",
     "showTitle": false,
     "tableResultSettingsMap": {},
     "title": ""
    },
    "executionInfo": {
     "elapsed": 423,
     "status": "ok",
     "timestamp": 1722329105954,
     "user": {
      "displayName": "ashis kumar",
      "userId": "11359412875664137523"
     },
     "user_tz": -330
    },
    "id": "THBNcNIOTnSg"
   },
   "source": [
    "### 2.3. group_decay_list"
   ]
  },
  {
   "cell_type": "code",
   "execution_count": 70,
   "metadata": {
    "application/vnd.databricks.v1+cell": {
     "cellMetadata": {
      "byteLimit": 2048000,
      "rowLimit": 10000
     },
     "inputWidgets": {},
     "nuid": "903d0e32-779a-4e23-bf49-d29bfba1085c",
     "showTitle": false,
     "tableResultSettingsMap": {},
     "title": ""
    },
    "executionInfo": {
     "elapsed": 3,
     "status": "ok",
     "timestamp": 1722329726639,
     "user": {
      "displayName": "ashis kumar",
      "userId": "11359412875664137523"
     },
     "user_tz": -330
    },
    "id": "lreKd96hl-dv"
   },
   "outputs": [],
   "source": [
    "def group_decay_list(Group_Decay_list,flag):\n",
    "  group_decay_rate = 0.7\n",
    "  # Define the list\n",
    "  # print(f\"Sum: {sum(Group_Decay_list[0].nonzero())},{sum(Group_Decay_list[1].nonzero())}\")\n",
    "\n",
    "  # print(f\"Group_Decay_list:{Group_Decay_list.shape}\")\n",
    "  # print(f\"Group_Decay_list: {Group_Decay_list}\")\n",
    "  # print(Group_Decay_list[::-1][0].nonzero(),Group_Decay_list[::-1][1].nonzero(),Group_Decay_list[::-1][2].nonzero())\n",
    "  # print(Group_Decay_list[::-1][0][Group_Decay_list[::-1][0].nonzero()],Group_Decay_list[::-1][1][Group_Decay_list[::-1][1].nonzero()],Group_Decay_list[::-1][2][Group_Decay_list[::-1][2].nonzero()])\n",
    "\n",
    "  rev_sorted_list_np = Group_Decay_list[::-1].reshape(len(Group_Decay_list),1,-1)\n",
    "  # print(f\"rev_sorted_list_np: \\n{rev_sorted_list_np.shape}\")\n",
    "  # print(rev_sorted_list_np[::-1][0][rev_sorted_list_np[::-1][0].nonzero()],rev_sorted_list_np[::-1][1][rev_sorted_list_np[::-1][1].nonzero()],rev_sorted_list_np[::-1][2][rev_sorted_list_np[::-1][2].nonzero()])\n",
    "  if flag==2:\n",
    "    group_decay_array=np.array([group_decay_rate**x for x in range(gp_size)][-len(rev_sorted_list_np):]).reshape(len(rev_sorted_list_np), 1, 1)\n",
    "  else:\n",
    "    group_decay_array=np.array([group_decay_rate**x for x in range(len(rev_sorted_list_np))]).reshape(len(rev_sorted_list_np), 1, 1)\n",
    "  # print(f\"group_decay_array:\\n {group_decay_array.shape} & {group_decay_array}\")\n",
    "  result = rev_sorted_list_np * group_decay_array\n",
    "  # print(f\"result.shape: {result.shape} & result is \\n {result[result.nonzero()]}\")\n",
    "  after_summingup=np.sum(result,axis=0)\n",
    "  # print(f\"After summin up result.shape: {after_summingup.shape} & result is \\n {after_summingup[after_summingup.nonzero()]}\")\n",
    "\n",
    "  result_sum=np.sum(result,axis=0)/result.shape[0]\n",
    "  # print(f\"result_sum.shape: {result_sum.shape}\")\n",
    "  # print(f\"result_sum non zero: {result_sum.nonzero()}\")\n",
    "  # print(f\"result_sum non zero values: {result_sum[result_sum.nonzero()]}\")\n",
    "\n",
    "  return result,result_sum[0]"
   ]
  },
  {
   "cell_type": "code",
   "execution_count": 73,
   "metadata": {
    "application/vnd.databricks.v1+cell": {
     "cellMetadata": {
      "byteLimit": 2048000,
      "rowLimit": 10000
     },
     "inputWidgets": {},
     "nuid": "f638d394-4e5b-4845-a2a7-67c462c765b7",
     "showTitle": false,
     "tableResultSettingsMap": {},
     "title": ""
    },
    "colab": {
     "base_uri": "https://localhost:8080/"
    },
    "executionInfo": {
     "elapsed": 4,
     "status": "ok",
     "timestamp": 1721739573994,
     "user": {
      "displayName": "ashis kumar",
      "userId": "11359412875664137523"
     },
     "user_tz": -330
    },
    "id": "JpbzjL02qZM-",
    "outputId": "522e94cb-ca65-4cb8-8145-b343b58df557"
   },
   "outputs": [],
   "source": [
    "df_hist[['Group_Decay_list','Final_list_vectors']]=df_hist.apply(lambda x:group_decay_list(x['txns_into_gp_size'],x['Flag']),axis=1,result_type='expand')\n",
    "df_fut[['Group_Decay_list','Final_list_vectors']]=df_fut.apply(lambda x:group_decay_list(x['txns_into_gp_size'],x['Flag']),axis=1,result_type='expand')\n",
    "# df_hist.head()"
   ]
  },
  {
   "cell_type": "code",
   "execution_count": 74,
   "metadata": {
    "application/vnd.databricks.v1+cell": {
     "cellMetadata": {
      "byteLimit": 2048000,
      "rowLimit": 10000
     },
     "inputWidgets": {},
     "nuid": "2a7ba910-8495-4af8-96c6-6e090964d274",
     "showTitle": false,
     "tableResultSettingsMap": {},
     "title": ""
    },
    "scrolled": true
   },
   "outputs": [
    {
     "data": {
      "text/html": [
       "<div>\n",
       "<style scoped>\n",
       "    .dataframe tbody tr th:only-of-type {\n",
       "        vertical-align: middle;\n",
       "    }\n",
       "\n",
       "    .dataframe tbody tr th {\n",
       "        vertical-align: top;\n",
       "    }\n",
       "\n",
       "    .dataframe thead th {\n",
       "        text-align: right;\n",
       "    }\n",
       "</style>\n",
       "<table border=\"1\" class=\"dataframe\">\n",
       "  <thead>\n",
       "    <tr style=\"text-align: right;\">\n",
       "      <th></th>\n",
       "      <th>user_id</th>\n",
       "      <th>Products_as_per_txn_order_hist_baskets</th>\n",
       "      <th>within_decay_rate_list</th>\n",
       "      <th>length</th>\n",
       "      <th>Group_size</th>\n",
       "      <th>Approx_number_of_group</th>\n",
       "      <th>Residual</th>\n",
       "      <th>Flag</th>\n",
       "      <th>txns_into_gp_size</th>\n",
       "      <th>condensed_length</th>\n",
       "      <th>Group_Decay_list</th>\n",
       "      <th>Final_list_vectors</th>\n",
       "    </tr>\n",
       "  </thead>\n",
       "  <tbody>\n",
       "    <tr>\n",
       "      <th>0</th>\n",
       "      <td>1</td>\n",
       "      <td>[[0, 1, 2], [3, 4, 5, 6, 7], [8], [9, 10], [11...</td>\n",
       "      <td>[[0.2824295364810001, 0.2824295364810001, 0.28...</td>\n",
       "      <td>13</td>\n",
       "      <td>7</td>\n",
       "      <td>1.857143</td>\n",
       "      <td>-5.142857</td>\n",
       "      <td>3</td>\n",
       "      <td>[[[0.2824295364810001, 0.2824295364810001, 0.2...</td>\n",
       "      <td>7</td>\n",
       "      <td>[[[0.0, 0.0, 0.0, 0.0, 0.0, 0.0, 0.0, 0.0, 0.0...</td>\n",
       "      <td>[0.004746793219636168, 0.004746793219636168, 0...</td>\n",
       "    </tr>\n",
       "    <tr>\n",
       "      <th>1</th>\n",
       "      <td>2</td>\n",
       "      <td>[[50, 51, 52, 53, 54, 55, 56, 57, 58, 59, 60, ...</td>\n",
       "      <td>[[0.0, 0.0, 0.0, 0.0, 0.0, 0.0, 0.0, 0.0, 0.0,...</td>\n",
       "      <td>15</td>\n",
       "      <td>7</td>\n",
       "      <td>2.142857</td>\n",
       "      <td>-4.857143</td>\n",
       "      <td>3</td>\n",
       "      <td>[[[0.0, 0.0, 0.0, 0.0, 0.0, 0.0, 0.0, 0.0, 0.0...</td>\n",
       "      <td>7</td>\n",
       "      <td>[[[0.0, 0.0, 0.0, 0.0, 0.0, 0.0, 0.0, 0.0, 0.0...</td>\n",
       "      <td>[0.0, 0.0, 0.0, 0.0, 0.00664426138635, 0.0, 0....</td>\n",
       "    </tr>\n",
       "    <tr>\n",
       "      <th>2</th>\n",
       "      <td>3</td>\n",
       "      <td>[[148, 149, 122, 150], [151, 152], [151, 153],...</td>\n",
       "      <td>[[0.0, 0.0, 0.0, 0.0, 0.0, 0.0, 0.0, 0.0, 0.0,...</td>\n",
       "      <td>9</td>\n",
       "      <td>7</td>\n",
       "      <td>1.285714</td>\n",
       "      <td>-5.714286</td>\n",
       "      <td>3</td>\n",
       "      <td>[[[0.0, 0.0, 0.0, 0.0, 0.0, 0.0, 0.0, 0.0, 0.0...</td>\n",
       "      <td>7</td>\n",
       "      <td>[[[0.0, 0.0, 0.0, 0.0, 0.0, 0.0, 0.0, 0.0, 0.0...</td>\n",
       "      <td>[0.0, 0.0, 0.0, 0.0, 0.0, 0.0, 0.0, 0.0, 0.0, ...</td>\n",
       "    </tr>\n",
       "    <tr>\n",
       "      <th>3</th>\n",
       "      <td>4</td>\n",
       "      <td>[[173, 174, 175, 176, 177, 178, 179, 180, 181,...</td>\n",
       "      <td>[[0.0, 0.0, 0.0, 0.0, 0.0, 0.0, 0.0, 0.0, 0.0,...</td>\n",
       "      <td>14</td>\n",
       "      <td>7</td>\n",
       "      <td>2.000000</td>\n",
       "      <td>-5.000000</td>\n",
       "      <td>1</td>\n",
       "      <td>[[[0.0, 0.0, 0.0, 0.0, 0.0, 0.0, 0.0, 0.0, 0.0...</td>\n",
       "      <td>7</td>\n",
       "      <td>[[[0.0, 0.0, 0.0, 0.0, 0.0, 0.0, 0.0, 0.0, 0.0...</td>\n",
       "      <td>[0.0, 0.03645, 0.0, 0.0, 0.0, 0.0, 0.0, 0.0, 0...</td>\n",
       "    </tr>\n",
       "    <tr>\n",
       "      <th>4</th>\n",
       "      <td>5</td>\n",
       "      <td>[[227, 228, 229, 50], [230, 231], [232], [233,...</td>\n",
       "      <td>[[0.0, 0.0, 0.0, 0.0, 0.0, 0.0, 0.0, 0.0, 0.0,...</td>\n",
       "      <td>14</td>\n",
       "      <td>7</td>\n",
       "      <td>2.000000</td>\n",
       "      <td>-5.000000</td>\n",
       "      <td>1</td>\n",
       "      <td>[[[0.0, 0.0, 0.0, 0.0, 0.0, 0.0, 0.0, 0.0, 0.0...</td>\n",
       "      <td>7</td>\n",
       "      <td>[[[0.0, 0.0, 0.0, 0.0, 0.0, 0.0, 0.0, 0.0, 0.0...</td>\n",
       "      <td>[0.0, 0.0, 0.0, 0.0, 0.0, 0.0, 0.0, 0.0, 0.0, ...</td>\n",
       "    </tr>\n",
       "  </tbody>\n",
       "</table>\n",
       "</div>"
      ],
      "text/plain": [
       "   user_id             Products_as_per_txn_order_hist_baskets  \\\n",
       "0        1  [[0, 1, 2], [3, 4, 5, 6, 7], [8], [9, 10], [11...   \n",
       "1        2  [[50, 51, 52, 53, 54, 55, 56, 57, 58, 59, 60, ...   \n",
       "2        3  [[148, 149, 122, 150], [151, 152], [151, 153],...   \n",
       "3        4  [[173, 174, 175, 176, 177, 178, 179, 180, 181,...   \n",
       "4        5  [[227, 228, 229, 50], [230, 231], [232], [233,...   \n",
       "\n",
       "                              within_decay_rate_list  length  Group_size  \\\n",
       "0  [[0.2824295364810001, 0.2824295364810001, 0.28...      13           7   \n",
       "1  [[0.0, 0.0, 0.0, 0.0, 0.0, 0.0, 0.0, 0.0, 0.0,...      15           7   \n",
       "2  [[0.0, 0.0, 0.0, 0.0, 0.0, 0.0, 0.0, 0.0, 0.0,...       9           7   \n",
       "3  [[0.0, 0.0, 0.0, 0.0, 0.0, 0.0, 0.0, 0.0, 0.0,...      14           7   \n",
       "4  [[0.0, 0.0, 0.0, 0.0, 0.0, 0.0, 0.0, 0.0, 0.0,...      14           7   \n",
       "\n",
       "   Approx_number_of_group  Residual  Flag  \\\n",
       "0                1.857143 -5.142857     3   \n",
       "1                2.142857 -4.857143     3   \n",
       "2                1.285714 -5.714286     3   \n",
       "3                2.000000 -5.000000     1   \n",
       "4                2.000000 -5.000000     1   \n",
       "\n",
       "                                   txns_into_gp_size  condensed_length  \\\n",
       "0  [[[0.2824295364810001, 0.2824295364810001, 0.2...                 7   \n",
       "1  [[[0.0, 0.0, 0.0, 0.0, 0.0, 0.0, 0.0, 0.0, 0.0...                 7   \n",
       "2  [[[0.0, 0.0, 0.0, 0.0, 0.0, 0.0, 0.0, 0.0, 0.0...                 7   \n",
       "3  [[[0.0, 0.0, 0.0, 0.0, 0.0, 0.0, 0.0, 0.0, 0.0...                 7   \n",
       "4  [[[0.0, 0.0, 0.0, 0.0, 0.0, 0.0, 0.0, 0.0, 0.0...                 7   \n",
       "\n",
       "                                    Group_Decay_list  \\\n",
       "0  [[[0.0, 0.0, 0.0, 0.0, 0.0, 0.0, 0.0, 0.0, 0.0...   \n",
       "1  [[[0.0, 0.0, 0.0, 0.0, 0.0, 0.0, 0.0, 0.0, 0.0...   \n",
       "2  [[[0.0, 0.0, 0.0, 0.0, 0.0, 0.0, 0.0, 0.0, 0.0...   \n",
       "3  [[[0.0, 0.0, 0.0, 0.0, 0.0, 0.0, 0.0, 0.0, 0.0...   \n",
       "4  [[[0.0, 0.0, 0.0, 0.0, 0.0, 0.0, 0.0, 0.0, 0.0...   \n",
       "\n",
       "                                  Final_list_vectors  \n",
       "0  [0.004746793219636168, 0.004746793219636168, 0...  \n",
       "1  [0.0, 0.0, 0.0, 0.0, 0.00664426138635, 0.0, 0....  \n",
       "2  [0.0, 0.0, 0.0, 0.0, 0.0, 0.0, 0.0, 0.0, 0.0, ...  \n",
       "3  [0.0, 0.03645, 0.0, 0.0, 0.0, 0.0, 0.0, 0.0, 0...  \n",
       "4  [0.0, 0.0, 0.0, 0.0, 0.0, 0.0, 0.0, 0.0, 0.0, ...  "
      ]
     },
     "execution_count": 74,
     "metadata": {},
     "output_type": "execute_result"
    }
   ],
   "source": [
    "df_hist.head()"
   ]
  },
  {
   "cell_type": "code",
   "execution_count": null,
   "metadata": {
    "application/vnd.databricks.v1+cell": {
     "cellMetadata": {
      "byteLimit": 2048000,
      "rowLimit": 10000
     },
     "inputWidgets": {},
     "nuid": "3091ba5f-073f-4ab4-9e87-701893ed4dba",
     "showTitle": false,
     "tableResultSettingsMap": {},
     "title": ""
    }
   },
   "outputs": [
    {
     "data": {
      "text/html": [
       "<div>\n",
       "<style scoped>\n",
       "    .dataframe tbody tr th:only-of-type {\n",
       "        vertical-align: middle;\n",
       "    }\n",
       "\n",
       "    .dataframe tbody tr th {\n",
       "        vertical-align: top;\n",
       "    }\n",
       "\n",
       "    .dataframe thead th {\n",
       "        text-align: right;\n",
       "    }\n",
       "</style>\n",
       "<table border=\"1\" class=\"dataframe\">\n",
       "  <thead>\n",
       "    <tr style=\"text-align: right;\">\n",
       "      <th></th>\n",
       "      <th>user_id</th>\n",
       "      <th>Products_as_per_txn_order_hist_baskets</th>\n",
       "      <th>within_decay_rate_list</th>\n",
       "      <th>Group_Decay_list</th>\n",
       "      <th>Final_list_vectors</th>\n",
       "    </tr>\n",
       "  </thead>\n",
       "  <tbody>\n",
       "    <tr>\n",
       "      <th>0</th>\n",
       "      <td>1</td>\n",
       "      <td>[[0, 1, 2], [3, 4, 5, 6, 7], [8], [9, 10], [11...</td>\n",
       "      <td>[[0.2824295364810001, 0.2824295364810001, 0.28...</td>\n",
       "      <td>[[[0.0, 0.0, 0.0, 0.0, 0.0, 0.0, 0.18849857142...</td>\n",
       "      <td>[0.004746793219636168, 0.004746793219636168, 0...</td>\n",
       "    </tr>\n",
       "    <tr>\n",
       "      <th>1</th>\n",
       "      <td>2</td>\n",
       "      <td>[[50, 51, 52, 53, 54, 55, 56, 57, 58, 59, 60, ...</td>\n",
       "      <td>[[0.0, 0.0, 0.0, 0.0, 0.0, 0.0, 0.0, 0.0, 0.0,...</td>\n",
       "      <td>[[[0.0, 0.0, 0.0, 0.0, 0.0, 0.0, 0.0, 0.0, 0.0...</td>\n",
       "      <td>[0.0, 0.0, 0.0, 0.0, 0.00664426138635, 0.0, 0....</td>\n",
       "    </tr>\n",
       "    <tr>\n",
       "      <th>2</th>\n",
       "      <td>3</td>\n",
       "      <td>[[148, 149, 122, 150], [151, 152], [151, 153],...</td>\n",
       "      <td>[[0.0, 0.0, 0.0, 0.0, 0.0, 0.0, 0.0, 0.0, 0.0,...</td>\n",
       "      <td>[[[0.0, 0.0, 0.0, 0.0, 0.0, 0.0, 0.0, 0.0, 0.0...</td>\n",
       "      <td>[0.0, 0.0, 0.0, 0.0, 0.0, 0.0, 0.0, 0.0, 0.0, ...</td>\n",
       "    </tr>\n",
       "    <tr>\n",
       "      <th>3</th>\n",
       "      <td>4</td>\n",
       "      <td>[[173, 174, 175, 176, 177, 178, 179, 180, 181,...</td>\n",
       "      <td>[[0.0, 0.0, 0.0, 0.0, 0.0, 0.0, 0.0, 0.0, 0.0,...</td>\n",
       "      <td>[[[0.0, 0.0, 0.0, 0.0, 0.0, 0.0, 0.0, 0.0, 0.0...</td>\n",
       "      <td>[0.0, 0.03645, 0.0, 0.0, 0.0, 0.0, 0.0, 0.0, 0...</td>\n",
       "    </tr>\n",
       "    <tr>\n",
       "      <th>4</th>\n",
       "      <td>5</td>\n",
       "      <td>[[227, 228, 229, 50], [230, 231], [232], [233,...</td>\n",
       "      <td>[[0.0, 0.0, 0.0, 0.0, 0.0, 0.0, 0.0, 0.0, 0.0,...</td>\n",
       "      <td>[[[0.0, 0.0, 0.0, 0.0, 0.0, 0.0, 0.0, 0.0, 0.0...</td>\n",
       "      <td>[0.0, 0.0, 0.0, 0.0, 0.0, 0.0, 0.0, 0.0, 0.0, ...</td>\n",
       "    </tr>\n",
       "  </tbody>\n",
       "</table>\n",
       "</div>"
      ],
      "text/plain": [
       "   user_id  ...                                 Final_list_vectors\n",
       "0        1  ...  [0.004746793219636168, 0.004746793219636168, 0...\n",
       "1        2  ...  [0.0, 0.0, 0.0, 0.0, 0.00664426138635, 0.0, 0....\n",
       "2        3  ...  [0.0, 0.0, 0.0, 0.0, 0.0, 0.0, 0.0, 0.0, 0.0, ...\n",
       "3        4  ...  [0.0, 0.03645, 0.0, 0.0, 0.0, 0.0, 0.0, 0.0, 0...\n",
       "4        5  ...  [0.0, 0.0, 0.0, 0.0, 0.0, 0.0, 0.0, 0.0, 0.0, ...\n",
       "\n",
       "[5 rows x 5 columns]"
      ]
     },
     "execution_count": 51,
     "metadata": {},
     "output_type": "execute_result"
    }
   ],
   "source": [
    "df_hist[['user_id','Products_as_per_txn_order_hist_baskets','within_decay_rate_list','Group_Decay_list','Final_list_vectors']].head()"
   ]
  },
  {
   "cell_type": "code",
   "execution_count": 76,
   "metadata": {
    "application/vnd.databricks.v1+cell": {
     "cellMetadata": {
      "byteLimit": 2048000,
      "rowLimit": 10000
     },
     "inputWidgets": {},
     "nuid": "46d3ab12-e68c-49fe-9467-9d7d5d3a9e68",
     "showTitle": false,
     "tableResultSettingsMap": {},
     "title": ""
    },
    "id": "aYtwET10CjAJ"
   },
   "outputs": [],
   "source": [
    "df_hist_final_set=df_hist[['user_id','Final_list_vectors']]\n",
    "df_fut_final_set=df_fut[['user_id','Final_list_vectors']]\n",
    "history_mat=df_hist_final_set['Final_list_vectors'].values\n",
    "test_mat=df_fut_final_set['Final_list_vectors'].values"
   ]
  },
  {
   "cell_type": "code",
   "execution_count": 47,
   "metadata": {
    "application/vnd.databricks.v1+cell": {
     "cellMetadata": {
      "byteLimit": 2048000,
      "rowLimit": 10000
     },
     "inputWidgets": {},
     "nuid": "f857b38f-cc47-4fc9-a152-931ba2823e17",
     "showTitle": false,
     "tableResultSettingsMap": {},
     "title": ""
    },
    "scrolled": true
   },
   "outputs": [
    {
     "data": {
      "text/html": [
       "<div>\n",
       "<style scoped>\n",
       "    .dataframe tbody tr th:only-of-type {\n",
       "        vertical-align: middle;\n",
       "    }\n",
       "\n",
       "    .dataframe tbody tr th {\n",
       "        vertical-align: top;\n",
       "    }\n",
       "\n",
       "    .dataframe thead th {\n",
       "        text-align: right;\n",
       "    }\n",
       "</style>\n",
       "<table border=\"1\" class=\"dataframe\">\n",
       "  <thead>\n",
       "    <tr style=\"text-align: right;\">\n",
       "      <th></th>\n",
       "      <th>user_id</th>\n",
       "      <th>Final_list_vectors</th>\n",
       "    </tr>\n",
       "  </thead>\n",
       "  <tbody>\n",
       "    <tr>\n",
       "      <th>0</th>\n",
       "      <td>1</td>\n",
       "      <td>[0.004746793219636168, 0.004746793219636168, 0...</td>\n",
       "    </tr>\n",
       "    <tr>\n",
       "      <th>1</th>\n",
       "      <td>2</td>\n",
       "      <td>[0.0, 0.0, 0.0, 0.0, 0.00664426138635, 0.0, 0....</td>\n",
       "    </tr>\n",
       "    <tr>\n",
       "      <th>2</th>\n",
       "      <td>3</td>\n",
       "      <td>[0.0, 0.0, 0.0, 0.0, 0.0, 0.0, 0.0, 0.0, 0.0, ...</td>\n",
       "    </tr>\n",
       "    <tr>\n",
       "      <th>3</th>\n",
       "      <td>4</td>\n",
       "      <td>[0.0, 0.03645, 0.0, 0.0, 0.0, 0.0, 0.0, 0.0, 0...</td>\n",
       "    </tr>\n",
       "    <tr>\n",
       "      <th>4</th>\n",
       "      <td>5</td>\n",
       "      <td>[0.0, 0.0, 0.0, 0.0, 0.0, 0.0, 0.0, 0.0, 0.0, ...</td>\n",
       "    </tr>\n",
       "  </tbody>\n",
       "</table>\n",
       "</div>"
      ],
      "text/plain": [
       "   user_id                                 Final_list_vectors\n",
       "0        1  [0.004746793219636168, 0.004746793219636168, 0...\n",
       "1        2  [0.0, 0.0, 0.0, 0.0, 0.00664426138635, 0.0, 0....\n",
       "2        3  [0.0, 0.0, 0.0, 0.0, 0.0, 0.0, 0.0, 0.0, 0.0, ...\n",
       "3        4  [0.0, 0.03645, 0.0, 0.0, 0.0, 0.0, 0.0, 0.0, 0...\n",
       "4        5  [0.0, 0.0, 0.0, 0.0, 0.0, 0.0, 0.0, 0.0, 0.0, ..."
      ]
     },
     "execution_count": 47,
     "metadata": {},
     "output_type": "execute_result"
    }
   ],
   "source": [
    "df_hist_final_set.head()"
   ]
  },
  {
   "cell_type": "code",
   "execution_count": 48,
   "metadata": {
    "application/vnd.databricks.v1+cell": {
     "cellMetadata": {
      "byteLimit": 2048000,
      "rowLimit": 10000
     },
     "inputWidgets": {},
     "nuid": "ca26f632-3e4c-4746-9b19-48e51bc12c2c",
     "showTitle": false,
     "tableResultSettingsMap": {},
     "title": ""
    }
   },
   "outputs": [
    {
     "data": {
      "text/html": [
       "<div>\n",
       "<style scoped>\n",
       "    .dataframe tbody tr th:only-of-type {\n",
       "        vertical-align: middle;\n",
       "    }\n",
       "\n",
       "    .dataframe tbody tr th {\n",
       "        vertical-align: top;\n",
       "    }\n",
       "\n",
       "    .dataframe thead th {\n",
       "        text-align: right;\n",
       "    }\n",
       "</style>\n",
       "<table border=\"1\" class=\"dataframe\">\n",
       "  <thead>\n",
       "    <tr style=\"text-align: right;\">\n",
       "      <th></th>\n",
       "      <th>user_id</th>\n",
       "      <th>Final_list_vectors</th>\n",
       "    </tr>\n",
       "  </thead>\n",
       "  <tbody>\n",
       "    <tr>\n",
       "      <th>0</th>\n",
       "      <td>10045</td>\n",
       "      <td>[0.0, 0.0, 0.0, 0.0, 0.0, 0.0, 0.0, 0.0, 0.084...</td>\n",
       "    </tr>\n",
       "    <tr>\n",
       "      <th>1</th>\n",
       "      <td>10046</td>\n",
       "      <td>[0.0, 0.0, 0.0, 0.0, 0.03176522999999999, 0.0,...</td>\n",
       "    </tr>\n",
       "    <tr>\n",
       "      <th>2</th>\n",
       "      <td>10047</td>\n",
       "      <td>[0.0, 0.0, 0.0, 0.0, 0.0, 0.0, 0.0, 0.0, 0.0, ...</td>\n",
       "    </tr>\n",
       "    <tr>\n",
       "      <th>3</th>\n",
       "      <td>10048</td>\n",
       "      <td>[0.052942049999999984, 0.0, 0.0, 0.0, 0.0, 0.0...</td>\n",
       "    </tr>\n",
       "    <tr>\n",
       "      <th>4</th>\n",
       "      <td>10049</td>\n",
       "      <td>[0.0, 0.0, 0.0, 0.0, 0.0, 0.0, 0.0, 0.0, 0.0, ...</td>\n",
       "    </tr>\n",
       "  </tbody>\n",
       "</table>\n",
       "</div>"
      ],
      "text/plain": [
       "   user_id                                 Final_list_vectors\n",
       "0    10045  [0.0, 0.0, 0.0, 0.0, 0.0, 0.0, 0.0, 0.0, 0.084...\n",
       "1    10046  [0.0, 0.0, 0.0, 0.0, 0.03176522999999999, 0.0,...\n",
       "2    10047  [0.0, 0.0, 0.0, 0.0, 0.0, 0.0, 0.0, 0.0, 0.0, ...\n",
       "3    10048  [0.052942049999999984, 0.0, 0.0, 0.0, 0.0, 0.0...\n",
       "4    10049  [0.0, 0.0, 0.0, 0.0, 0.0, 0.0, 0.0, 0.0, 0.0, ..."
      ]
     },
     "execution_count": 48,
     "metadata": {},
     "output_type": "execute_result"
    }
   ],
   "source": [
    "df_fut_final_set.head()"
   ]
  },
  {
   "cell_type": "markdown",
   "metadata": {},
   "source": [
    "## 3. KNN part - Collaborative filtering "
   ]
  },
  {
   "cell_type": "code",
   "execution_count": 77,
   "metadata": {
    "application/vnd.databricks.v1+cell": {
     "cellMetadata": {
      "byteLimit": 2048000,
      "rowLimit": 10000
     },
     "inputWidgets": {},
     "nuid": "eb07441e-0afc-4729-aca9-4efd505591af",
     "showTitle": false,
     "tableResultSettingsMap": {},
     "title": ""
    },
    "id": "wdxrN_Am-ccU"
   },
   "outputs": [
    {
     "name": "stdout",
     "output_type": "stream",
     "text": [
      "100\n",
      "100\n"
     ]
    }
   ],
   "source": [
    "l1_hist=[]\n",
    "for x in history_mat:\n",
    "  l1_hist.append(x)\n",
    "print(len(l1_hist))\n",
    "l1_fut=[]\n",
    "for x in test_mat:\n",
    "  l1_fut.append(x)\n",
    "print(len(l1_fut))\n"
   ]
  },
  {
   "cell_type": "code",
   "execution_count": 78,
   "metadata": {
    "application/vnd.databricks.v1+cell": {
     "cellMetadata": {
      "byteLimit": 2048000,
      "rowLimit": 10000
     },
     "inputWidgets": {},
     "nuid": "bcf73c71-8e85-45a0-a6b4-f88699d86a8c",
     "showTitle": false,
     "tableResultSettingsMap": {},
     "title": ""
    },
    "id": "QklHG9kk-v45"
   },
   "outputs": [],
   "source": [
    "dict_fut=dict(zip(df_fut_final_set['user_id'],df_fut_final_set['Final_list_vectors']))\n",
    "dict_hist=dict(zip(df_hist_final_set['user_id'],df_hist_final_set['Final_list_vectors']))"
   ]
  },
  {
   "cell_type": "code",
   "execution_count": 79,
   "metadata": {
    "application/vnd.databricks.v1+cell": {
     "cellMetadata": {
      "byteLimit": 2048000,
      "rowLimit": 10000
     },
     "inputWidgets": {},
     "nuid": "eccf0e2f-be6c-4071-b4cf-42029c751ca7",
     "showTitle": false,
     "tableResultSettingsMap": {},
     "title": ""
    }
   },
   "outputs": [],
   "source": [
    "# dict_fut[11092].nonzero()"
   ]
  },
  {
   "cell_type": "code",
   "execution_count": 80,
   "metadata": {
    "application/vnd.databricks.v1+cell": {
     "cellMetadata": {
      "byteLimit": 2048000,
      "rowLimit": 10000
     },
     "inputWidgets": {},
     "nuid": "8d3546f6-1c9d-4dc4-bfee-ef276d919da9",
     "showTitle": false,
     "tableResultSettingsMap": {},
     "title": ""
    },
    "colab": {
     "base_uri": "https://localhost:8080/"
    },
    "executionInfo": {
     "elapsed": 7,
     "status": "ok",
     "timestamp": 1721739579172,
     "user": {
      "displayName": "ashis kumar",
      "userId": "11359412875664137523"
     },
     "user_tz": -330
    },
    "id": "1URhsTWY1OK3",
    "outputId": "5bb09c91-c9ca-44e9-8cc8-944c09d290c9"
   },
   "outputs": [
    {
     "data": {
      "text/plain": [
       "(100, 100)"
      ]
     },
     "execution_count": 80,
     "metadata": {},
     "output_type": "execute_result"
    }
   ],
   "source": [
    "len(l1_hist),len(l1_fut)"
   ]
  },
  {
   "cell_type": "code",
   "execution_count": 81,
   "metadata": {
    "application/vnd.databricks.v1+cell": {
     "cellMetadata": {
      "byteLimit": 2048000,
      "rowLimit": 10000
     },
     "inputWidgets": {},
     "nuid": "ea8196b1-a9e3-4ec3-a9d4-2acef4349932",
     "showTitle": false,
     "tableResultSettingsMap": {},
     "title": ""
    },
    "id": "lc-1D7f91N8i"
   },
   "outputs": [],
   "source": [
    "# num_nearest_neighbors = 300\n",
    "num_nearest_neighbors = 5\n",
    "nbrs = NearestNeighbors(n_neighbors=num_nearest_neighbors, algorithm='brute').fit(l1_hist)\n",
    "distances, indices = nbrs.kneighbors(l1_fut)"
   ]
  },
  {
   "cell_type": "code",
   "execution_count": 82,
   "metadata": {
    "application/vnd.databricks.v1+cell": {
     "cellMetadata": {
      "byteLimit": 2048000,
      "rowLimit": 10000
     },
     "inputWidgets": {},
     "nuid": "1b956bab-9bcf-4ee1-ae8c-b10ebdb77000",
     "showTitle": false,
     "tableResultSettingsMap": {},
     "title": ""
    },
    "colab": {
     "base_uri": "https://localhost:8080/"
    },
    "executionInfo": {
     "elapsed": 11,
     "status": "ok",
     "timestamp": 1721739580333,
     "user": {
      "displayName": "ashis kumar",
      "userId": "11359412875664137523"
     },
     "user_tz": -330
    },
    "id": "wwVZ6zBlG1Oo",
    "outputId": "a08811ae-e760-42d5-ca8f-2372ed4e71cc"
   },
   "outputs": [
    {
     "data": {
      "text/plain": [
       "((100, 5), (100, 5))"
      ]
     },
     "execution_count": 82,
     "metadata": {},
     "output_type": "execute_result"
    }
   ],
   "source": [
    "distances.shape, indices.shape"
   ]
  },
  {
   "cell_type": "code",
   "execution_count": 83,
   "metadata": {
    "application/vnd.databricks.v1+cell": {
     "cellMetadata": {
      "byteLimit": 2048000,
      "rowLimit": 10000
     },
     "inputWidgets": {},
     "nuid": "aab4b95f-a96c-4911-b075-b34359d2cdb3",
     "showTitle": false,
     "tableResultSettingsMap": {},
     "title": ""
    }
   },
   "outputs": [
    {
     "data": {
      "text/plain": [
       "array([60, 26, 95, 69, 49], dtype=int64)"
      ]
     },
     "execution_count": 83,
     "metadata": {},
     "output_type": "execute_result"
    }
   ],
   "source": [
    "indices[0]"
   ]
  },
  {
   "cell_type": "code",
   "execution_count": 84,
   "metadata": {
    "application/vnd.databricks.v1+cell": {
     "cellMetadata": {
      "byteLimit": 2048000,
      "rowLimit": 10000
     },
     "inputWidgets": {},
     "nuid": "56e90bc9-243c-4d3c-9bdf-48c90edfa834",
     "showTitle": false,
     "tableResultSettingsMap": {},
     "title": ""
    },
    "id": "4hXqR3seVRkn",
    "scrolled": true
   },
   "outputs": [
    {
     "data": {
      "text/plain": [
       "{10045: array([60, 26, 95, 69, 49], dtype=int64),\n",
       " 10046: array([69, 95, 49, 26, 10], dtype=int64),\n",
       " 10047: array([95, 69, 49, 10, 26], dtype=int64),\n",
       " 10048: array([95, 49, 69, 26, 10], dtype=int64),\n",
       " 10049: array([69, 95, 49, 26, 10], dtype=int64),\n",
       " 10050: array([69, 95, 49, 26, 10], dtype=int64),\n",
       " 10051: array([69, 60, 95, 49, 26], dtype=int64),\n",
       " 10052: array([95, 26, 69, 49, 10], dtype=int64),\n",
       " 10053: array([95, 71, 49, 69, 26], dtype=int64),\n",
       " 10054: array([26, 49, 69, 95, 10], dtype=int64),\n",
       " 10055: array([26, 49, 69, 95, 40], dtype=int64),\n",
       " 10056: array([69, 95, 49, 26, 10], dtype=int64),\n",
       " 10057: array([69, 95, 49, 26, 10], dtype=int64),\n",
       " 10058: array([49, 69, 26, 95, 60], dtype=int64),\n",
       " 10059: array([69, 95, 49, 26, 10], dtype=int64),\n",
       " 10060: array([71, 69, 95, 49, 26], dtype=int64),\n",
       " 10061: array([69, 95, 49, 26, 10], dtype=int64),\n",
       " 10062: array([95, 69, 49, 26, 71], dtype=int64),\n",
       " 10063: array([60, 69, 49, 26, 73], dtype=int64),\n",
       " 10064: array([69, 95, 26, 49, 10], dtype=int64),\n",
       " 10065: array([69, 95, 49, 26, 10], dtype=int64),\n",
       " 10066: array([49, 69, 95, 26, 10], dtype=int64),\n",
       " 10067: array([69, 60, 49, 26, 95], dtype=int64),\n",
       " 10068: array([95, 69, 49, 26, 73], dtype=int64),\n",
       " 10069: array([69, 95, 49, 26, 10], dtype=int64),\n",
       " 10070: array([49, 69, 66, 95, 26], dtype=int64),\n",
       " 10071: array([60, 69, 49, 26, 95], dtype=int64),\n",
       " 10072: array([69, 95, 49, 26, 10], dtype=int64),\n",
       " 10073: array([95, 49, 69, 26, 10], dtype=int64),\n",
       " 10074: array([95, 49, 69, 26, 10], dtype=int64),\n",
       " 10075: array([95, 26, 69, 49, 10], dtype=int64),\n",
       " 10076: array([95, 49, 69, 26, 10], dtype=int64),\n",
       " 10077: array([69, 95, 26, 49, 10], dtype=int64),\n",
       " 10078: array([69, 95, 49, 26, 10], dtype=int64),\n",
       " 10079: array([49, 69, 95, 26, 10], dtype=int64),\n",
       " 10080: array([49, 69, 95, 26, 10], dtype=int64),\n",
       " 10081: array([69, 49, 95, 26, 10], dtype=int64),\n",
       " 10082: array([95, 69, 49, 26, 60], dtype=int64),\n",
       " 10083: array([95, 69, 10, 49, 60], dtype=int64),\n",
       " 10084: array([95, 69, 49, 26, 10], dtype=int64),\n",
       " 10085: array([95, 69, 49, 60, 26], dtype=int64),\n",
       " 10086: array([49, 69, 95, 26, 10], dtype=int64),\n",
       " 10087: array([95, 49, 69, 60, 26], dtype=int64),\n",
       " 10088: array([10, 69, 95, 49, 26], dtype=int64),\n",
       " 10089: array([95, 69, 49, 26, 10], dtype=int64),\n",
       " 10090: array([69, 38, 60, 26, 49], dtype=int64),\n",
       " 10091: array([71, 95, 69, 49, 26], dtype=int64),\n",
       " 10092: array([73, 69, 49, 26, 95], dtype=int64),\n",
       " 10093: array([60, 69, 49, 26, 95], dtype=int64),\n",
       " 10094: array([69, 95, 49, 26, 10], dtype=int64),\n",
       " 10095: array([73, 95, 49, 69, 26], dtype=int64),\n",
       " 10096: array([95, 49, 69, 26, 10], dtype=int64),\n",
       " 10097: array([95, 49, 69, 26, 10], dtype=int64),\n",
       " 10098: array([69, 95, 49, 26, 10], dtype=int64),\n",
       " 10099: array([95, 69, 49, 26, 10], dtype=int64),\n",
       " 10100: array([95, 69, 49, 26, 10], dtype=int64),\n",
       " 10101: array([69, 49, 60, 26, 40], dtype=int64),\n",
       " 10102: array([95, 69, 49, 26, 10], dtype=int64),\n",
       " 10103: array([95, 49, 69, 26, 10], dtype=int64),\n",
       " 10104: array([95, 69, 49, 26, 10], dtype=int64),\n",
       " 10105: array([95, 69, 49, 40, 26], dtype=int64),\n",
       " 10106: array([69, 95, 49, 26, 10], dtype=int64),\n",
       " 10107: array([69, 95, 49, 26, 10], dtype=int64),\n",
       " 10108: array([49, 95, 69, 26, 10], dtype=int64),\n",
       " 10109: array([95, 26, 49, 69, 40], dtype=int64),\n",
       " 10110: array([95, 69, 49, 60, 26], dtype=int64),\n",
       " 10111: array([49, 69, 60, 26, 95], dtype=int64),\n",
       " 10112: array([49, 69, 95, 26, 10], dtype=int64),\n",
       " 10113: array([10, 95, 49, 69, 26], dtype=int64),\n",
       " 10114: array([69, 49, 95, 26, 10], dtype=int64),\n",
       " 10115: array([69, 95, 49, 26, 10], dtype=int64),\n",
       " 10116: array([69, 95, 49, 26, 60], dtype=int64),\n",
       " 10117: array([69, 95, 49, 26, 10], dtype=int64),\n",
       " 10118: array([69, 95, 49, 26, 10], dtype=int64),\n",
       " 10119: array([95, 69, 49, 26, 10], dtype=int64),\n",
       " 10120: array([69, 60, 26, 49,  8], dtype=int64),\n",
       " 10121: array([69, 95, 49, 26, 10], dtype=int64),\n",
       " 10122: array([49, 69, 95, 26, 10], dtype=int64),\n",
       " 10123: array([95, 69, 49, 26, 10], dtype=int64),\n",
       " 10124: array([69, 95, 49, 26, 10], dtype=int64),\n",
       " 10125: array([95, 69, 49, 26, 10], dtype=int64),\n",
       " 10126: array([73, 69, 95, 49, 26], dtype=int64),\n",
       " 10127: array([69, 95, 49, 26, 10], dtype=int64),\n",
       " 10128: array([95, 69, 49,  8, 26], dtype=int64),\n",
       " 10129: array([ 8, 95, 26, 69, 49], dtype=int64),\n",
       " 10130: array([95, 49, 69, 26, 10], dtype=int64),\n",
       " 10131: array([95, 69, 60, 49, 26], dtype=int64),\n",
       " 10132: array([49, 69, 95, 26, 10], dtype=int64),\n",
       " 10133: array([69, 95, 49, 26, 71], dtype=int64),\n",
       " 10134: array([69, 95, 49, 26, 10], dtype=int64),\n",
       " 10135: array([95, 49, 69, 26, 10], dtype=int64),\n",
       " 10136: array([95, 49, 69, 26, 10], dtype=int64),\n",
       " 10137: array([95, 49, 69, 73, 26], dtype=int64),\n",
       " 10138: array([69, 95, 49, 26, 10], dtype=int64),\n",
       " 10139: array([71, 95, 69, 49, 26], dtype=int64),\n",
       " 10140: array([95, 69, 26, 49, 73], dtype=int64),\n",
       " 10141: array([69, 26, 95, 49, 10], dtype=int64),\n",
       " 10142: array([95, 69, 49, 26, 10], dtype=int64),\n",
       " 10143: array([95, 69, 49, 26, 10], dtype=int64),\n",
       " 10144: array([69, 71, 95, 49, 26], dtype=int64)}"
      ]
     },
     "execution_count": 84,
     "metadata": {},
     "output_type": "execute_result"
    }
   ],
   "source": [
    "dict_mapping_nearest_neighbors={df_fut_final_set['user_id'].values[i]:indices[i] for i in range(len(indices))}\n",
    "dict_mapping_nearest_neighbors"
   ]
  },
  {
   "cell_type": "code",
   "execution_count": 57,
   "metadata": {
    "application/vnd.databricks.v1+cell": {
     "cellMetadata": {
      "byteLimit": 2048000,
      "rowLimit": 10000
     },
     "inputWidgets": {},
     "nuid": "ed9d2da0-f75c-460f-b929-f276232ca769",
     "showTitle": false,
     "tableResultSettingsMap": {},
     "title": ""
    },
    "id": "XZBRmTOPZA7w"
   },
   "outputs": [
    {
     "data": {
      "text/plain": [
       "array([69, 95, 49, 26, 10], dtype=int64)"
      ]
     },
     "execution_count": 57,
     "metadata": {},
     "output_type": "execute_result"
    }
   ],
   "source": [
    "dict_mapping_nearest_neighbors[10106]"
   ]
  },
  {
   "cell_type": "markdown",
   "metadata": {},
   "source": [
    "## 4. Final Predictions"
   ]
  },
  {
   "cell_type": "code",
   "execution_count": 91,
   "metadata": {
    "application/vnd.databricks.v1+cell": {
     "cellMetadata": {
      "byteLimit": 2048000,
      "rowLimit": 10000
     },
     "inputWidgets": {},
     "nuid": "98cdd898-665d-4e79-a1f1-8232cee11255",
     "showTitle": false,
     "tableResultSettingsMap": {},
     "title": ""
    },
    "id": "0eYI8_7DKOuS"
   },
   "outputs": [],
   "source": [
    "# def final_recommendation(user_id):\n",
    "#   alpha = 0.7\n",
    "#   top_k=20\n",
    "#   # print(f\"***************************** Test set vectors for userid={user_id} ****************************************\")\n",
    "#   test_set_vectors=df_fut_final_set.loc[df_fut_final_set['user_id']==user_id,'Final_list_vectors'].tolist()[0]\n",
    "#   test_set_vectors=test_set_vectors.reshape(1,-1)\n",
    "#   # print(f\"{test_set_vectors.shape} & {test_set_vectors[test_set_vectors.nonzero()]}\")\n",
    "#   # print(f\"***************************** Train set vectors coming from collaborative filtering ****************************************\")\n",
    "#   NN_for_user_in_test_set=dict_mapping_nearest_neighbors[user_id]\n",
    "#   # print(f\"Length of users from collaborative filtering i.e. Top {indices.shape[1]} users recommended : {len(NN_for_user_in_test_set)},{(NN_for_user_in_test_set)}\")\n",
    "#   np_array_train_set = np.array(df_hist_final_set[df_hist_final_set.index.isin(NN_for_user_in_test_set)]['Final_list_vectors'].tolist())\n",
    "#   # print(f\"Corresponding to each user we have {item_num} products coming as a recommendation : {np_array_train_set.shape}\")\n",
    "#   sum_shape_final=np.sum(np_array_train_set.reshape(indices.shape[1],-1,item_num),axis=0)/indices.shape[1]\n",
    "#   # print(f\"sum_shape_final:{sum_shape_final[sum_shape_final.nonzero()]}\")\n",
    "#   # print(f\"Combining all the {len(NN_for_user_in_test_set)} user's recommendation into 1, we have got: {sum_shape_final.shape}\")\n",
    "#   # print(f\"*******************************Combined*******************************************\")\n",
    "#   # print(\"Giving weightage to test_set_vectors and collaborative vectors \")\n",
    "#   # print(f\"{alpha} * test_set_vectors + (1-{alpha})*collaborative_vectors\")\n",
    "#   combined=alpha * test_set_vectors + (1-alpha)*sum_shape_final\n",
    "#   # print(len(combined[0]),combined,combined.shape, combined.argsort()[::-1].shape)\n",
    "#   # print(f\"Combined sort: {np.sort(combined)[::-1]}\")\n",
    "#   # label_list = combined.argsort()[::-1].tolist()\n",
    "#   label_list = combined[0].argsort()[::-1].reshape(-1,)[:top_k]\n",
    "#   # print(f\"Out of the {item_num} items , we recommend the {top_k} items at position {label_list} to the user: {user_id}\")\n",
    "#   return label_list.tolist()"
   ]
  },
  {
   "cell_type": "code",
   "execution_count": 119,
   "metadata": {},
   "outputs": [],
   "source": [
    "def final_recommendation(user_id):\n",
    "  alpha = 0.7\n",
    "  top_k=20\n",
    "  print(f\"***************************** From Personalized insights  POV: Test set vectors for userid={user_id} ****************************************\")\n",
    "  test_set_vectors=df_fut_final_set.loc[df_fut_final_set['user_id']==user_id,'Final_list_vectors'].tolist()[0]\n",
    "  test_set_vectors=test_set_vectors.reshape(1,-1)\n",
    "  print(f\"{test_set_vectors.shape} & {test_set_vectors[test_set_vectors.nonzero()]}\")\n",
    "  print(f\"***************************** Train set vectors coming from collaborative filtering ****************************************\")\n",
    "  NN_for_user_in_test_set=dict_mapping_nearest_neighbors[user_id]\n",
    "  print(f\"Length of users from collaborative filtering i.e. Top {indices.shape[1]} users recommended : {len(NN_for_user_in_test_set)},{(NN_for_user_in_test_set)}\")\n",
    "  np_array_train_set = np.array(df_hist_final_set[df_hist_final_set.index.isin(NN_for_user_in_test_set)]['Final_list_vectors'].tolist())\n",
    "  print(f\"Corresponding to each user we have {item_num} products coming as a recommendation : {np_array_train_set.shape}\")\n",
    "  sum_shape_final=np.sum(np_array_train_set.reshape(indices.shape[1],-1,item_num),axis=0)/indices.shape[1]\n",
    "  # print(f\"sum_shape_final:{sum_shape_final[sum_shape_final.nonzero()]}\")\n",
    "  print(f\"Combining all the {len(NN_for_user_in_test_set)} user's recommendation into 1, we have got: {sum_shape_final.shape}\")\n",
    "  print(f\"*******************************Combined*******************************************\")\n",
    "  print(\"Giving weightage to Personalized Profile vectors and collaborative vectors \")\n",
    "  print(f\"{alpha} * Personalized Profile vectors + (1-{alpha})*collaborative_vectors\")\n",
    "  combined=alpha * test_set_vectors + (1-alpha)*sum_shape_final\n",
    "  # print(combined.shape,combined)\n",
    "  # print(len(combined[0]),combined,combined.shape, combined.argsort()[::-1].shape)\n",
    "  print(f\"Combined sort: {np.sort(combined)[::-1]}\")\n",
    "  label_list = combined.argsort()[::-1].tolist()\n",
    "  label_list = combined[0].argsort()[::-1].reshape(-1,)[:top_k]\n",
    "  print(f\"Out of the {item_num} items , we recommend the {top_k} items at position {label_list} to the user: {user_id}\")\n",
    "  return label_list.tolist()"
   ]
  },
  {
   "cell_type": "code",
   "execution_count": 118,
   "metadata": {
    "application/vnd.databricks.v1+cell": {
     "cellMetadata": {
      "byteLimit": 2048000,
      "rowLimit": 10000
     },
     "inputWidgets": {},
     "nuid": "5a4e5798-ce6f-4f26-b6c9-bdf1a8d0a2aa",
     "showTitle": false,
     "tableResultSettingsMap": {},
     "title": ""
    },
    "colab": {
     "base_uri": "https://localhost:8080/"
    },
    "executionInfo": {
     "elapsed": 6,
     "status": "ok",
     "timestamp": 1721739585154,
     "user": {
      "displayName": "ashis kumar",
      "userId": "11359412875664137523"
     },
     "user_tz": -330
    },
    "id": "VvTU8Ej0Kj7z",
    "outputId": "56a79080-7a6b-4d5b-8069-c2e8d74cec10",
    "scrolled": true
   },
   "outputs": [
    {
     "name": "stdout",
     "output_type": "stream",
     "text": [
      "***************************** From Personalized insights  POV: Test set vectors for userid=10106 ****************************************\n",
      "(1, 11997) & [0.03176523 0.03176523 0.03176523 0.03176523 0.03176523 0.050421\n",
      " 0.08003333 0.050421   0.03176523 0.050421   0.050421   0.050421\n",
      " 0.050421   0.050421   0.050421   0.08003333 0.050421   0.050421  ]\n",
      "***************************** Train set vectors coming from collaborative filtering ****************************************\n",
      "Length of users from collaborative filtering i.e. Top 5 users recommended : 5,[69 95 49 26 10]\n",
      "Corresponding to each user we have 11997 products coming as a recommendation : (5, 11997)\n",
      "Combining all the 5 user's recommendation into 1, we have got: (1, 11997)\n",
      "*******************************Combined*******************************************\n",
      "Giving weightage to Personalized Profile vectors and collaborative vectors \n",
      "0.7 * Personalized Profile vectors + (1-0.7)*collaborative_vectors\n",
      "(1, 11997) [[0.0000000e+00 2.2358007e-06 0.0000000e+00 ... 0.0000000e+00\n",
      "  0.0000000e+00 0.0000000e+00]]\n",
      "Combined sort: [[0.         0.         0.         ... 0.03566367 0.05602333 0.05602333]]\n",
      "Out of the 11997 items , we recommend the 20 items at position [  556  8843   717  2377  4564  5697   827 11235   544  4290   818 10366\n",
      "     4   368   145   491   235   797   723    50] to the user: 10106\n"
     ]
    },
    {
     "data": {
      "text/plain": [
       "[556,\n",
       " 8843,\n",
       " 717,\n",
       " 2377,\n",
       " 4564,\n",
       " 5697,\n",
       " 827,\n",
       " 11235,\n",
       " 544,\n",
       " 4290,\n",
       " 818,\n",
       " 10366,\n",
       " 4,\n",
       " 368,\n",
       " 145,\n",
       " 491,\n",
       " 235,\n",
       " 797,\n",
       " 723,\n",
       " 50]"
      ]
     },
     "execution_count": 118,
     "metadata": {},
     "output_type": "execute_result"
    }
   ],
   "source": [
    "# print(10106)\n",
    "final_recommendation(10106)\n",
    "# # final_recommendation(11230)"
   ]
  },
  {
   "cell_type": "code",
   "execution_count": 121,
   "metadata": {
    "application/vnd.databricks.v1+cell": {
     "cellMetadata": {
      "byteLimit": 2048000,
      "rowLimit": 10000
     },
     "inputWidgets": {},
     "nuid": "b432c0fe-93b4-44c6-9b18-6bb2ca0cf048",
     "showTitle": false,
     "tableResultSettingsMap": {},
     "title": ""
    },
    "colab": {
     "base_uri": "https://localhost:8080/"
    },
    "executionInfo": {
     "elapsed": 17,
     "status": "ok",
     "timestamp": 1721739586741,
     "user": {
      "displayName": "ashis kumar",
      "userId": "11359412875664137523"
     },
     "user_tz": -330
    },
    "id": "lnFhQMxJKVg8",
    "outputId": "c6ae7fa4-12f4-4fd5-efa1-a144a132cc73",
    "scrolled": true
   },
   "outputs": [
    {
     "name": "stdout",
     "output_type": "stream",
     "text": [
      "***************************** From Personalized insights  POV: Test set vectors for userid=10045 ****************************************\n",
      "(1, 11997) & [0.084035   0.05294205 0.05294205 0.084035   0.05294205 0.05294205\n",
      " 0.084035   0.084035   0.084035   0.084035   0.084035   0.084035\n",
      " 0.084035   0.05294205 0.05294205 0.05294205 0.084035   0.084035\n",
      " 0.05294205 0.05294205 0.05294205 0.084035   0.05294205 0.084035\n",
      " 0.084035   0.05294205 0.05294205 0.05294205 0.084035   0.084035\n",
      " 0.084035   0.084035   0.084035   0.084035   0.05294205 0.05294205\n",
      " 0.05294205 0.05294205 0.084035   0.084035  ]\n",
      "***************************** Train set vectors coming from collaborative filtering ****************************************\n",
      "Length of users from collaborative filtering i.e. Top 5 users recommended : 5,[60 26 95 69 49]\n",
      "Corresponding to each user we have 11997 products coming as a recommendation : (5, 11997)\n",
      "Combining all the 5 user's recommendation into 1, we have got: (1, 11997)\n",
      "*******************************Combined*******************************************\n",
      "Giving weightage to Personalized Profile vectors and collaborative vectors \n",
      "0.7 * Personalized Profile vectors + (1-0.7)*collaborative_vectors\n",
      "Combined sort: [[0.         0.         0.         ... 0.05953309 0.06074414 0.06237273]]\n",
      "Out of the 11997 items , we recommend the 20 items at position [ 401  135    8 1592 2845 2846  396 4753  496  880 4398 4848 4416 7414\n",
      "  764 7170  772 1320 1169 2110] to the user: 10045\n",
      "***************************** From Personalized insights  POV: Test set vectors for userid=10046 ****************************************\n",
      "(1, 11997) & [0.03176523 0.03176523 0.03176523 0.050421   0.03176523 0.03176523\n",
      " 0.03176523 0.03176523 0.03176523 0.050421   0.08003333 0.03176523\n",
      " 0.03176523 0.03176523 0.03176523 0.08003333 0.03176523 0.050421\n",
      " 0.03176523 0.03176523 0.03176523 0.03176523 0.050421   0.050421\n",
      " 0.050421   0.03176523 0.03176523 0.03176523 0.050421   0.03176523\n",
      " 0.050421  ]\n",
      "***************************** Train set vectors coming from collaborative filtering ****************************************\n",
      "Length of users from collaborative filtering i.e. Top 5 users recommended : 5,[69 95 49 26 10]\n",
      "Corresponding to each user we have 11997 products coming as a recommendation : (5, 11997)\n",
      "Combining all the 5 user's recommendation into 1, we have got: (1, 11997)\n",
      "*******************************Combined*******************************************\n",
      "Giving weightage to Personalized Profile vectors and collaborative vectors \n",
      "0.7 * Personalized Profile vectors + (1-0.7)*collaborative_vectors\n",
      "Combined sort: [[0.         0.         0.         ... 0.03553678 0.05602333 0.05639231]]\n",
      "Out of the 11997 items , we recommend the 20 items at position [  719  1203   699   187  4506 11357  1743  9754  2507  5772     4  2471\n",
      "  1144   336  1615  9828   491  2247   102  5823] to the user: 10046\n",
      "***************************** From Personalized insights  POV: Test set vectors for userid=10047 ****************************************\n",
      "(1, 11997) & [0.00893193 0.14285714 0.02250423 0.09       0.00893193 0.00893193\n",
      " 0.14285714 0.00893193 0.00893193 0.02250423 0.00893193 0.09\n",
      " 0.035721   0.02250423 0.035721   0.00893193 0.02250423 0.0567\n",
      " 0.00893193 0.035721   0.00893193 0.01417766 0.00893193 0.00893193\n",
      " 0.01417766 0.00893193 0.02250423 0.035721   0.02250423 0.00893193\n",
      " 0.03668189 0.00893193 0.00893193 0.14285714 0.02250423 0.00893193\n",
      " 0.02250423 0.01417766 0.00893193 0.14285714 0.00893193 0.02250423\n",
      " 0.02250423 0.035721   0.00893193 0.01417766 0.00893193 0.04465293\n",
      " 0.00893193 0.035721   0.14285714 0.00893193 0.00893193 0.03143616\n",
      " 0.0567     0.00893193 0.00893193 0.02250423 0.00893193 0.02250423\n",
      " 0.00893193 0.02310959 0.035721   0.02250423]\n",
      "***************************** Train set vectors coming from collaborative filtering ****************************************\n",
      "Length of users from collaborative filtering i.e. Top 5 users recommended : 5,[95 69 49 10 26]\n",
      "Corresponding to each user we have 11997 products coming as a recommendation : (5, 11997)\n",
      "Combining all the 5 user's recommendation into 1, we have got: (1, 11997)\n",
      "*******************************Combined*******************************************\n",
      "Giving weightage to Personalized Profile vectors and collaborative vectors \n",
      "0.7 * Personalized Profile vectors + (1-0.7)*collaborative_vectors\n",
      "Combined sort: [[0.         0.         0.         ... 0.1        0.10012258 0.10026898]]\n",
      "Out of the 11997 items , we recommend the 20 items at position [   45  3706  6549   182  2798   767   126  1099  7963  5654  2334  1034\n",
      " 11631  4428  2044   847  1215  6348  7461   509] to the user: 10047\n",
      "***************************** From Personalized insights  POV: Test set vectors for userid=10048 ****************************************\n",
      "(1, 11997) & [0.05294205 0.05294205 0.05294205 0.084035   0.13697705 0.05294205\n",
      " 0.05294205 0.05294205 0.05294205 0.05294205 0.05294205 0.084035\n",
      " 0.084035   0.084035   0.084035   0.05294205 0.084035   0.13697705\n",
      " 0.05294205 0.084035   0.084035   0.084035   0.05294205 0.084035\n",
      " 0.13697705 0.05294205 0.05294205 0.05294205 0.084035   0.084035\n",
      " 0.05294205 0.05294205 0.05294205 0.13697705 0.05294205 0.13697705\n",
      " 0.084035   0.084035   0.05294205 0.084035   0.05294205 0.05294205\n",
      " 0.084035   0.084035   0.05294205 0.05294205 0.084035   0.05294205\n",
      " 0.084035   0.05294205 0.13697705 0.084035   0.05294205 0.084035\n",
      " 0.084035   0.05294205 0.084035   0.05294205 0.084035   0.084035\n",
      " 0.084035   0.05294205 0.084035  ]\n",
      "***************************** Train set vectors coming from collaborative filtering ****************************************\n",
      "Length of users from collaborative filtering i.e. Top 5 users recommended : 5,[95 49 69 26 10]\n",
      "Corresponding to each user we have 11997 products coming as a recommendation : (5, 11997)\n",
      "Combining all the 5 user's recommendation into 1, we have got: (1, 11997)\n",
      "*******************************Combined*******************************************\n",
      "Giving weightage to Personalized Profile vectors and collaborative vectors \n",
      "0.7 * Personalized Profile vectors + (1-0.7)*collaborative_vectors\n",
      "Combined sort: [[0.         0.         0.         ... 0.09588393 0.09588393 0.09588393]]\n",
      "Out of the 11997 items , we recommend the 20 items at position [1309 6537 3299 2847  137 2027  719 1592  652 1184 1824 7576 1773 6167\n",
      " 1970 6610 8005 3389 9428  117] to the user: 10048\n",
      "***************************** From Personalized insights  POV: Test set vectors for userid=10049 ****************************************\n",
      "(1, 11997) & [0.03176523 0.16221956 0.03176523 0.03176523 0.050421   0.13045433\n",
      " 0.08003333 0.050421   0.08003333]\n",
      "***************************** Train set vectors coming from collaborative filtering ****************************************\n",
      "Length of users from collaborative filtering i.e. Top 5 users recommended : 5,[69 95 49 26 10]\n",
      "Corresponding to each user we have 11997 products coming as a recommendation : (5, 11997)\n",
      "Combining all the 5 user's recommendation into 1, we have got: (1, 11997)\n",
      "*******************************Combined*******************************************\n",
      "Giving weightage to Personalized Profile vectors and collaborative vectors \n",
      "0.7 * Personalized Profile vectors + (1-0.7)*collaborative_vectors\n",
      "Combined sort: [[0.         0.         0.         ... 0.05602333 0.09131803 0.11355369]]\n",
      "Out of the 11997 items , we recommend the 20 items at position [1356 3113 5136 8717 2345 8071  144 1743 1910  723   50    9  406   34\n",
      " 2321  344 1658  135 2370  536] to the user: 10049\n",
      "***************************** From Personalized insights  POV: Test set vectors for userid=10050 ****************************************\n",
      "(1, 11997) & [0.05294205 0.13697705 0.084035   0.084035  ]\n",
      "***************************** Train set vectors coming from collaborative filtering ****************************************\n",
      "Length of users from collaborative filtering i.e. Top 5 users recommended : 5,[69 95 49 26 10]\n",
      "Corresponding to each user we have 11997 products coming as a recommendation : (5, 11997)\n",
      "Combining all the 5 user's recommendation into 1, we have got: (1, 11997)\n",
      "*******************************Combined*******************************************\n",
      "Giving weightage to Personalized Profile vectors and collaborative vectors \n",
      "0.7 * Personalized Profile vectors + (1-0.7)*collaborative_vectors\n",
      "Combined sort: [[0.         0.         0.         ... 0.0588245  0.0588245  0.09588393]]\n",
      "Out of the 11997 items , we recommend the 20 items at position [ 775 2601 2051  145  723   50    9  406   34 2321  344 1658  135 2370\n",
      "  536  129 1454 1455 3713 1456] to the user: 10050\n",
      "***************************** From Personalized insights  POV: Test set vectors for userid=10051 ****************************************\n",
      "(1, 11997) & [0.0735     0.0735     0.0735     0.01157843 0.046305   0.0735\n",
      " 0.046305   0.0735     0.0735     0.01157843 0.046305   0.046305\n",
      " 0.0735     0.11666667 0.046305   0.0735     0.046305   0.046305\n",
      " 0.046305   0.046305   0.0735     0.0735     0.16055558 0.16297167\n",
      " 0.01157843 0.0735     0.11666667 0.0735     0.046305   0.02917215\n",
      " 0.046305   0.01157843 0.0735     0.01837845 0.02917215 0.11666667\n",
      " 0.0735     0.046305   0.04075058 0.0735     0.11666667 0.0735\n",
      " 0.01157843 0.046305   0.01157843 0.0735     0.0735     0.0735\n",
      " 0.046305   0.01157843 0.046305   0.0735     0.046305   0.0735\n",
      " 0.0735    ]\n",
      "***************************** Train set vectors coming from collaborative filtering ****************************************\n",
      "Length of users from collaborative filtering i.e. Top 5 users recommended : 5,[69 60 95 49 26]\n",
      "Corresponding to each user we have 11997 products coming as a recommendation : (5, 11997)\n",
      "Combining all the 5 user's recommendation into 1, we have got: (1, 11997)\n",
      "*******************************Combined*******************************************\n",
      "Giving weightage to Personalized Profile vectors and collaborative vectors \n",
      "0.7 * Personalized Profile vectors + (1-0.7)*collaborative_vectors\n",
      "Combined sort: [[0.         0.         0.         ... 0.08166667 0.1123889  0.11408017]]\n",
      "Out of the 11997 items , we recommend the 20 items at position [1183 1155 1698 4191  862 2808   13   37 1150 1783 2865  537  411 4660\n",
      " 1594 8836  915 8814   73 5602] to the user: 10051\n",
      "***************************** From Personalized insights  POV: Test set vectors for userid=10052 ****************************************\n",
      "(1, 11997) & [0.02144153 0.0540225  0.02144153 0.02144153 0.02144153 0.02144153\n",
      " 0.02144153 0.0540225  0.08805667 0.02144153 0.02144153 0.08575\n",
      " 0.02144153 0.03403417 0.02144153 0.02144153 0.02144153 0.0540225\n",
      " 0.08575    0.02144153]\n",
      "***************************** Train set vectors coming from collaborative filtering ****************************************\n",
      "Length of users from collaborative filtering i.e. Top 5 users recommended : 5,[95 26 69 49 10]\n",
      "Corresponding to each user we have 11997 products coming as a recommendation : (5, 11997)\n",
      "Combining all the 5 user's recommendation into 1, we have got: (1, 11997)\n",
      "*******************************Combined*******************************************\n",
      "Giving weightage to Personalized Profile vectors and collaborative vectors \n",
      "0.7 * Personalized Profile vectors + (1-0.7)*collaborative_vectors\n",
      "Combined sort: [[0.         0.         0.         ... 0.060025   0.06005214 0.06163967]]\n",
      "Out of the 11997 items , we recommend the 20 items at position [  893  1278  8109   135   847  6751  2021     9   719   187  1249  1622\n",
      "   195   238  1242 10948  2986   380  2117  3963] to the user: 10052\n",
      "***************************** From Personalized insights  POV: Test set vectors for userid=10053 ****************************************\n",
      "(1, 11997) & [0.05294205 0.084035   0.13697705 0.05294205 0.05294205 0.05294205\n",
      " 0.05294205 0.05294205 0.084035   0.05294205 0.084035   0.084035\n",
      " 0.05294205 0.084035   0.084035   0.05294205 0.05294205]\n",
      "***************************** Train set vectors coming from collaborative filtering ****************************************\n",
      "Length of users from collaborative filtering i.e. Top 5 users recommended : 5,[95 71 49 69 26]\n",
      "Corresponding to each user we have 11997 products coming as a recommendation : (5, 11997)\n",
      "Combining all the 5 user's recommendation into 1, we have got: (1, 11997)\n",
      "*******************************Combined*******************************************\n",
      "Giving weightage to Personalized Profile vectors and collaborative vectors \n",
      "0.7 * Personalized Profile vectors + (1-0.7)*collaborative_vectors\n",
      "Combined sort: [[0.         0.         0.         ... 0.0588245  0.06168164 0.09659252]]\n",
      "Out of the 11997 items , we recommend the 20 items at position [  559   127  8004  7708  3045  4210  4405     9  1466  1898 11172  1595\n",
      "  1853   827  7464  8526  3973    50  1505  3209] to the user: 10053\n",
      "***************************** From Personalized insights  POV: Test set vectors for userid=10054 ****************************************\n",
      "(1, 11997) & [0.084035   0.084035   0.084035   0.084035   0.05294205 0.084035\n",
      " 0.05294205 0.05294205 0.05294205 0.084035   0.05294205 0.05294205\n",
      " 0.05294205 0.05294205 0.05294205 0.084035   0.05294205 0.05294205\n",
      " 0.05294205 0.084035   0.084035   0.084035   0.084035   0.13697705\n",
      " 0.05294205 0.05294205 0.084035   0.084035   0.084035   0.05294205\n",
      " 0.084035   0.05294205 0.084035   0.05294205 0.084035   0.05294205\n",
      " 0.084035   0.05294205 0.05294205 0.05294205 0.05294205 0.084035\n",
      " 0.084035   0.05294205 0.084035   0.084035   0.05294205 0.084035\n",
      " 0.084035   0.084035   0.084035   0.05294205 0.084035   0.05294205\n",
      " 0.084035   0.05294205]\n",
      "***************************** Train set vectors coming from collaborative filtering ****************************************\n",
      "Length of users from collaborative filtering i.e. Top 5 users recommended : 5,[26 49 69 95 10]\n",
      "Corresponding to each user we have 11997 products coming as a recommendation : (5, 11997)\n",
      "Combining all the 5 user's recommendation into 1, we have got: (1, 11997)\n",
      "*******************************Combined*******************************************\n",
      "Giving weightage to Personalized Profile vectors and collaborative vectors \n",
      "0.7 * Personalized Profile vectors + (1-0.7)*collaborative_vectors\n",
      "Combined sort: [[0.         0.         0.         ... 0.0588245  0.05947524 0.09588393]]\n",
      "Out of the 11997 items , we recommend the 20 items at position [ 2847   202  7308  2703  9934  3871  4622  8936  5768   347  4334  5839\n",
      "  3832  8237  4125  2717  2499 11142    88   514] to the user: 10054\n",
      "***************************** From Personalized insights  POV: Test set vectors for userid=10055 ****************************************\n",
      "(1, 11997) & [0.02144153 0.02144153 0.08805667 0.0540225  0.0540225  0.08575\n",
      " 0.02144153 0.0540225  0.03403417 0.08575    0.08575    0.02144153\n",
      " 0.02144153 0.08575    0.02144153 0.02144153 0.08575    0.03403417\n",
      " 0.0540225  0.03403417 0.0540225  0.03403417]\n",
      "***************************** Train set vectors coming from collaborative filtering ****************************************\n",
      "Length of users from collaborative filtering i.e. Top 5 users recommended : 5,[26 49 69 95 40]\n",
      "Corresponding to each user we have 11997 products coming as a recommendation : (5, 11997)\n",
      "Combining all the 5 user's recommendation into 1, we have got: (1, 11997)\n",
      "*******************************Combined*******************************************\n",
      "Giving weightage to Personalized Profile vectors and collaborative vectors \n",
      "0.7 * Personalized Profile vectors + (1-0.7)*collaborative_vectors\n",
      "Combined sort: [[0.         0.         0.         ... 0.060025   0.06163967 0.06384023]]\n",
      "Out of the 11997 items , we recommend the 20 items at position [ 406  119 3370 1347 1815 2660  135  786 4738 3694  122  954 3374 6859\n",
      " 4171   80 1841 3090   61 2830] to the user: 10055\n",
      "***************************** From Personalized insights  POV: Test set vectors for userid=10056 ****************************************\n",
      "(1, 11997) & [0.11179856 0.03176523 0.03176523 0.08003333 0.03176523 0.08003333\n",
      " 0.08003333 0.03176523 0.08003333 0.03176523 0.03176523 0.050421\n",
      " 0.03176523 0.03176523 0.03176523 0.08003333 0.03176523 0.03176523\n",
      " 0.050421   0.03176523 0.03176523 0.03176523 0.03176523 0.03176523\n",
      " 0.03176523 0.08003333 0.08003333 0.03176523 0.08003333 0.03176523\n",
      " 0.08003333 0.03176523]\n",
      "***************************** Train set vectors coming from collaborative filtering ****************************************\n",
      "Length of users from collaborative filtering i.e. Top 5 users recommended : 5,[69 95 49 26 10]\n",
      "Corresponding to each user we have 11997 products coming as a recommendation : (5, 11997)\n",
      "Combining all the 5 user's recommendation into 1, we have got: (1, 11997)\n",
      "*******************************Combined*******************************************\n",
      "Giving weightage to Personalized Profile vectors and collaborative vectors \n",
      "0.7 * Personalized Profile vectors + (1-0.7)*collaborative_vectors\n",
      "Combined sort: [[0.         0.         0.         ... 0.05602333 0.05602333 0.07825899]]\n",
      "Out of the 11997 items , we recommend the 20 items at position [  60  296  475  298  199 5713 7211 8194 4898 1892 1253 2371 2028 3707\n",
      "  147 2152  593 3271  387 1529] to the user: 10056\n",
      "***************************** From Personalized insights  POV: Test set vectors for userid=10057 ****************************************\n",
      "(1, 11997) & [0.084035   0.13697705 0.05294205 0.13697705 0.084035   0.05294205\n",
      " 0.05294205 0.05294205 0.05294205 0.084035   0.084035   0.084035\n",
      " 0.05294205 0.084035   0.05294205 0.05294205 0.05294205 0.084035\n",
      " 0.05294205 0.05294205 0.05294205 0.084035   0.084035   0.05294205\n",
      " 0.05294205 0.05294205 0.05294205 0.084035   0.084035   0.084035  ]\n",
      "***************************** Train set vectors coming from collaborative filtering ****************************************\n",
      "Length of users from collaborative filtering i.e. Top 5 users recommended : 5,[69 95 49 26 10]\n",
      "Corresponding to each user we have 11997 products coming as a recommendation : (5, 11997)\n",
      "Combining all the 5 user's recommendation into 1, we have got: (1, 11997)\n",
      "*******************************Combined*******************************************\n",
      "Giving weightage to Personalized Profile vectors and collaborative vectors \n",
      "0.7 * Personalized Profile vectors + (1-0.7)*collaborative_vectors\n",
      "Combined sort: [[0.         0.         0.         ... 0.05884666 0.09588393 0.0958867 ]]\n",
      "Out of the 11997 items , we recommend the 20 items at position [  607   523   652  2444   119 10007  2861  4665  2520  4597  8642  3368\n",
      "  1507 11280  1434  1120  2870  1232  5197  4359] to the user: 10057\n",
      "***************************** From Personalized insights  POV: Test set vectors for userid=10058 ****************************************\n",
      "(1, 11997) & [0.03176523 0.050421   0.08003333 0.08003333 0.08003333 0.08003333\n",
      " 0.08003333 0.03176523 0.08003333 0.08003333 0.08003333 0.03176523\n",
      " 0.08003333 0.08003333 0.03176523 0.050421   0.050421   0.050421\n",
      " 0.08003333 0.050421   0.08003333 0.03176523 0.03176523 0.08003333]\n",
      "***************************** Train set vectors coming from collaborative filtering ****************************************\n",
      "Length of users from collaborative filtering i.e. Top 5 users recommended : 5,[49 69 26 95 60]\n",
      "Corresponding to each user we have 11997 products coming as a recommendation : (5, 11997)\n",
      "Combining all the 5 user's recommendation into 1, we have got: (1, 11997)\n",
      "*******************************Combined*******************************************\n",
      "Giving weightage to Personalized Profile vectors and collaborative vectors \n",
      "0.7 * Personalized Profile vectors + (1-0.7)*collaborative_vectors\n",
      "Combined sort: [[0.         0.         0.         ... 0.05617466 0.05621016 0.05667408]]\n",
      "Out of the 11997 items , we recommend the 20 items at position [  202  2847  1559  1436  2895   389   347  7975  6586  2117 10631   388\n",
      "  1751   109  4316  4299  5697  7500    50  1534] to the user: 10058\n",
      "***************************** From Personalized insights  POV: Test set vectors for userid=10059 ****************************************\n",
      "(1, 11997) & [0.050421   0.03176523 0.03176523 0.03176523 0.03176523 0.03176523\n",
      " 0.050421   0.03176523 0.08003333 0.03176523 0.08003333 0.08003333\n",
      " 0.050421   0.03176523 0.050421   0.08003333 0.050421   0.03176523\n",
      " 0.03176523 0.08003333 0.03176523 0.08003333 0.08003333 0.08003333]\n",
      "***************************** Train set vectors coming from collaborative filtering ****************************************\n",
      "Length of users from collaborative filtering i.e. Top 5 users recommended : 5,[69 95 49 26 10]\n",
      "Corresponding to each user we have 11997 products coming as a recommendation : (5, 11997)\n",
      "Combining all the 5 user's recommendation into 1, we have got: (1, 11997)\n",
      "*******************************Combined*******************************************\n",
      "Giving weightage to Personalized Profile vectors and collaborative vectors \n",
      "0.7 * Personalized Profile vectors + (1-0.7)*collaborative_vectors\n",
      "Combined sort: [[0.         0.         0.         ... 0.05602333 0.05602333 0.05602333]]\n",
      "Out of the 11997 items , we recommend the 20 items at position [11755  1094  9561  7350  1759 10531  4149  1307  2262  4266  1946   958\n",
      "   117   559   747  1072  7536  1195   797   457] to the user: 10059\n",
      "***************************** From Personalized insights  POV: Test set vectors for userid=10060 ****************************************\n",
      "(1, 11997) & [0.05294205 0.084035   0.13697705 0.05294205 0.084035   0.05294205\n",
      " 0.05294205 0.05294205 0.05294205 0.05294205 0.05294205 0.05294205\n",
      " 0.05294205 0.084035   0.05294205 0.05294205 0.084035  ]\n",
      "***************************** Train set vectors coming from collaborative filtering ****************************************\n",
      "Length of users from collaborative filtering i.e. Top 5 users recommended : 5,[71 69 95 49 26]\n",
      "Corresponding to each user we have 11997 products coming as a recommendation : (5, 11997)\n",
      "Combining all the 5 user's recommendation into 1, we have got: (1, 11997)\n",
      "*******************************Combined*******************************************\n",
      "Giving weightage to Personalized Profile vectors and collaborative vectors \n",
      "0.7 * Personalized Profile vectors + (1-0.7)*collaborative_vectors\n",
      "Combined sort: [[0.         0.         0.         ... 0.0588245  0.0588245  0.09588393]]\n",
      "Out of the 11997 items , we recommend the 20 items at position [ 445  967 3984 7029  272 1012 3203 3923 6902 4546  825 2932 2016 3219\n",
      " 1552 1898  151   50    9  127] to the user: 10060\n",
      "***************************** From Personalized insights  POV: Test set vectors for userid=10061 ****************************************\n",
      "(1, 11997) & [0.084035   0.05294205 0.084035  ]\n",
      "***************************** Train set vectors coming from collaborative filtering ****************************************\n",
      "Length of users from collaborative filtering i.e. Top 5 users recommended : 5,[69 95 49 26 10]\n",
      "Corresponding to each user we have 11997 products coming as a recommendation : (5, 11997)\n",
      "Combining all the 5 user's recommendation into 1, we have got: (1, 11997)\n",
      "*******************************Combined*******************************************\n",
      "Giving weightage to Personalized Profile vectors and collaborative vectors \n",
      "0.7 * Personalized Profile vectors + (1-0.7)*collaborative_vectors\n",
      "Combined sort: [[0.         0.         0.         ... 0.03705943 0.0588245  0.0588245 ]]\n",
      "Out of the 11997 items , we recommend the 20 items at position [1595 9738 3737  723   50    9  406   34 2321  344 1658  135 2370  536\n",
      "  129 1455 1456 1454 3713  401] to the user: 10061\n",
      "***************************** From Personalized insights  POV: Test set vectors for userid=10062 ****************************************\n",
      "(1, 11997) & [0.08003333 0.050421   0.08003333 0.03176523 0.03176523 0.03176523\n",
      " 0.08003333 0.03176523 0.08003333 0.03176523]\n",
      "***************************** Train set vectors coming from collaborative filtering ****************************************\n",
      "Length of users from collaborative filtering i.e. Top 5 users recommended : 5,[95 69 49 26 71]\n",
      "Corresponding to each user we have 11997 products coming as a recommendation : (5, 11997)\n",
      "Combining all the 5 user's recommendation into 1, we have got: (1, 11997)\n",
      "*******************************Combined*******************************************\n",
      "Giving weightage to Personalized Profile vectors and collaborative vectors \n",
      "0.7 * Personalized Profile vectors + (1-0.7)*collaborative_vectors\n",
      "Combined sort: [[0.         0.         0.         ... 0.05602333 0.05602333 0.05751998]]\n",
      "Out of the 11997 items , we recommend the 20 items at position [  13 1821 5636 5012  215 3762 9960 5467 4611 2955   50    9  127 1505\n",
      " 1194 3209  406  129 1012   34] to the user: 10062\n",
      "***************************** From Personalized insights  POV: Test set vectors for userid=10063 ****************************************\n",
      "(1, 11997) & [0.084035   0.05294205 0.084035   0.05294205 0.084035   0.084035\n",
      " 0.084035   0.084035   0.084035   0.05294205 0.05294205 0.05294205\n",
      " 0.05294205 0.05294205 0.084035   0.084035   0.05294205 0.05294205\n",
      " 0.05294205 0.084035   0.05294205 0.084035   0.05294205 0.084035\n",
      " 0.05294205 0.05294205 0.05294205 0.05294205 0.05294205 0.084035\n",
      " 0.05294205 0.05294205 0.084035   0.05294205 0.05294205]\n",
      "***************************** Train set vectors coming from collaborative filtering ****************************************\n",
      "Length of users from collaborative filtering i.e. Top 5 users recommended : 5,[60 69 49 26 73]\n",
      "Corresponding to each user we have 11997 products coming as a recommendation : (5, 11997)\n",
      "Combining all the 5 user's recommendation into 1, we have got: (1, 11997)\n",
      "*******************************Combined*******************************************\n",
      "Giving weightage to Personalized Profile vectors and collaborative vectors \n",
      "0.7 * Personalized Profile vectors + (1-0.7)*collaborative_vectors\n",
      "Combined sort: [[0.         0.         0.         ... 0.0588245  0.0588245  0.06752728]]\n",
      "Out of the 11997 items , we recommend the 20 items at position [   50   996  4165  9174  2753  3887 10862   973   850   235  3252   878\n",
      "   886  4483   234  7502  4989 10011  3518  1017] to the user: 10063\n",
      "***************************** From Personalized insights  POV: Test set vectors for userid=10064 ****************************************\n",
      "(1, 11997) & [0.050421   0.11179856 0.08003333 0.050421   0.03176523 0.03176523\n",
      " 0.050421   0.050421   0.03176523 0.050421   0.08003333 0.050421\n",
      " 0.08003333 0.03176523 0.050421   0.08003333 0.03176523 0.050421\n",
      " 0.03176523]\n",
      "***************************** Train set vectors coming from collaborative filtering ****************************************\n",
      "Length of users from collaborative filtering i.e. Top 5 users recommended : 5,[69 95 26 49 10]\n",
      "Corresponding to each user we have 11997 products coming as a recommendation : (5, 11997)\n",
      "Combining all the 5 user's recommendation into 1, we have got: (1, 11997)\n",
      "*******************************Combined*******************************************\n",
      "Giving weightage to Personalized Profile vectors and collaborative vectors \n",
      "0.7 * Personalized Profile vectors + (1-0.7)*collaborative_vectors\n",
      "Combined sort: [[0.         0.         0.         ... 0.05602333 0.05602333 0.07826175]]\n",
      "Out of the 11997 items , we recommend the 20 items at position [ 144 4776 2541 3367  347  128 2671  378 1613 1018 4725 2310 5014  693\n",
      " 2152  610 4942 5794 4124  723] to the user: 10064\n",
      "***************************** From Personalized insights  POV: Test set vectors for userid=10065 ****************************************\n",
      "(1, 11997) & [0.08003333 0.050421   0.03176523 0.08003333 0.050421   0.13045433\n",
      " 0.03176523 0.03176523 0.08003333 0.08003333 0.08003333 0.08003333\n",
      " 0.050421   0.050421   0.050421   0.08003333 0.08003333 0.08003333\n",
      " 0.08003333 0.050421   0.050421   0.03176523 0.050421   0.050421\n",
      " 0.050421   0.08003333 0.050421   0.08003333 0.050421   0.050421\n",
      " 0.08003333 0.11179856 0.050421   0.08003333 0.08003333 0.050421\n",
      " 0.08003333 0.03176523 0.08003333 0.08003333 0.08003333 0.03176523\n",
      " 0.03176523 0.08003333 0.03176523 0.08003333 0.050421   0.08003333]\n",
      "***************************** Train set vectors coming from collaborative filtering ****************************************\n",
      "Length of users from collaborative filtering i.e. Top 5 users recommended : 5,[69 95 49 26 10]\n",
      "Corresponding to each user we have 11997 products coming as a recommendation : (5, 11997)\n",
      "Combining all the 5 user's recommendation into 1, we have got: (1, 11997)\n",
      "*******************************Combined*******************************************\n",
      "Giving weightage to Personalized Profile vectors and collaborative vectors \n",
      "0.7 * Personalized Profile vectors + (1-0.7)*collaborative_vectors\n",
      "Combined sort: [[0.         0.         0.         ... 0.05603242 0.07825899 0.0913211 ]]\n",
      "Out of the 11997 items , we recommend the 20 items at position [  627  4057  2435  3477  3256  1815  5937  7505 10813  2382  4432  3672\n",
      "  5886  1414  6564  4972  8607  1298   195  1327] to the user: 10065\n",
      "***************************** From Personalized insights  POV: Test set vectors for userid=10066 ****************************************\n",
      "(1, 11997) & [0.13045433 0.050421   0.050421   0.03176523 0.08003333 0.08003333\n",
      " 0.050421   0.050421   0.08003333 0.050421   0.08003333 0.08003333\n",
      " 0.050421   0.050421   0.08003333 0.08003333 0.08003333 0.08003333\n",
      " 0.08003333 0.050421   0.050421   0.08003333 0.08003333 0.13045433\n",
      " 0.050421   0.08003333 0.08003333 0.08003333 0.08003333 0.08003333\n",
      " 0.050421   0.050421   0.050421   0.050421   0.08003333 0.050421\n",
      " 0.050421   0.050421   0.050421   0.08003333]\n",
      "***************************** Train set vectors coming from collaborative filtering ****************************************\n",
      "Length of users from collaborative filtering i.e. Top 5 users recommended : 5,[49 69 95 26 10]\n",
      "Corresponding to each user we have 11997 products coming as a recommendation : (5, 11997)\n",
      "Combining all the 5 user's recommendation into 1, we have got: (1, 11997)\n",
      "*******************************Combined*******************************************\n",
      "Giving weightage to Personalized Profile vectors and collaborative vectors \n",
      "0.7 * Personalized Profile vectors + (1-0.7)*collaborative_vectors\n",
      "Combined sort: [[0.         0.         0.         ... 0.05813548 0.09131803 0.09131803]]\n",
      "Out of the 11997 items , we recommend the 20 items at position [   29  4623  1658   688  3708  1749  2690  4370  9508  4572  3393  1867\n",
      " 11946  3319  6318  6259  5448  2612   828  5989] to the user: 10066\n",
      "***************************** From Personalized insights  POV: Test set vectors for userid=10067 ****************************************\n",
      "(1, 11997) & [0.0388962  0.0388962  0.098      0.02450461 0.06174    0.0154379\n",
      " 0.098     ]\n",
      "***************************** Train set vectors coming from collaborative filtering ****************************************\n",
      "Length of users from collaborative filtering i.e. Top 5 users recommended : 5,[69 60 49 26 95]\n",
      "Corresponding to each user we have 11997 products coming as a recommendation : (5, 11997)\n",
      "Combining all the 5 user's recommendation into 1, we have got: (1, 11997)\n",
      "*******************************Combined*******************************************\n",
      "Giving weightage to Personalized Profile vectors and collaborative vectors \n",
      "0.7 * Personalized Profile vectors + (1-0.7)*collaborative_vectors\n",
      "Combined sort: [[0.         0.         0.         ... 0.04387676 0.06988571 0.07731744]]\n",
      "Out of the 11997 items , we recommend the 20 items at position [  50 3183 1440    9   10  245 2211  401  406  154  344 2321   34  164\n",
      " 2849 1658  135 2370   13  536] to the user: 10067\n",
      "***************************** From Personalized insights  POV: Test set vectors for userid=10068 ****************************************\n",
      "(1, 11997) & [0.03403417 0.03403417 0.03403417 0.03403417 0.03403417 0.02144153\n",
      " 0.0540225  0.03403417 0.03403417 0.03403417 0.03403417 0.08805667\n",
      " 0.03403417 0.03403417 0.03403417 0.03403417 0.03403417 0.03403417\n",
      " 0.08575    0.03403417 0.02144153 0.03403417 0.03403417 0.02144153\n",
      " 0.03403417 0.03403417 0.03403417 0.03403417 0.03403417 0.03403417\n",
      " 0.03403417 0.0540225 ]\n",
      "***************************** Train set vectors coming from collaborative filtering ****************************************\n",
      "Length of users from collaborative filtering i.e. Top 5 users recommended : 5,[95 69 49 26 73]\n",
      "Corresponding to each user we have 11997 products coming as a recommendation : (5, 11997)\n",
      "Combining all the 5 user's recommendation into 1, we have got: (1, 11997)\n",
      "*******************************Combined*******************************************\n",
      "Giving weightage to Personalized Profile vectors and collaborative vectors \n",
      "0.7 * Personalized Profile vectors + (1-0.7)*collaborative_vectors\n",
      "Combined sort: [[0.         0.         0.         ... 0.03781575 0.060025   0.06170222]]\n",
      "Out of the 11997 items , we recommend the 20 items at position [ 817 3228  347 9413  401  132 1440  147   61 3693 5251 8174 2858 2573\n",
      " 3574 3694   54 7169  227  537] to the user: 10068\n",
      "***************************** From Personalized insights  POV: Test set vectors for userid=10069 ****************************************\n",
      "(1, 11997) & [0.03176523 0.08003333 0.08003333 0.08003333 0.050421   0.050421\n",
      " 0.050421  ]\n",
      "***************************** Train set vectors coming from collaborative filtering ****************************************\n",
      "Length of users from collaborative filtering i.e. Top 5 users recommended : 5,[69 95 49 26 10]\n",
      "Corresponding to each user we have 11997 products coming as a recommendation : (5, 11997)\n",
      "Combining all the 5 user's recommendation into 1, we have got: (1, 11997)\n",
      "*******************************Combined*******************************************\n",
      "Giving weightage to Personalized Profile vectors and collaborative vectors \n",
      "0.7 * Personalized Profile vectors + (1-0.7)*collaborative_vectors\n",
      "Combined sort: [[0.         0.         0.         ... 0.05602333 0.05602333 0.05605082]]\n",
      "Out of the 11997 items , we recommend the 20 items at position [1722 1965 2124 2536 4576 2954  491  723   50    9  406 2321   34  344\n",
      " 1658  135 2370  536  129 1456] to the user: 10069\n",
      "***************************** From Personalized insights  POV: Test set vectors for userid=10070 ****************************************\n",
      "(1, 11997) & [0.11666667 0.01837845 0.01837845 0.01837845 0.01837845 0.02917215\n",
      " 0.01157843 0.01837845 0.01157843 0.01157843 0.11666667 0.046305\n",
      " 0.07547715 0.02917215 0.02917215 0.046305   0.01837845 0.01157843\n",
      " 0.0735     0.02917215 0.0735     0.046305   0.01837845 0.0735\n",
      " 0.11666667 0.11666667 0.0735    ]\n",
      "***************************** Train set vectors coming from collaborative filtering ****************************************\n",
      "Length of users from collaborative filtering i.e. Top 5 users recommended : 5,[49 69 66 95 26]\n",
      "Corresponding to each user we have 11997 products coming as a recommendation : (5, 11997)\n",
      "Combining all the 5 user's recommendation into 1, we have got: (1, 11997)\n",
      "*******************************Combined*******************************************\n",
      "Giving weightage to Personalized Profile vectors and collaborative vectors \n",
      "0.7 * Personalized Profile vectors + (1-0.7)*collaborative_vectors\n",
      "Combined sort: [[0.         0.         0.         ... 0.08166667 0.08166667 0.08452381]]\n",
      "Out of the 11997 items , we recommend the 20 items at position [    1  2319 10168 10336  2440  5278  5797 11005  9090  2370  2598  6757\n",
      "   671  2479  2591  5772    72  1413  3112   432] to the user: 10070\n",
      "***************************** From Personalized insights  POV: Test set vectors for userid=10071 ****************************************\n",
      "(1, 11997) & [0.02144153 0.08575    0.02144153 0.02144153 0.02144153 0.0540225\n",
      " 0.03403417 0.02144153 0.0540225  0.0540225  0.0540225  0.02144153\n",
      " 0.02144153 0.0540225  0.02144153 0.02144153 0.0540225  0.0540225\n",
      " 0.02144153 0.02144153]\n",
      "***************************** Train set vectors coming from collaborative filtering ****************************************\n",
      "Length of users from collaborative filtering i.e. Top 5 users recommended : 5,[60 69 49 26 95]\n",
      "Corresponding to each user we have 11997 products coming as a recommendation : (5, 11997)\n",
      "Combining all the 5 user's recommendation into 1, we have got: (1, 11997)\n",
      "*******************************Combined*******************************************\n",
      "Giving weightage to Personalized Profile vectors and collaborative vectors \n",
      "0.7 * Personalized Profile vectors + (1-0.7)*collaborative_vectors\n",
      "Combined sort: [[0.         0.         0.         ... 0.0385332  0.03883409 0.06874244]]\n",
      "Out of the 11997 items , we recommend the 20 items at position [  50  526 1783 1150 4715 5034  385 1152  395    9 1217  368   80 2229\n",
      " 6387  195 2562 1314 7172  486] to the user: 10071\n",
      "***************************** From Personalized insights  POV: Test set vectors for userid=10072 ****************************************\n",
      "(1, 11997) & [0.05294205 0.05294205 0.05294205 0.05294205 0.084035  ]\n",
      "***************************** Train set vectors coming from collaborative filtering ****************************************\n",
      "Length of users from collaborative filtering i.e. Top 5 users recommended : 5,[69 95 49 26 10]\n",
      "Corresponding to each user we have 11997 products coming as a recommendation : (5, 11997)\n",
      "Combining all the 5 user's recommendation into 1, we have got: (1, 11997)\n",
      "*******************************Combined*******************************************\n",
      "Giving weightage to Personalized Profile vectors and collaborative vectors \n",
      "0.7 * Personalized Profile vectors + (1-0.7)*collaborative_vectors\n",
      "Combined sort: [[0.         0.         0.         ... 0.03705943 0.03706398 0.0588245 ]]\n",
      "Out of the 11997 items , we recommend the 20 items at position [5146  546  554  535 4456  723   50    9  406   34 2321  344 1658  135\n",
      " 2370  536  129 3713 1454 1455] to the user: 10072\n",
      "***************************** From Personalized insights  POV: Test set vectors for userid=10073 ****************************************\n",
      "(1, 11997) & [0.05294205 0.084035   0.084035   0.084035   0.05294205 0.084035\n",
      " 0.084035   0.084035   0.05294205 0.05294205]\n",
      "***************************** Train set vectors coming from collaborative filtering ****************************************\n",
      "Length of users from collaborative filtering i.e. Top 5 users recommended : 5,[95 49 69 26 10]\n",
      "Corresponding to each user we have 11997 products coming as a recommendation : (5, 11997)\n",
      "Combining all the 5 user's recommendation into 1, we have got: (1, 11997)\n",
      "*******************************Combined*******************************************\n",
      "Giving weightage to Personalized Profile vectors and collaborative vectors \n",
      "0.7 * Personalized Profile vectors + (1-0.7)*collaborative_vectors\n",
      "Combined sort: [[0.        0.        0.        ... 0.0588245 0.0588245 0.059154 ]]\n",
      "Out of the 11997 items , we recommend the 20 items at position [1444 5297  270 3685 3121 4652    9 9561 3500 6555  723   50  406   34\n",
      " 2321  344 1658  135 2370  536] to the user: 10073\n",
      "***************************** From Personalized insights  POV: Test set vectors for userid=10074 ****************************************\n",
      "(1, 11997) & [0.046305   0.0735     0.0735     0.01837845 0.01837845 0.01837845\n",
      " 0.01837845 0.02917215 0.0735     0.02917215 0.01837845 0.01837845\n",
      " 0.11666667 0.01837845 0.01837845 0.01837845 0.01157843 0.11666667\n",
      " 0.02917215 0.11666667]\n",
      "***************************** Train set vectors coming from collaborative filtering ****************************************\n",
      "Length of users from collaborative filtering i.e. Top 5 users recommended : 5,[95 49 69 26 10]\n",
      "Corresponding to each user we have 11997 products coming as a recommendation : (5, 11997)\n",
      "Combining all the 5 user's recommendation into 1, we have got: (1, 11997)\n",
      "*******************************Combined*******************************************\n",
      "Giving weightage to Personalized Profile vectors and collaborative vectors \n",
      "0.7 * Personalized Profile vectors + (1-0.7)*collaborative_vectors\n",
      "Combined sort: [[0.         0.         0.         ... 0.08166667 0.08166667 0.08174772]]\n",
      "Out of the 11997 items , we recommend the 20 items at position [ 541 7370 4409    9   10  228    8 7063  337  227   92  832  220 1232\n",
      "  145  163  491  523 2689 4400] to the user: 10074\n",
      "***************************** From Personalized insights  POV: Test set vectors for userid=10075 ****************************************\n",
      "(1, 11997) & [0.0154379  0.0388962  0.098      0.0388962  0.0154379  0.02450461\n",
      " 0.0154379  0.0388962  0.15974    0.0154379  0.0154379  0.02450461\n",
      " 0.098      0.02450461 0.0154379  0.02450461]\n",
      "***************************** Train set vectors coming from collaborative filtering ****************************************\n",
      "Length of users from collaborative filtering i.e. Top 5 users recommended : 5,[95 26 69 49 10]\n",
      "Corresponding to each user we have 11997 products coming as a recommendation : (5, 11997)\n",
      "Combining all the 5 user's recommendation into 1, we have got: (1, 11997)\n",
      "*******************************Combined*******************************************\n",
      "Giving weightage to Personalized Profile vectors and collaborative vectors \n",
      "0.7 * Personalized Profile vectors + (1-0.7)*collaborative_vectors\n",
      "Combined sort: [[0.       0.       0.       ... 0.0686   0.0686   0.111818]]\n",
      "Out of the 11997 items , we recommend the 20 items at position [1797  281 5601  135  861  390  749 3685 5897 7575    9  616 2259  797\n",
      " 2263 6189  723   50  406   34] to the user: 10075\n",
      "***************************** From Personalized insights  POV: Test set vectors for userid=10076 ****************************************\n",
      "(1, 11997) & [0.05294205 0.05294205 0.084035   0.084035   0.05294205 0.084035\n",
      " 0.084035  ]\n",
      "***************************** Train set vectors coming from collaborative filtering ****************************************\n",
      "Length of users from collaborative filtering i.e. Top 5 users recommended : 5,[95 49 69 26 10]\n",
      "Corresponding to each user we have 11997 products coming as a recommendation : (5, 11997)\n",
      "Combining all the 5 user's recommendation into 1, we have got: (1, 11997)\n",
      "*******************************Combined*******************************************\n",
      "Giving weightage to Personalized Profile vectors and collaborative vectors \n",
      "0.7 * Personalized Profile vectors + (1-0.7)*collaborative_vectors\n",
      "Combined sort: [[0.        0.        0.        ... 0.0588245 0.0588245 0.0588245]]\n",
      "Out of the 11997 items , we recommend the 20 items at position [ 912 3079 9606 7159    9 3596  163  723   50  406   34 2321  344 1658\n",
      "  135 2370  536  129 1455 1456] to the user: 10076\n",
      "***************************** From Personalized insights  POV: Test set vectors for userid=10077 ****************************************\n",
      "(1, 11997) & [0.02144153 0.0540225  0.08805667 0.08805667 0.03403417 0.0540225\n",
      " 0.08575    0.02144153 0.02144153 0.03403417 0.02144153 0.0540225\n",
      " 0.0540225  0.03403417 0.0540225  0.0540225  0.0540225  0.02144153\n",
      " 0.0540225  0.0540225  0.0540225  0.02144153 0.02144153 0.02144153\n",
      " 0.0540225 ]\n",
      "***************************** Train set vectors coming from collaborative filtering ****************************************\n",
      "Length of users from collaborative filtering i.e. Top 5 users recommended : 5,[69 95 26 49 10]\n",
      "Corresponding to each user we have 11997 products coming as a recommendation : (5, 11997)\n",
      "Combining all the 5 user's recommendation into 1, we have got: (1, 11997)\n",
      "*******************************Combined*******************************************\n",
      "Giving weightage to Personalized Profile vectors and collaborative vectors \n",
      "0.7 * Personalized Profile vectors + (1-0.7)*collaborative_vectors\n",
      "Combined sort: [[0.         0.         0.         ... 0.0603545  0.06163967 0.06166183]]\n",
      "Out of the 11997 items , we recommend the 20 items at position [  654   961  1444   564  7592  6562  3799  2649  1256  6921 10993  7771\n",
      "  4594  7555  4130  1190  1838  9017  8659  1561] to the user: 10077\n",
      "***************************** From Personalized insights  POV: Test set vectors for userid=10078 ****************************************\n",
      "(1, 11997) & [0.08003333 0.03176523 0.050421   0.08003333]\n",
      "***************************** Train set vectors coming from collaborative filtering ****************************************\n",
      "Length of users from collaborative filtering i.e. Top 5 users recommended : 5,[69 95 49 26 10]\n",
      "Corresponding to each user we have 11997 products coming as a recommendation : (5, 11997)\n",
      "Combining all the 5 user's recommendation into 1, we have got: (1, 11997)\n",
      "*******************************Combined*******************************************\n",
      "Giving weightage to Personalized Profile vectors and collaborative vectors \n",
      "0.7 * Personalized Profile vectors + (1-0.7)*collaborative_vectors\n",
      "Combined sort: [[0.         0.         0.         ... 0.0352947  0.05602333 0.05602333]]\n",
      "Out of the 11997 items , we recommend the 20 items at position [ 2561 11237  7018  6080   723    50     9   406    34  2321   344  1658\n",
      "   135  2370   536   129  1455  1454  3713  1456] to the user: 10078\n",
      "***************************** From Personalized insights  POV: Test set vectors for userid=10079 ****************************************\n",
      "(1, 11997) & [0.01417766 0.0567     0.02250423 0.035721   0.09       0.00893193\n",
      " 0.00893193 0.02250423 0.1467     0.0567     0.0567     0.04561382\n",
      " 0.00893193 0.0567     0.14285714 0.00893193 0.19955714 0.09\n",
      " 0.09       0.1467     0.14285714 0.01417766 0.23285714 0.0567\n",
      " 0.09       0.16536137 0.14285714 0.09       0.09       0.035721\n",
      " 0.00893193 0.01417766]\n",
      "***************************** Train set vectors coming from collaborative filtering ****************************************\n",
      "Length of users from collaborative filtering i.e. Top 5 users recommended : 5,[49 69 95 26 10]\n",
      "Corresponding to each user we have 11997 products coming as a recommendation : (5, 11997)\n",
      "Combining all the 5 user's recommendation into 1, we have got: (1, 11997)\n",
      "*******************************Combined*******************************************\n",
      "Giving weightage to Personalized Profile vectors and collaborative vectors \n",
      "0.7 * Personalized Profile vectors + (1-0.7)*collaborative_vectors\n",
      "Combined sort: [[0.         0.         0.         ... 0.11575296 0.13969    0.163     ]]\n",
      "Out of the 11997 items , we recommend the 20 items at position [3738 1330 5665 2432  523 8153 1132 2775 8306  249 2366 2063 5405 8579\n",
      "  721  703 1034   92 4241  792] to the user: 10079\n",
      "***************************** From Personalized insights  POV: Test set vectors for userid=10080 ****************************************\n",
      "(1, 11997) & [0.050421   0.03176523 0.03176523 0.08218623 0.03176523 0.03176523\n",
      " 0.050421   0.03176523 0.03176523 0.03176523 0.08003333 0.03176523\n",
      " 0.08003333 0.03176523 0.08003333]\n",
      "***************************** Train set vectors coming from collaborative filtering ****************************************\n",
      "Length of users from collaborative filtering i.e. Top 5 users recommended : 5,[49 69 95 26 10]\n",
      "Corresponding to each user we have 11997 products coming as a recommendation : (5, 11997)\n",
      "Combining all the 5 user's recommendation into 1, we have got: (1, 11997)\n",
      "*******************************Combined*******************************************\n",
      "Giving weightage to Personalized Profile vectors and collaborative vectors \n",
      "0.7 * Personalized Profile vectors + (1-0.7)*collaborative_vectors\n",
      "Combined sort: [[0.         0.         0.         ... 0.05602333 0.05602333 0.05818334]]\n",
      "Out of the 11997 items , we recommend the 20 items at position [ 600 6501 8663 4505  119  764  714  712  577 7028 4848 2387 2397 2507\n",
      "  554  723   50    9  406 2321] to the user: 10080\n",
      "***************************** From Personalized insights  POV: Test set vectors for userid=10081 ****************************************\n",
      "(1, 11997) & [0.08003333 0.03176523 0.050421   0.050421   0.08003333 0.08003333\n",
      " 0.050421   0.050421   0.03176523 0.050421   0.08003333 0.050421\n",
      " 0.08003333 0.050421   0.08003333 0.050421   0.050421   0.08218623\n",
      " 0.050421   0.050421   0.03176523 0.08003333 0.03176523 0.03176523\n",
      " 0.03176523]\n",
      "***************************** Train set vectors coming from collaborative filtering ****************************************\n",
      "Length of users from collaborative filtering i.e. Top 5 users recommended : 5,[69 49 95 26 10]\n",
      "Corresponding to each user we have 11997 products coming as a recommendation : (5, 11997)\n",
      "Combining all the 5 user's recommendation into 1, we have got: (1, 11997)\n",
      "*******************************Combined*******************************************\n",
      "Giving weightage to Personalized Profile vectors and collaborative vectors \n",
      "0.7 * Personalized Profile vectors + (1-0.7)*collaborative_vectors\n",
      "Combined sort: [[0.         0.         0.         ... 0.05602333 0.05602333 0.05753036]]\n",
      "Out of the 11997 items , we recommend the 20 items at position [4398 3219 2711 1257 5315 1328 2870   15 1427 1379 2783 3757 3201  780\n",
      " 4433  930 3843 1697 5093  671] to the user: 10081\n",
      "***************************** From Personalized insights  POV: Test set vectors for userid=10082 ****************************************\n",
      "(1, 11997) & [0.03403417 0.02144153 0.02144153 0.02144153 0.08575    0.03403417\n",
      " 0.08575    0.03403417 0.02144153 0.08575    0.0540225  0.08575\n",
      " 0.02144153 0.08575    0.02144153 0.02144153 0.05547571 0.02144153\n",
      " 0.02144153 0.02144153 0.03403417 0.02144153 0.02144153 0.08575\n",
      " 0.03403417 0.03403417 0.08575    0.02144153 0.08575    0.0540225\n",
      " 0.02144153 0.03403417 0.02144153 0.02144153 0.03403417 0.0540225\n",
      " 0.03403417 0.03403417 0.03403417 0.03403417 0.03403417 0.02144153]\n",
      "***************************** Train set vectors coming from collaborative filtering ****************************************\n",
      "Length of users from collaborative filtering i.e. Top 5 users recommended : 5,[95 69 49 26 60]\n",
      "Corresponding to each user we have 11997 products coming as a recommendation : (5, 11997)\n",
      "Combining all the 5 user's recommendation into 1, we have got: (1, 11997)\n",
      "*******************************Combined*******************************************\n",
      "Giving weightage to Personalized Profile vectors and collaborative vectors \n",
      "0.7 * Personalized Profile vectors + (1-0.7)*collaborative_vectors\n",
      "Combined sort: [[0.        0.        0.        ... 0.060025  0.060025  0.0600603]]\n",
      "Out of the 11997 items , we recommend the 20 items at position [  693  4880   847   195   773   295  3535  4156  1345   721  4917  7079\n",
      "     9   559 10838 11189   272  5178  7741  3593] to the user: 10082\n",
      "***************************** From Personalized insights  POV: Test set vectors for userid=10083 ****************************************\n",
      "(1, 11997) & [0.0388962  0.098      0.098      0.02450461 0.098      0.02450461\n",
      " 0.0388962  0.03994251 0.0154379  0.0388962  0.02450461 0.0388962\n",
      " 0.0388962  0.0388962  0.098      0.098      0.0388962  0.0388962\n",
      " 0.0154379  0.0388962  0.02450461 0.0154379  0.17683871 0.02450461\n",
      " 0.0154379  0.02450461 0.0154379  0.02450461 0.0388962  0.02450461\n",
      " 0.0388962  0.0388962  0.02450461 0.03994251 0.098      0.098\n",
      " 0.03994251 0.02450461 0.0388962  0.02450461 0.03994251 0.098\n",
      " 0.098      0.098      0.0388962  0.0388962  0.0388962  0.1368962\n",
      " 0.0154379  0.02450461 0.0388962  0.02450461 0.0154379  0.02450461\n",
      " 0.02450461 0.0388962  0.0154379  0.0154379  0.0388962  0.0388962\n",
      " 0.0388962  0.0154379  0.02450461 0.0388962  0.02450461 0.0154379\n",
      " 0.0388962  0.02450461 0.0388962  0.0388962  0.02450461 0.0388962\n",
      " 0.0154379  0.02450461 0.02450461 0.0388962  0.02450461 0.098\n",
      " 0.06174    0.06174    0.02450461 0.0154379  0.02450461]\n",
      "***************************** Train set vectors coming from collaborative filtering ****************************************\n",
      "Length of users from collaborative filtering i.e. Top 5 users recommended : 5,[95 69 10 49 60]\n",
      "Corresponding to each user we have 11997 products coming as a recommendation : (5, 11997)\n",
      "Combining all the 5 user's recommendation into 1, we have got: (1, 11997)\n",
      "*******************************Combined*******************************************\n",
      "Giving weightage to Personalized Profile vectors and collaborative vectors \n",
      "0.7 * Personalized Profile vectors + (1-0.7)*collaborative_vectors\n",
      "Combined sort: [[0.         0.         0.         ... 0.06972474 0.09582734 0.12415607]]\n",
      "Out of the 11997 items , we recommend the 20 items at position [ 719 2307  359 1783  144 1124 1992 1656 1110 8663  388   62   51 9499\n",
      " 9278   13  231 1603 1132 1058] to the user: 10083\n",
      "***************************** From Personalized insights  POV: Test set vectors for userid=10084 ****************************************\n",
      "(1, 11997) & [0.03176523 0.03176523 0.050421   0.03176523 0.03176523 0.03176523\n",
      " 0.050421   0.03176523 0.03176523 0.03176523 0.03176523 0.03176523\n",
      " 0.03176523 0.08003333 0.03176523 0.03176523 0.03176523]\n",
      "***************************** Train set vectors coming from collaborative filtering ****************************************\n",
      "Length of users from collaborative filtering i.e. Top 5 users recommended : 5,[95 69 49 26 10]\n",
      "Corresponding to each user we have 11997 products coming as a recommendation : (5, 11997)\n",
      "Combining all the 5 user's recommendation into 1, we have got: (1, 11997)\n",
      "*******************************Combined*******************************************\n",
      "Giving weightage to Personalized Profile vectors and collaborative vectors \n",
      "0.7 * Personalized Profile vectors + (1-0.7)*collaborative_vectors\n",
      "Combined sort: [[0.         0.         0.         ... 0.0352947  0.0352947  0.05602333]]\n",
      "Out of the 11997 items , we recommend the 20 items at position [ 6684  1356   565     9  1222   954  2377   368  9872 11628  7514  2707\n",
      "  3113  6254  4290  1175  2083   723    50   406] to the user: 10084\n",
      "***************************** From Personalized insights  POV: Test set vectors for userid=10085 ****************************************\n",
      "(1, 11997) & [0.08003333 0.050421   0.050421   0.13045433 0.08003333 0.08003333\n",
      " 0.08003333 0.08003333 0.050421   0.050421   0.08003333 0.050421\n",
      " 0.08003333 0.08003333 0.050421   0.050421   0.08003333 0.08003333\n",
      " 0.03176523 0.08003333 0.050421   0.08003333 0.08003333 0.08003333\n",
      " 0.08003333 0.03176523 0.08003333 0.050421   0.03176523 0.08003333\n",
      " 0.08003333 0.08003333 0.08003333 0.03176523 0.050421   0.08003333\n",
      " 0.050421   0.050421   0.050421   0.03176523 0.050421   0.08003333\n",
      " 0.03176523 0.050421   0.050421   0.03176523 0.050421   0.08003333\n",
      " 0.08003333 0.08003333 0.050421   0.050421   0.08003333]\n",
      "***************************** Train set vectors coming from collaborative filtering ****************************************\n",
      "Length of users from collaborative filtering i.e. Top 5 users recommended : 5,[95 69 49 60 26]\n",
      "Corresponding to each user we have 11997 products coming as a recommendation : (5, 11997)\n",
      "Combining all the 5 user's recommendation into 1, we have got: (1, 11997)\n",
      "*******************************Combined*******************************************\n",
      "Giving weightage to Personalized Profile vectors and collaborative vectors \n",
      "0.7 * Personalized Profile vectors + (1-0.7)*collaborative_vectors\n",
      "Combined sort: [[0.         0.         0.         ... 0.05639231 0.05957156 0.09164753]]\n",
      "Out of the 11997 items , we recommend the 20 items at position [ 175  401  214  225   16 4898 9376  765 6404 2237 3844 1638 9049 2030\n",
      "  365 1166 3382 4634 5263 2971] to the user: 10085\n",
      "***************************** From Personalized insights  POV: Test set vectors for userid=10086 ****************************************\n",
      "(1, 11997) & [0.0154379  0.0154379  0.02450461 0.098      0.0154379  0.098\n",
      " 0.098      0.06174    0.098      0.06174    0.0388962  0.12250461\n",
      " 0.098      0.06174    0.0388962 ]\n",
      "***************************** Train set vectors coming from collaborative filtering ****************************************\n",
      "Length of users from collaborative filtering i.e. Top 5 users recommended : 5,[49 69 95 26 10]\n",
      "Corresponding to each user we have 11997 products coming as a recommendation : (5, 11997)\n",
      "Combining all the 5 user's recommendation into 1, we have got: (1, 11997)\n",
      "*******************************Combined*******************************************\n",
      "Giving weightage to Personalized Profile vectors and collaborative vectors \n",
      "0.7 * Personalized Profile vectors + (1-0.7)*collaborative_vectors\n",
      "Combined sort: [[0.         0.         0.         ... 0.06866255 0.06991232 0.08575322]]\n",
      "Out of the 11997 items , we recommend the 20 items at position [2577  503  817  204 2971 1322 1148 3397 1379 5861 1772  169  490   83\n",
      "   92  723   50    9  406   34] to the user: 10086\n",
      "***************************** From Personalized insights  POV: Test set vectors for userid=10087 ****************************************\n",
      "(1, 11997) & [0.05294205 0.05294205 0.084035   0.05294205 0.05294205 0.084035\n",
      " 0.05294205 0.084035   0.084035   0.05294205 0.05294205 0.13697705\n",
      " 0.084035   0.05294205 0.05294205 0.05294205 0.05294205 0.05294205\n",
      " 0.084035   0.084035   0.05294205 0.084035   0.084035   0.084035\n",
      " 0.05294205 0.084035   0.084035   0.05294205 0.084035   0.05294205\n",
      " 0.05294205 0.084035   0.084035   0.084035   0.084035   0.084035\n",
      " 0.084035   0.084035   0.05294205 0.084035   0.05294205 0.084035\n",
      " 0.05294205 0.084035   0.084035   0.084035   0.084035   0.084035\n",
      " 0.084035   0.084035   0.084035   0.05294205 0.05294205 0.084035\n",
      " 0.05294205 0.05294205 0.05294205 0.084035   0.084035   0.084035\n",
      " 0.05294205 0.084035  ]\n",
      "***************************** Train set vectors coming from collaborative filtering ****************************************\n",
      "Length of users from collaborative filtering i.e. Top 5 users recommended : 5,[95 49 69 60 26]\n",
      "Corresponding to each user we have 11997 products coming as a recommendation : (5, 11997)\n",
      "Combining all the 5 user's recommendation into 1, we have got: (1, 11997)\n",
      "*******************************Combined*******************************************\n",
      "Giving weightage to Personalized Profile vectors and collaborative vectors \n",
      "0.7 * Personalized Profile vectors + (1-0.7)*collaborative_vectors\n",
      "Combined sort: [[0.         0.         0.         ... 0.06067176 0.06093665 0.09588393]]\n",
      "Out of the 11997 items , we recommend the 20 items at position [  511  1658   899   359   318  1440   175   523  1436 10297  5540  2880\n",
      "  2151  7039  6015  5615  1558  3440 10140  4034] to the user: 10087\n",
      "***************************** From Personalized insights  POV: Test set vectors for userid=10088 ****************************************\n",
      "(1, 11997) & [0.084035   0.05294205 0.05294205 0.084035   0.05294205 0.05294205\n",
      " 0.05294205 0.05294205 0.05294205 0.05294205 0.084035   0.05294205\n",
      " 0.05294205 0.084035   0.05294205 0.084035   0.05294205 0.05294205\n",
      " 0.05294205 0.05294205 0.05294205 0.05294205 0.084035   0.084035\n",
      " 0.05294205 0.084035   0.05294205 0.084035   0.084035  ]\n",
      "***************************** Train set vectors coming from collaborative filtering ****************************************\n",
      "Length of users from collaborative filtering i.e. Top 5 users recommended : 5,[10 69 95 49 26]\n",
      "Corresponding to each user we have 11997 products coming as a recommendation : (5, 11997)\n",
      "Combining all the 5 user's recommendation into 1, we have got: (1, 11997)\n",
      "*******************************Combined*******************************************\n",
      "Giving weightage to Personalized Profile vectors and collaborative vectors \n",
      "0.7 * Personalized Profile vectors + (1-0.7)*collaborative_vectors\n",
      "Combined sort: [[0.        0.        0.        ... 0.0588245 0.0588245 0.0588245]]\n",
      "Out of the 11997 items , we recommend the 20 items at position [ 1110  6526 10631  5410 11068   931   525    51  5768  3057   636   727\n",
      "   708   756   398  6085  8888  3954  5289  3992] to the user: 10088\n",
      "***************************** From Personalized insights  POV: Test set vectors for userid=10089 ****************************************\n",
      "(1, 11997) & [0.02144153 0.08575    0.08575    0.02144153 0.08575    0.08575\n",
      " 0.02144153 0.08575    0.02144153 0.08575    0.0540225  0.10719153\n",
      " 0.08575    0.02144153 0.03403417]\n",
      "***************************** Train set vectors coming from collaborative filtering ****************************************\n",
      "Length of users from collaborative filtering i.e. Top 5 users recommended : 5,[95 69 49 26 10]\n",
      "Corresponding to each user we have 11997 products coming as a recommendation : (5, 11997)\n",
      "Combining all the 5 user's recommendation into 1, we have got: (1, 11997)\n",
      "*******************************Combined*******************************************\n",
      "Giving weightage to Personalized Profile vectors and collaborative vectors \n",
      "0.7 * Personalized Profile vectors + (1-0.7)*collaborative_vectors\n",
      "Combined sort: [[0.         0.         0.         ... 0.060025   0.060025   0.07503407]]\n",
      "Out of the 11997 items , we recommend the 20 items at position [4985 1792  365 2334 2633 4441  951 5877 4859 8068    9 2625 2709 1723\n",
      " 8012  723   50  406 2321   34] to the user: 10089\n",
      "***************************** From Personalized insights  POV: Test set vectors for userid=10090 ****************************************\n",
      "(1, 11997) & [0.084035   0.05294205 0.05294205 0.084035   0.13697705 0.084035\n",
      " 0.084035   0.084035   0.05294205 0.084035   0.084035   0.084035\n",
      " 0.05294205 0.05294205 0.084035   0.084035   0.084035   0.05294205\n",
      " 0.084035   0.05294205 0.05294205 0.05294205 0.05294205 0.084035\n",
      " 0.084035  ]\n",
      "***************************** Train set vectors coming from collaborative filtering ****************************************\n",
      "Length of users from collaborative filtering i.e. Top 5 users recommended : 5,[69 38 60 26 49]\n",
      "Corresponding to each user we have 11997 products coming as a recommendation : (5, 11997)\n",
      "Combining all the 5 user's recommendation into 1, we have got: (1, 11997)\n",
      "*******************************Combined*******************************************\n",
      "Giving weightage to Personalized Profile vectors and collaborative vectors \n",
      "0.7 * Personalized Profile vectors + (1-0.7)*collaborative_vectors\n",
      "Combined sort: [[0.         0.         0.         ... 0.06039169 0.06056353 0.09588393]]\n",
      "Out of the 11997 items , we recommend the 20 items at position [ 759  721 2140 1436  861  776   20 2808 1325 9501  811 9543 3982 2309\n",
      " 1318   50 1440 4355 3917  491] to the user: 10090\n",
      "***************************** From Personalized insights  POV: Test set vectors for userid=10091 ****************************************\n",
      "(1, 11997) & [0.1160741  0.06174    0.06174    0.0154379  0.06174    0.06174\n",
      " 0.098      0.098      0.098      0.06174    0.06174    0.06174\n",
      " 0.06174    0.06174    0.06174    0.1986362  0.06174    0.0388962\n",
      " 0.06174    0.0388962  0.06174    0.06174    0.06174    0.0154379\n",
      " 0.0388962  0.0154379  0.06174    0.0154379  0.0154379  0.0388962\n",
      " 0.06174    0.02450461 0.0154379  0.0154379  0.06174    0.0388962\n",
      " 0.06174    0.06174    0.02450461 0.06174    0.06174    0.098\n",
      " 0.06174    0.06174    0.098      0.098      0.06174    0.0154379\n",
      " 0.0388962  0.02450461 0.0154379  0.0388962  0.02450461 0.098     ]\n",
      "***************************** Train set vectors coming from collaborative filtering ****************************************\n",
      "Length of users from collaborative filtering i.e. Top 5 users recommended : 5,[71 95 69 49 26]\n",
      "Corresponding to each user we have 11997 products coming as a recommendation : (5, 11997)\n",
      "Combining all the 5 user's recommendation into 1, we have got: (1, 11997)\n",
      "*******************************Combined*******************************************\n",
      "Giving weightage to Personalized Profile vectors and collaborative vectors \n",
      "0.7 * Personalized Profile vectors + (1-0.7)*collaborative_vectors\n",
      "Combined sort: [[0.         0.         0.         ... 0.07145714 0.08125187 0.13904534]]\n",
      "Out of the 11997 items , we recommend the 20 items at position [  859     5   127  3641   144  4101   126 11665  4216    13  1538   323\n",
      "  2476   564  1099   358  2037    87  3356  3106] to the user: 10091\n",
      "***************************** From Personalized insights  POV: Test set vectors for userid=10092 ****************************************\n",
      "(1, 11997) & [0.02917215 0.01837845 0.11666667 0.02917215 0.01157843 0.0735\n",
      " 0.02917215 0.046305   0.046305   0.02917215 0.046305   0.046305\n",
      " 0.046305   0.046305   0.02917215 0.11666667 0.046305   0.01837845\n",
      " 0.0735     0.11666667 0.02917215 0.02917215 0.01837845 0.046305\n",
      " 0.11666667]\n",
      "***************************** Train set vectors coming from collaborative filtering ****************************************\n",
      "Length of users from collaborative filtering i.e. Top 5 users recommended : 5,[73 69 49 26 95]\n",
      "Corresponding to each user we have 11997 products coming as a recommendation : (5, 11997)\n",
      "Combining all the 5 user's recommendation into 1, we have got: (1, 11997)\n",
      "*******************************Combined*******************************************\n",
      "Giving weightage to Personalized Profile vectors and collaborative vectors \n",
      "0.7 * Personalized Profile vectors + (1-0.7)*collaborative_vectors\n",
      "Combined sort: [[0.         0.         0.         ... 0.08166667 0.08166667 0.08511716]]\n",
      "Out of the 11997 items , we recommend the 20 items at position [  234  6086 11112  3617   607  4332   817   724  9495  3830  1826  1942\n",
      "  1807  3414    50   641  1444  3519  7318   393] to the user: 10092\n",
      "***************************** From Personalized insights  POV: Test set vectors for userid=10093 ****************************************\n",
      "(1, 11997) & [0.08218623 0.08003333 0.03176523 0.050421   0.08003333 0.03176523\n",
      " 0.08003333 0.08003333 0.03176523 0.08003333 0.08003333 0.08003333\n",
      " 0.16221956 0.16221956 0.08003333 0.03176523 0.03176523]\n",
      "***************************** Train set vectors coming from collaborative filtering ****************************************\n",
      "Length of users from collaborative filtering i.e. Top 5 users recommended : 5,[60 69 49 26 95]\n",
      "Corresponding to each user we have 11997 products coming as a recommendation : (5, 11997)\n",
      "Combining all the 5 user's recommendation into 1, we have got: (1, 11997)\n",
      "*******************************Combined*******************************************\n",
      "Giving weightage to Personalized Profile vectors and collaborative vectors \n",
      "0.7 * Personalized Profile vectors + (1-0.7)*collaborative_vectors\n",
      "Combined sort: [[0.         0.         0.         ... 0.06624781 0.11355369 0.11355369]]\n",
      "Out of the 11997 items , we recommend the 20 items at position [5640 4456   50 1274  279  510 2708 3319 5988 1995 3800  380  368 1265\n",
      " 2275 8934 6218    9  401  406] to the user: 10093\n",
      "***************************** From Personalized insights  POV: Test set vectors for userid=10094 ****************************************\n",
      "(1, 11997) & [0.03176523 0.03176523 0.08003333 0.050421   0.03176523 0.08218623\n",
      " 0.08218623 0.03176523 0.03176523 0.03176523 0.050421   0.03176523\n",
      " 0.03176523 0.050421   0.03176523]\n",
      "***************************** Train set vectors coming from collaborative filtering ****************************************\n",
      "Length of users from collaborative filtering i.e. Top 5 users recommended : 5,[69 95 49 26 10]\n",
      "Corresponding to each user we have 11997 products coming as a recommendation : (5, 11997)\n",
      "Combining all the 5 user's recommendation into 1, we have got: (1, 11997)\n",
      "*******************************Combined*******************************************\n",
      "Giving weightage to Personalized Profile vectors and collaborative vectors \n",
      "0.7 * Personalized Profile vectors + (1-0.7)*collaborative_vectors\n",
      "Combined sort: [[0.         0.         0.         ... 0.0563222  0.05753036 0.05753036]]\n",
      "Out of the 11997 items , we recommend the 20 items at position [1535 1532  710 1475 2719 3792 1934  368 3030 2997 2171 1830 5116 1500\n",
      "  491  723   50    9  406   34] to the user: 10094\n",
      "***************************** From Personalized insights  POV: Test set vectors for userid=10095 ****************************************\n",
      "(1, 11997) & [0.05294205 0.084035   0.084035   0.084035   0.084035   0.084035\n",
      " 0.084035   0.084035   0.084035  ]\n",
      "***************************** Train set vectors coming from collaborative filtering ****************************************\n",
      "Length of users from collaborative filtering i.e. Top 5 users recommended : 5,[73 95 49 69 26]\n",
      "Corresponding to each user we have 11997 products coming as a recommendation : (5, 11997)\n",
      "Combining all the 5 user's recommendation into 1, we have got: (1, 11997)\n",
      "*******************************Combined*******************************************\n",
      "Giving weightage to Personalized Profile vectors and collaborative vectors \n",
      "0.7 * Personalized Profile vectors + (1-0.7)*collaborative_vectors\n",
      "Combined sort: [[0.         0.         0.         ... 0.05903213 0.05915657 0.06246213]]\n",
      "Out of the 11997 items , we recommend the 20 items at position [1319 1787 1149 4457 4710 6415 1150  347    9   50  234  406 1907   34\n",
      " 2321  344 1658  135 2370  536] to the user: 10095\n",
      "***************************** From Personalized insights  POV: Test set vectors for userid=10096 ****************************************\n",
      "(1, 11997) & [0.08218623 0.050421   0.08003333 0.03176523 0.08003333 0.050421\n",
      " 0.08003333 0.08003333 0.08003333 0.050421   0.08003333 0.03176523]\n",
      "***************************** Train set vectors coming from collaborative filtering ****************************************\n",
      "Length of users from collaborative filtering i.e. Top 5 users recommended : 5,[95 49 69 26 10]\n",
      "Corresponding to each user we have 11997 products coming as a recommendation : (5, 11997)\n",
      "Combining all the 5 user's recommendation into 1, we have got: (1, 11997)\n",
      "*******************************Combined*******************************************\n",
      "Giving weightage to Personalized Profile vectors and collaborative vectors \n",
      "0.7 * Personalized Profile vectors + (1-0.7)*collaborative_vectors\n",
      "Combined sort: [[0.         0.         0.         ... 0.05602333 0.05602333 0.06078209]]\n",
      "Out of the 11997 items , we recommend the 20 items at position [   9 1464 4814 2799 2783  961  500  134 1110 4738  954 5086  723   50\n",
      "  406 2321   34  344 1658  135] to the user: 10096\n",
      "***************************** From Personalized insights  POV: Test set vectors for userid=10097 ****************************************\n",
      "(1, 11997) & [0.05294205 0.084035   0.084035  ]\n",
      "***************************** Train set vectors coming from collaborative filtering ****************************************\n",
      "Length of users from collaborative filtering i.e. Top 5 users recommended : 5,[95 49 69 26 10]\n",
      "Corresponding to each user we have 11997 products coming as a recommendation : (5, 11997)\n",
      "Combining all the 5 user's recommendation into 1, we have got: (1, 11997)\n",
      "*******************************Combined*******************************************\n",
      "Giving weightage to Personalized Profile vectors and collaborative vectors \n",
      "0.7 * Personalized Profile vectors + (1-0.7)*collaborative_vectors\n",
      "Combined sort: [[0.         0.         0.         ... 0.04031117 0.0588245  0.0588245 ]]\n",
      "Out of the 11997 items , we recommend the 20 items at position [1552  534    9  723   50  406   34 2321  344 1658  135 2370  536  129\n",
      " 1454 3713 1455 1456  401 1453] to the user: 10097\n",
      "***************************** From Personalized insights  POV: Test set vectors for userid=10098 ****************************************\n",
      "(1, 11997) & [0.02144153 0.0540225  0.08575    0.03403417 0.03403417 0.0540225\n",
      " 0.03403417 0.03403417]\n",
      "***************************** Train set vectors coming from collaborative filtering ****************************************\n",
      "Length of users from collaborative filtering i.e. Top 5 users recommended : 5,[69 95 49 26 10]\n",
      "Corresponding to each user we have 11997 products coming as a recommendation : (5, 11997)\n",
      "Combining all the 5 user's recommendation into 1, we have got: (1, 11997)\n",
      "*******************************Combined*******************************************\n",
      "Giving weightage to Personalized Profile vectors and collaborative vectors \n",
      "0.7 * Personalized Profile vectors + (1-0.7)*collaborative_vectors\n",
      "Combined sort: [[0.         0.         0.         ... 0.03781575 0.03781575 0.060025  ]]\n",
      "Out of the 11997 items , we recommend the 20 items at position [ 2145  6338  1671  5060 11294  6898  4194   167   723    50     9   406\n",
      "  2321    34   344  1658   135  2370   536   129] to the user: 10098\n",
      "***************************** From Personalized insights  POV: Test set vectors for userid=10099 ****************************************\n",
      "(1, 11997) & [0.02144153 0.03403417 0.08575    0.0540225 ]\n",
      "***************************** Train set vectors coming from collaborative filtering ****************************************\n",
      "Length of users from collaborative filtering i.e. Top 5 users recommended : 5,[95 69 49 26 10]\n",
      "Corresponding to each user we have 11997 products coming as a recommendation : (5, 11997)\n",
      "Combining all the 5 user's recommendation into 1, we have got: (1, 11997)\n",
      "*******************************Combined*******************************************\n",
      "Giving weightage to Personalized Profile vectors and collaborative vectors \n",
      "0.7 * Personalized Profile vectors + (1-0.7)*collaborative_vectors\n",
      "Combined sort: [[0.         0.         0.         ... 0.02388647 0.03781575 0.060025  ]]\n",
      "Out of the 11997 items , we recommend the 20 items at position [1655 3693   10    9  723   50  406 2321   34  344 1658  135 2370  536\n",
      "  129 3713 1456 1455 1454  401] to the user: 10099\n",
      "***************************** From Personalized insights  POV: Test set vectors for userid=10100 ****************************************\n",
      "(1, 11997) & [0.05294205 0.084035   0.084035   0.084035   0.084035  ]\n",
      "***************************** Train set vectors coming from collaborative filtering ****************************************\n",
      "Length of users from collaborative filtering i.e. Top 5 users recommended : 5,[95 69 49 26 10]\n",
      "Corresponding to each user we have 11997 products coming as a recommendation : (5, 11997)\n",
      "Combining all the 5 user's recommendation into 1, we have got: (1, 11997)\n",
      "*******************************Combined*******************************************\n",
      "Giving weightage to Personalized Profile vectors and collaborative vectors \n",
      "0.7 * Personalized Profile vectors + (1-0.7)*collaborative_vectors\n",
      "Combined sort: [[0.         0.         0.         ... 0.0588245  0.0588245  0.05923778]]\n",
      "Out of the 11997 items , we recommend the 20 items at position [ 721 7253 7252 5253  559  723   50    9  406   34 2321  344 1658  135\n",
      " 2370  536  129 1456 1454 3713] to the user: 10100\n",
      "***************************** From Personalized insights  POV: Test set vectors for userid=10101 ****************************************\n",
      "(1, 11997) & [0.02144153 0.0540225  0.03403417 0.03403417 0.02144153 0.02144153\n",
      " 0.03403417 0.0540225  0.08805667 0.03403417 0.0540225  0.03403417\n",
      " 0.03403417 0.03403417 0.02144153 0.03403417 0.02144153 0.03403417\n",
      " 0.03403417 0.0540225  0.03403417 0.03403417 0.03403417 0.0540225\n",
      " 0.03403417 0.03403417 0.02144153 0.0540225  0.02144153 0.03403417\n",
      " 0.0540225  0.02144153 0.03403417 0.02144153 0.02144153 0.03403417\n",
      " 0.0540225  0.02144153 0.0540225  0.0540225  0.0540225  0.0540225\n",
      " 0.0540225  0.0540225  0.02144153 0.02144153 0.03403417 0.03403417\n",
      " 0.05547571 0.03403417 0.02144153 0.03403417 0.03403417 0.02144153\n",
      " 0.02144153 0.03403417 0.02144153 0.08575    0.08575   ]\n",
      "***************************** Train set vectors coming from collaborative filtering ****************************************\n",
      "Length of users from collaborative filtering i.e. Top 5 users recommended : 5,[69 49 60 26 40]\n",
      "Corresponding to each user we have 11997 products coming as a recommendation : (5, 11997)\n",
      "Combining all the 5 user's recommendation into 1, we have got: (1, 11997)\n",
      "*******************************Combined*******************************************\n",
      "Giving weightage to Personalized Profile vectors and collaborative vectors \n",
      "0.7 * Personalized Profile vectors + (1-0.7)*collaborative_vectors\n",
      "Combined sort: [[0.         0.         0.         ... 0.060025   0.060025   0.06163967]]\n",
      "Out of the 11997 items , we recommend the 20 items at position [  448 11741 11734    50  2199  1442  5665   546  3522  3756  1875  3352\n",
      "  3527   386  3657  2975  1146  3814   490  1116] to the user: 10101\n",
      "***************************** From Personalized insights  POV: Test set vectors for userid=10102 ****************************************\n",
      "(1, 11997) & [0.03176523 0.03176523 0.08003333 0.03176523 0.11179856 0.03176523\n",
      " 0.03176523 0.08003333 0.08003333 0.08003333 0.11179856 0.03176523\n",
      " 0.08003333 0.08003333 0.03176523 0.08003333 0.03176523 0.08003333\n",
      " 0.08218623 0.08003333 0.08003333 0.03176523 0.03176523 0.03176523\n",
      " 0.03176523 0.08003333]\n",
      "***************************** Train set vectors coming from collaborative filtering ****************************************\n",
      "Length of users from collaborative filtering i.e. Top 5 users recommended : 5,[95 69 49 26 10]\n",
      "Corresponding to each user we have 11997 products coming as a recommendation : (5, 11997)\n",
      "Combining all the 5 user's recommendation into 1, we have got: (1, 11997)\n",
      "*******************************Combined*******************************************\n",
      "Giving weightage to Personalized Profile vectors and collaborative vectors \n",
      "0.7 * Personalized Profile vectors + (1-0.7)*collaborative_vectors\n",
      "Combined sort: [[0.         0.         0.         ... 0.05753036 0.07825899 0.07825899]]\n",
      "Out of the 11997 items , we recommend the 20 items at position [ 331 1293 3903  954 1559 9368 4576 2551 1772 3262 5068 1279  155 1107\n",
      "   13  719  142 5919 8459 5434] to the user: 10102\n",
      "***************************** From Personalized insights  POV: Test set vectors for userid=10103 ****************************************\n",
      "(1, 11997) & [0.03176523 0.08003333 0.050421   0.03176523 0.03176523 0.03176523\n",
      " 0.03176523 0.03176523 0.050421   0.03176523 0.050421   0.050421\n",
      " 0.03176523 0.03176523 0.11179856 0.03176523 0.03176523 0.03176523\n",
      " 0.03176523 0.03176523 0.08218623 0.03176523 0.03176523 0.03176523\n",
      " 0.03176523 0.03176523 0.03176523 0.03176523 0.03176523]\n",
      "***************************** Train set vectors coming from collaborative filtering ****************************************\n",
      "Length of users from collaborative filtering i.e. Top 5 users recommended : 5,[95 49 69 26 10]\n",
      "Corresponding to each user we have 11997 products coming as a recommendation : (5, 11997)\n",
      "Combining all the 5 user's recommendation into 1, we have got: (1, 11997)\n",
      "*******************************Combined*******************************************\n",
      "Giving weightage to Personalized Profile vectors and collaborative vectors \n",
      "0.7 * Personalized Profile vectors + (1-0.7)*collaborative_vectors\n",
      "Combined sort: [[0.         0.         0.         ... 0.05602333 0.05753036 0.07825899]]\n",
      "Out of the 11997 items , we recommend the 20 items at position [ 1485  5869    51  1107  1110    60   962     9   456  1161  2474  1123\n",
      "  2152   630  7317   316  5163  6154 11424  6862] to the user: 10103\n",
      "***************************** From Personalized insights  POV: Test set vectors for userid=10104 ****************************************\n",
      "(1, 11997) & [0.05294205 0.05294205 0.084035   0.05294205 0.05294205 0.084035\n",
      " 0.084035   0.084035   0.084035   0.05294205 0.084035   0.084035\n",
      " 0.05294205 0.05294205 0.05294205 0.084035   0.05294205 0.05294205\n",
      " 0.05294205 0.05294205 0.084035   0.084035   0.05294205 0.05294205\n",
      " 0.084035   0.05294205 0.084035   0.05294205 0.05294205 0.084035\n",
      " 0.084035   0.084035   0.084035   0.084035   0.05294205]\n",
      "***************************** Train set vectors coming from collaborative filtering ****************************************\n",
      "Length of users from collaborative filtering i.e. Top 5 users recommended : 5,[95 69 49 26 10]\n",
      "Corresponding to each user we have 11997 products coming as a recommendation : (5, 11997)\n",
      "Combining all the 5 user's recommendation into 1, we have got: (1, 11997)\n",
      "*******************************Combined*******************************************\n",
      "Giving weightage to Personalized Profile vectors and collaborative vectors \n",
      "0.7 * Personalized Profile vectors + (1-0.7)*collaborative_vectors\n",
      "Combined sort: [[0.         0.         0.         ... 0.0588245  0.05882904 0.05919347]]\n",
      "Out of the 11997 items , we recommend the 20 items at position [  712   546  5311  2211   962   912  9097   542  3436  7774  6100   209\n",
      "   537  7420  4304 10531  7614     9   713  1777] to the user: 10104\n",
      "***************************** From Personalized insights  POV: Test set vectors for userid=10105 ****************************************\n",
      "(1, 11997) & [0.05294205 0.084035   0.05294205 0.084035   0.05294205 0.084035\n",
      " 0.05294205 0.05294205]\n",
      "***************************** Train set vectors coming from collaborative filtering ****************************************\n",
      "Length of users from collaborative filtering i.e. Top 5 users recommended : 5,[95 69 49 40 26]\n",
      "Corresponding to each user we have 11997 products coming as a recommendation : (5, 11997)\n",
      "Combining all the 5 user's recommendation into 1, we have got: (1, 11997)\n",
      "*******************************Combined*******************************************\n",
      "Giving weightage to Personalized Profile vectors and collaborative vectors \n",
      "0.7 * Personalized Profile vectors + (1-0.7)*collaborative_vectors\n",
      "Combined sort: [[0.         0.         0.         ... 0.0588245  0.05885465 0.05888705]]\n",
      "Out of the 11997 items , we recommend the 20 items at position [ 817  245 1760    9 2140  899 1777  491   50  406 2047 1775 2321   34\n",
      "  344 1658 2199  135 2370  536] to the user: 10105\n",
      "***************************** From Personalized insights  POV: Test set vectors for userid=10106 ****************************************\n",
      "(1, 11997) & [0.03176523 0.03176523 0.03176523 0.03176523 0.03176523 0.050421\n",
      " 0.08003333 0.050421   0.03176523 0.050421   0.050421   0.050421\n",
      " 0.050421   0.050421   0.050421   0.08003333 0.050421   0.050421  ]\n",
      "***************************** Train set vectors coming from collaborative filtering ****************************************\n",
      "Length of users from collaborative filtering i.e. Top 5 users recommended : 5,[69 95 49 26 10]\n",
      "Corresponding to each user we have 11997 products coming as a recommendation : (5, 11997)\n",
      "Combining all the 5 user's recommendation into 1, we have got: (1, 11997)\n",
      "*******************************Combined*******************************************\n",
      "Giving weightage to Personalized Profile vectors and collaborative vectors \n",
      "0.7 * Personalized Profile vectors + (1-0.7)*collaborative_vectors\n",
      "Combined sort: [[0.         0.         0.         ... 0.03566367 0.05602333 0.05602333]]\n",
      "Out of the 11997 items , we recommend the 20 items at position [  556  8843   717  2377  4564  5697   827 11235   544  4290   818 10366\n",
      "     4   368   145   491   235   797   723    50] to the user: 10106\n",
      "***************************** From Personalized insights  POV: Test set vectors for userid=10107 ****************************************\n",
      "(1, 11997) & [0.046305   0.01837845 0.01157843 0.046305   0.046305   0.046305\n",
      " 0.046305   0.01157843 0.01157843 0.01157843 0.01837845 0.02917215\n",
      " 0.046305   0.0735     0.11666667 0.02995688 0.02917215 0.046305\n",
      " 0.01157843 0.05788343 0.046305   0.01157843 0.046305   0.0735\n",
      " 0.046305   0.01157843 0.01157843 0.01837845 0.01837845 0.046305\n",
      " 0.046305   0.046305   0.01157843 0.046305   0.046305  ]\n",
      "***************************** Train set vectors coming from collaborative filtering ****************************************\n",
      "Length of users from collaborative filtering i.e. Top 5 users recommended : 5,[69 95 49 26 10]\n",
      "Corresponding to each user we have 11997 products coming as a recommendation : (5, 11997)\n",
      "Combining all the 5 user's recommendation into 1, we have got: (1, 11997)\n",
      "*******************************Combined*******************************************\n",
      "Giving weightage to Personalized Profile vectors and collaborative vectors \n",
      "0.7 * Personalized Profile vectors + (1-0.7)*collaborative_vectors\n",
      "Combined sort: [[0.         0.         0.         ... 0.05145    0.05149343 0.08166667]]\n",
      "Out of the 11997 items , we recommend the 20 items at position [ 2608  2347  3653  3325   391   279   498 11249  6555  6124   296  6145\n",
      "  5081  2044  3330  6180  2968  3548     5  2798] to the user: 10107\n",
      "***************************** From Personalized insights  POV: Test set vectors for userid=10108 ****************************************\n",
      "(1, 11997) & [0.05294205 0.05294205 0.084035   0.084035   0.05294205 0.05294205\n",
      " 0.05294205 0.05294205 0.05294205 0.05294205 0.05294205 0.05294205\n",
      " 0.05294205 0.05294205 0.05294205 0.05294205 0.05294205 0.084035\n",
      " 0.05294205 0.05294205]\n",
      "***************************** Train set vectors coming from collaborative filtering ****************************************\n",
      "Length of users from collaborative filtering i.e. Top 5 users recommended : 5,[49 95 69 26 10]\n",
      "Corresponding to each user we have 11997 products coming as a recommendation : (5, 11997)\n",
      "Combining all the 5 user's recommendation into 1, we have got: (1, 11997)\n",
      "*******************************Combined*******************************************\n",
      "Giving weightage to Personalized Profile vectors and collaborative vectors \n",
      "0.7 * Personalized Profile vectors + (1-0.7)*collaborative_vectors\n",
      "Combined sort: [[0.         0.         0.         ... 0.0588245  0.0588245  0.06020913]]\n",
      "Out of the 11997 items , we recommend the 20 items at position [  44  145 5533    9    4  564 1597 2437  187 1065  825  797 4649 2266\n",
      "  316  847 8969  168 6308 1552] to the user: 10108\n",
      "***************************** From Personalized insights  POV: Test set vectors for userid=10109 ****************************************\n",
      "(1, 11997) & [0.00723486 0.00723486 0.045927   0.01822843 0.01822843 0.01822843\n",
      " 0.04368486 0.045927   0.01148391 0.00723486 0.045927   0.03645\n",
      " 0.045927   0.045927   0.01148391 0.03645    0.06428571 0.045927\n",
      " 0.06428571 0.08209587 0.06428571 0.02893401 0.01148391 0.00723486\n",
      " 0.0405     0.01822843 0.045927   0.00723486 0.0405     0.0405\n",
      " 0.0405     0.00723486 0.00723486 0.045927   0.045927   0.00723486\n",
      " 0.01148391 0.00723486 0.03645    0.01148391 0.045927   0.0405\n",
      " 0.045927   0.045927   0.02893401 0.045927   0.06428571 0.045927\n",
      " 0.03645    0.03645    0.00723486 0.0405     0.07142857 0.06428571\n",
      " 0.00723486 0.03645    0.10109577 0.00723486 0.01148391 0.06428571\n",
      " 0.00723486 0.045927   0.045927   0.045927   0.00723486 0.00723486\n",
      " 0.045927   0.02893401 0.00723486 0.01822843 0.00723486 0.00723486\n",
      " 0.00723486 0.01822843 0.02893401 0.00723486 0.03645    0.00723486\n",
      " 0.00723486 0.00723486 0.00723486 0.02893401 0.05741091 0.01822843\n",
      " 0.00723486 0.01822843 0.03645    0.045927   0.05316186 0.06428571\n",
      " 0.00723486 0.01822843 0.03645    0.06428571 0.00723486 0.06428571\n",
      " 0.02893401 0.06428571 0.0405     0.00723486]\n",
      "***************************** Train set vectors coming from collaborative filtering ****************************************\n",
      "Length of users from collaborative filtering i.e. Top 5 users recommended : 5,[95 26 49 69 40]\n",
      "Corresponding to each user we have 11997 products coming as a recommendation : (5, 11997)\n",
      "Combining all the 5 user's recommendation into 1, we have got: (1, 11997)\n",
      "*******************************Combined*******************************************\n",
      "Giving weightage to Personalized Profile vectors and collaborative vectors \n",
      "0.7 * Personalized Profile vectors + (1-0.7)*collaborative_vectors\n",
      "Combined sort: [[0.         0.         0.         ... 0.05       0.05746711 0.07076704]]\n",
      "Out of the 11997 items , we recommend the 20 items at position [ 3970   598  3757   406  4228 10760  3769  9013 10123   568  2783 11020\n",
      "   825  7691  8899   359    41   456  2479  1825] to the user: 10109\n",
      "***************************** From Personalized insights  POV: Test set vectors for userid=10110 ****************************************\n",
      "(1, 11997) & [0.05294205 0.084035   0.084035   0.084035   0.05294205 0.05294205\n",
      " 0.084035   0.05294205 0.084035   0.05294205 0.13697705 0.05294205\n",
      " 0.05294205 0.084035   0.05294205 0.05294205 0.05294205 0.084035\n",
      " 0.05294205 0.05294205 0.05294205 0.05294205 0.05294205 0.05294205\n",
      " 0.05294205 0.05294205 0.084035   0.05294205 0.05294205 0.05294205]\n",
      "***************************** Train set vectors coming from collaborative filtering ****************************************\n",
      "Length of users from collaborative filtering i.e. Top 5 users recommended : 5,[95 69 49 60 26]\n",
      "Corresponding to each user we have 11997 products coming as a recommendation : (5, 11997)\n",
      "Combining all the 5 user's recommendation into 1, we have got: (1, 11997)\n",
      "*******************************Combined*******************************************\n",
      "Giving weightage to Personalized Profile vectors and collaborative vectors \n",
      "0.7 * Personalized Profile vectors + (1-0.7)*collaborative_vectors\n",
      "Combined sort: [[0.         0.         0.         ... 0.05912337 0.05994924 0.09597841]]\n",
      "Out of the 11997 items , we recommend the 20 items at position [ 954  106  690 1495  645 2078 6006  334  342   50 2321  411 1665 8439\n",
      " 1127 3396 6240 1552 3967 1143] to the user: 10110\n",
      "***************************** From Personalized insights  POV: Test set vectors for userid=10111 ****************************************\n",
      "(1, 11997) & [0.05294205 0.05294205 0.05294205 0.05294205 0.084035   0.084035\n",
      " 0.084035   0.05294205 0.05294205 0.084035   0.05294205 0.05294205\n",
      " 0.084035   0.05294205 0.05294205 0.05294205 0.05294205 0.05294205\n",
      " 0.05294205 0.084035  ]\n",
      "***************************** Train set vectors coming from collaborative filtering ****************************************\n",
      "Length of users from collaborative filtering i.e. Top 5 users recommended : 5,[49 69 60 26 95]\n",
      "Corresponding to each user we have 11997 products coming as a recommendation : (5, 11997)\n",
      "Combining all the 5 user's recommendation into 1, we have got: (1, 11997)\n",
      "*******************************Combined*******************************************\n",
      "Giving weightage to Personalized Profile vectors and collaborative vectors \n",
      "0.7 * Personalized Profile vectors + (1-0.7)*collaborative_vectors\n",
      "Combined sort: [[0.         0.         0.         ... 0.0588245  0.05885997 0.05984649]]\n",
      "Out of the 11997 items , we recommend the 20 items at position [ 2452  1371 11261  1913  4510  1926    50  2214  9984   847  3191  4732\n",
      "  2116  8316  7195   168  6100   388  6856  3904] to the user: 10111\n",
      "***************************** From Personalized insights  POV: Test set vectors for userid=10112 ****************************************\n",
      "(1, 11997) & [0.03176523 0.050421   0.050421   0.050421   0.03176523 0.050421\n",
      " 0.03176523 0.03176523 0.050421   0.08218623 0.08218623 0.13045433\n",
      " 0.03176523 0.050421   0.050421   0.08003333 0.03176523 0.03176523\n",
      " 0.03176523 0.03176523 0.050421   0.050421   0.03176523 0.08003333\n",
      " 0.050421   0.03176523 0.03176523 0.050421   0.03176523 0.08003333\n",
      " 0.03176523 0.08003333]\n",
      "***************************** Train set vectors coming from collaborative filtering ****************************************\n",
      "Length of users from collaborative filtering i.e. Top 5 users recommended : 5,[49 69 95 26 10]\n",
      "Corresponding to each user we have 11997 products coming as a recommendation : (5, 11997)\n",
      "Combining all the 5 user's recommendation into 1, we have got: (1, 11997)\n",
      "*******************************Combined*******************************************\n",
      "Giving weightage to Personalized Profile vectors and collaborative vectors \n",
      "0.7 * Personalized Profile vectors + (1-0.7)*collaborative_vectors\n",
      "Combined sort: [[0.         0.         0.         ... 0.05753036 0.05753036 0.09234002]]\n",
      "Out of the 11997 items , we recommend the 20 items at position [ 2452  2155  2154  2911 11485  7683 11213   469  9000  5876  8091  2153\n",
      "  2690   404   254   962  2903  4788   699  2920] to the user: 10112\n",
      "***************************** From Personalized insights  POV: Test set vectors for userid=10113 ****************************************\n",
      "(1, 11997) & [0.06174    0.0154379  0.06174    0.02450461 0.098      0.06174\n",
      " 0.15974    0.06174    0.06174    0.02450461 0.0154379  0.06174\n",
      " 0.02450461 0.06174    0.0771779  0.02450461 0.0154379  0.0154379\n",
      " 0.06174    0.06174    0.0154379  0.098      0.0388962  0.0154379\n",
      " 0.0154379  0.098      0.06174    0.06174    0.0154379  0.0388962\n",
      " 0.098      0.0154379  0.098      0.0154379  0.06174    0.02450461\n",
      " 0.0154379  0.06174    0.098      0.06174    0.1134379  0.0154379\n",
      " 0.02450461 0.06174    0.0154379  0.02450461 0.06174    0.0154379\n",
      " 0.098      0.02450461 0.098      0.098      0.0388962  0.0388962 ]\n",
      "***************************** Train set vectors coming from collaborative filtering ****************************************\n",
      "Length of users from collaborative filtering i.e. Top 5 users recommended : 5,[10 95 49 69 26]\n",
      "Corresponding to each user we have 11997 products coming as a recommendation : (5, 11997)\n",
      "Combining all the 5 user's recommendation into 1, we have got: (1, 11997)\n",
      "*******************************Combined*******************************************\n",
      "Giving weightage to Personalized Profile vectors and collaborative vectors \n",
      "0.7 * Personalized Profile vectors + (1-0.7)*collaborative_vectors\n",
      "Combined sort: [[0.         0.         0.         ... 0.06914995 0.07940653 0.11305864]]\n",
      "Out of the 11997 items , we recommend the 20 items at position [  623  3661  2467  2456   498 10402  1486  3251  5921  8014  2110   916\n",
      "    13   669  2298   625   877   505   836  3374] to the user: 10113\n",
      "***************************** From Personalized insights  POV: Test set vectors for userid=10114 ****************************************\n",
      "(1, 11997) & [0.03403417 0.1397725  0.03403417 0.17380667 0.08575    0.08575\n",
      " 0.08575    0.02144153 0.08575    0.08575    0.03403417 0.08575\n",
      " 0.08575    0.02144153 0.02144153 0.08575   ]\n",
      "***************************** Train set vectors coming from collaborative filtering ****************************************\n",
      "Length of users from collaborative filtering i.e. Top 5 users recommended : 5,[69 49 95 26 10]\n",
      "Corresponding to each user we have 11997 products coming as a recommendation : (5, 11997)\n",
      "Combining all the 5 user's recommendation into 1, we have got: (1, 11997)\n",
      "*******************************Combined*******************************************\n",
      "Giving weightage to Personalized Profile vectors and collaborative vectors \n",
      "0.7 * Personalized Profile vectors + (1-0.7)*collaborative_vectors\n",
      "Combined sort: [[0.         0.         0.         ... 0.06040215 0.09784075 0.12166467]]\n",
      "Out of the 11997 items , we recommend the 20 items at position [1076  153 2432 3833 5205 3464 1108 8854 1188 1882 3615   84  797 5879\n",
      " 2006 7550  723   50    9  406] to the user: 10114\n",
      "***************************** From Personalized insights  POV: Test set vectors for userid=10115 ****************************************\n",
      "(1, 11997) & [0.084035   0.05294205 0.05294205 0.084035   0.05294205 0.05294205\n",
      " 0.084035   0.05294205 0.05294205 0.05294205 0.05294205 0.05294205\n",
      " 0.05294205 0.05294205 0.05294205 0.05294205]\n",
      "***************************** Train set vectors coming from collaborative filtering ****************************************\n",
      "Length of users from collaborative filtering i.e. Top 5 users recommended : 5,[69 95 49 26 10]\n",
      "Corresponding to each user we have 11997 products coming as a recommendation : (5, 11997)\n",
      "Combining all the 5 user's recommendation into 1, we have got: (1, 11997)\n",
      "*******************************Combined*******************************************\n",
      "Giving weightage to Personalized Profile vectors and collaborative vectors \n",
      "0.7 * Personalized Profile vectors + (1-0.7)*collaborative_vectors\n",
      "Combined sort: [[0.         0.         0.         ... 0.0588245  0.05888705 0.05888705]]\n",
      "Out of the 11997 items , we recommend the 20 items at position [ 1427   147   496   635   587  5212  1670  7621  3500 11603   409  3343\n",
      "  2214  2371  5105   229   723    50     9   406] to the user: 10115\n",
      "***************************** From Personalized insights  POV: Test set vectors for userid=10116 ****************************************\n",
      "(1, 11997) & [0.0154379  0.06174    0.098      0.098      0.0154379  0.098\n",
      " 0.0154379  0.02450461 0.0154379  0.098      0.098      0.02450461\n",
      " 0.098      0.06174    0.0154379  0.02450461 0.0388962  0.0154379\n",
      " 0.098      0.0154379  0.0154379  0.02450461 0.0154379  0.098\n",
      " 0.1986362  0.0154379  0.0154379  0.0154379  0.02450461 0.02450461\n",
      " 0.06174    0.0154379  0.098      0.02450461 0.1986362  0.0388962\n",
      " 0.03994251 0.02450461 0.0154379  0.0154379  0.0154379  0.098\n",
      " 0.0154379  0.0154379  0.1134379  0.0154379  0.0154379  0.0154379\n",
      " 0.0154379  0.098      0.098      0.0154379  0.0154379  0.0154379\n",
      " 0.0154379  0.02450461 0.02450461 0.0154379  0.02450461 0.0154379\n",
      " 0.0154379  0.0154379  0.0154379 ]\n",
      "***************************** Train set vectors coming from collaborative filtering ****************************************\n",
      "Length of users from collaborative filtering i.e. Top 5 users recommended : 5,[69 95 49 26 60]\n",
      "Corresponding to each user we have 11997 products coming as a recommendation : (5, 11997)\n",
      "Combining all the 5 user's recommendation into 1, we have got: (1, 11997)\n",
      "*******************************Combined*******************************************\n",
      "Giving weightage to Personalized Profile vectors and collaborative vectors \n",
      "0.7 * Personalized Profile vectors + (1-0.7)*collaborative_vectors\n",
      "Combined sort: [[0.         0.         0.         ... 0.07940653 0.13904534 0.1397041 ]]\n",
      "Out of the 11997 items , we recommend the 20 items at position [1440 2765 4297  464  119 1222  206  535 3574 5648 2520 5665  462  918\n",
      "   40   37  559 2420 2790  693] to the user: 10116\n",
      "***************************** From Personalized insights  POV: Test set vectors for userid=10117 ****************************************\n",
      "(1, 11997) & [0.03176523 0.03176523 0.03176523 0.050421   0.03176523 0.03176523\n",
      " 0.03176523 0.03176523 0.03176523 0.03176523 0.03176523 0.03176523\n",
      " 0.03176523 0.03176523 0.050421   0.03176523 0.03176523 0.08003333\n",
      " 0.050421   0.03176523 0.03176523]\n",
      "***************************** Train set vectors coming from collaborative filtering ****************************************\n",
      "Length of users from collaborative filtering i.e. Top 5 users recommended : 5,[69 95 49 26 10]\n",
      "Corresponding to each user we have 11997 products coming as a recommendation : (5, 11997)\n",
      "Combining all the 5 user's recommendation into 1, we have got: (1, 11997)\n",
      "*******************************Combined*******************************************\n",
      "Giving weightage to Personalized Profile vectors and collaborative vectors \n",
      "0.7 * Personalized Profile vectors + (1-0.7)*collaborative_vectors\n",
      "Combined sort: [[0.         0.         0.         ... 0.0352947  0.03529671 0.05602333]]\n",
      "Out of the 11997 items , we recommend the 20 items at position [ 9133   590  3726 10226  2474  1222  1597   637 10497  1801  3648  5737\n",
      "  2629   410   192  2219   775 10245  4256  2798] to the user: 10117\n",
      "***************************** From Personalized insights  POV: Test set vectors for userid=10118 ****************************************\n",
      "(1, 11997) & [0.08003333 0.050421   0.050421   0.050421   0.050421   0.050421\n",
      " 0.11179856 0.050421   0.08003333 0.08003333 0.08003333 0.08003333\n",
      " 0.08003333]\n",
      "***************************** Train set vectors coming from collaborative filtering ****************************************\n",
      "Length of users from collaborative filtering i.e. Top 5 users recommended : 5,[69 95 49 26 10]\n",
      "Corresponding to each user we have 11997 products coming as a recommendation : (5, 11997)\n",
      "Combining all the 5 user's recommendation into 1, we have got: (1, 11997)\n",
      "*******************************Combined*******************************************\n",
      "Giving weightage to Personalized Profile vectors and collaborative vectors \n",
      "0.7 * Personalized Profile vectors + (1-0.7)*collaborative_vectors\n",
      "Combined sort: [[0.         0.         0.         ... 0.05602333 0.05602333 0.07825899]]\n",
      "Out of the 11997 items , we recommend the 20 items at position [2743 4318 4461 7399 9427  192 3670  302 2489 1853 3480 2678  477  723\n",
      "   50    9  406 2321   34  344] to the user: 10118\n",
      "***************************** From Personalized insights  POV: Test set vectors for userid=10119 ****************************************\n",
      "(1, 11997) & [0.084035   0.05294205 0.084035   0.05294205 0.084035   0.05294205\n",
      " 0.084035   0.084035  ]\n",
      "***************************** Train set vectors coming from collaborative filtering ****************************************\n",
      "Length of users from collaborative filtering i.e. Top 5 users recommended : 5,[95 69 49 26 10]\n",
      "Corresponding to each user we have 11997 products coming as a recommendation : (5, 11997)\n",
      "Combining all the 5 user's recommendation into 1, we have got: (1, 11997)\n",
      "*******************************Combined*******************************************\n",
      "Giving weightage to Personalized Profile vectors and collaborative vectors \n",
      "0.7 * Personalized Profile vectors + (1-0.7)*collaborative_vectors\n",
      "Combined sort: [[0.         0.         0.         ... 0.0588245  0.0588245  0.05953309]]\n",
      "Out of the 11997 items , we recommend the 20 items at position [ 559 2173 1582 7606 9136 2745 2016  746  723   50    9  406   34 2321\n",
      "  344 1658  135 2370  536  129] to the user: 10119\n",
      "***************************** From Personalized insights  POV: Test set vectors for userid=10120 ****************************************\n",
      "(1, 11997) & [0.11666667 0.046305   0.046305   0.11666667 0.02917215 0.12824509\n",
      " 0.01157843 0.01157843 0.01157843 0.01157843 0.01837845 0.02917215\n",
      " 0.046305   0.0735     0.02917215 0.11666667 0.02917215 0.02917215\n",
      " 0.01157843 0.02917215 0.11666667]\n",
      "***************************** Train set vectors coming from collaborative filtering ****************************************\n",
      "Length of users from collaborative filtering i.e. Top 5 users recommended : 5,[69 60 26 49  8]\n",
      "Corresponding to each user we have 11997 products coming as a recommendation : (5, 11997)\n",
      "Combining all the 5 user's recommendation into 1, we have got: (1, 11997)\n",
      "*******************************Combined*******************************************\n",
      "Giving weightage to Personalized Profile vectors and collaborative vectors \n",
      "0.7 * Personalized Profile vectors + (1-0.7)*collaborative_vectors\n",
      "Combined sort: [[0.         0.         0.         ... 0.08181497 0.09107701 0.09367677]]\n",
      "Out of the 11997 items , we recommend the 20 items at position [   50   490   195  2890 11518  2608   135  2404   138  2833  6076  7504\n",
      "  1827   248  3127  1810  1495  1072  1214  7362] to the user: 10120\n",
      "***************************** From Personalized insights  POV: Test set vectors for userid=10121 ****************************************\n",
      "(1, 11997) & [0.084035   0.05294205 0.05294205 0.05294205 0.05294205 0.084035\n",
      " 0.084035   0.084035   0.05294205 0.05294205 0.084035   0.05294205]\n",
      "***************************** Train set vectors coming from collaborative filtering ****************************************\n",
      "Length of users from collaborative filtering i.e. Top 5 users recommended : 5,[69 95 49 26 10]\n",
      "Corresponding to each user we have 11997 products coming as a recommendation : (5, 11997)\n",
      "Combining all the 5 user's recommendation into 1, we have got: (1, 11997)\n",
      "*******************************Combined*******************************************\n",
      "Giving weightage to Personalized Profile vectors and collaborative vectors \n",
      "0.7 * Personalized Profile vectors + (1-0.7)*collaborative_vectors\n",
      "Combined sort: [[0.         0.         0.         ... 0.0588245  0.05883268 0.05915376]]\n",
      "Out of the 11997 items , we recommend the 20 items at position [1440 2430    7 3119 6547   80 1034 6036  969  962 8383 5772  723   50\n",
      "    9  406   34 2321  344 1658] to the user: 10121\n",
      "***************************** From Personalized insights  POV: Test set vectors for userid=10122 ****************************************\n",
      "(1, 11997) & [0.08003333 0.08003333 0.03176523 0.08003333 0.050421  ]\n",
      "***************************** Train set vectors coming from collaborative filtering ****************************************\n",
      "Length of users from collaborative filtering i.e. Top 5 users recommended : 5,[49 69 95 26 10]\n",
      "Corresponding to each user we have 11997 products coming as a recommendation : (5, 11997)\n",
      "Combining all the 5 user's recommendation into 1, we have got: (1, 11997)\n",
      "*******************************Combined*******************************************\n",
      "Giving weightage to Personalized Profile vectors and collaborative vectors \n",
      "0.7 * Personalized Profile vectors + (1-0.7)*collaborative_vectors\n",
      "Combined sort: [[0.         0.         0.         ... 0.05602333 0.05602557 0.05732898]]\n",
      "Out of the 11997 items , we recommend the 20 items at position [ 213  568 1764 4033 1083  723   50    9  406 2321   34  344 1658  135\n",
      " 2370  536  129 3713 1456 1455] to the user: 10122\n",
      "***************************** From Personalized insights  POV: Test set vectors for userid=10123 ****************************************\n",
      "(1, 11997) & [0.084035   0.05294205]\n",
      "***************************** Train set vectors coming from collaborative filtering ****************************************\n",
      "Length of users from collaborative filtering i.e. Top 5 users recommended : 5,[95 69 49 26 10]\n",
      "Corresponding to each user we have 11997 products coming as a recommendation : (5, 11997)\n",
      "Combining all the 5 user's recommendation into 1, we have got: (1, 11997)\n",
      "*******************************Combined*******************************************\n",
      "Giving weightage to Personalized Profile vectors and collaborative vectors \n",
      "0.7 * Personalized Profile vectors + (1-0.7)*collaborative_vectors\n",
      "Combined sort: [[0.         0.         0.         ... 0.00557368 0.03776802 0.05884445]]\n",
      "Out of the 11997 items , we recommend the 20 items at position [ 498  559  723   50    9  406   34 2321  344 1658  135 2370  536  129\n",
      " 3713 1456 1455 1454  401 1453] to the user: 10123\n",
      "***************************** From Personalized insights  POV: Test set vectors for userid=10124 ****************************************\n",
      "(1, 11997) & [0.05294205 0.084035   0.05294205 0.084035   0.05294205 0.084035\n",
      " 0.05294205 0.05294205 0.05294205 0.05294205 0.084035   0.05294205\n",
      " 0.05294205 0.084035   0.084035   0.05294205]\n",
      "***************************** Train set vectors coming from collaborative filtering ****************************************\n",
      "Length of users from collaborative filtering i.e. Top 5 users recommended : 5,[69 95 49 26 10]\n",
      "Corresponding to each user we have 11997 products coming as a recommendation : (5, 11997)\n",
      "Combining all the 5 user's recommendation into 1, we have got: (1, 11997)\n",
      "*******************************Combined*******************************************\n",
      "Giving weightage to Personalized Profile vectors and collaborative vectors \n",
      "0.7 * Personalized Profile vectors + (1-0.7)*collaborative_vectors\n",
      "Combined sort: [[0.        0.        0.        ... 0.0588245 0.0588245 0.0588245]]\n",
      "Out of the 11997 items , we recommend the 20 items at position [1555 3374  274 1770 9034 8127 4062 2335 1180 2732   70 9292 6057 2207\n",
      " 1764 2636  723   50    9  406] to the user: 10124\n",
      "***************************** From Personalized insights  POV: Test set vectors for userid=10125 ****************************************\n",
      "(1, 11997) & [0.08003333 0.08003333 0.03176523 0.050421   0.03176523 0.03176523\n",
      " 0.03176523 0.03176523 0.03176523 0.03176523 0.03176523 0.03176523\n",
      " 0.03176523 0.050421   0.03176523 0.03176523 0.03176523 0.050421\n",
      " 0.050421   0.03176523 0.050421   0.03176523 0.08218623 0.050421\n",
      " 0.03176523]\n",
      "***************************** Train set vectors coming from collaborative filtering ****************************************\n",
      "Length of users from collaborative filtering i.e. Top 5 users recommended : 5,[95 69 49 26 10]\n",
      "Corresponding to each user we have 11997 products coming as a recommendation : (5, 11997)\n",
      "Combining all the 5 user's recommendation into 1, we have got: (1, 11997)\n",
      "*******************************Combined*******************************************\n",
      "Giving weightage to Personalized Profile vectors and collaborative vectors \n",
      "0.7 * Personalized Profile vectors + (1-0.7)*collaborative_vectors\n",
      "Combined sort: [[0.         0.         0.         ... 0.05602333 0.0560282  0.05753036]]\n",
      "Out of the 11997 items , we recommend the 20 items at position [10173    64    51   456  8673 11223  8957  8479  3731   187   850  3372\n",
      "  5958  9107  7703  3379  8692  2138  1770 11477] to the user: 10125\n",
      "***************************** From Personalized insights  POV: Test set vectors for userid=10126 ****************************************\n",
      "(1, 11997) & [0.050421   0.050421   0.050421   0.050421   0.03176523 0.050421\n",
      " 0.08003333 0.050421   0.050421   0.08003333 0.03176523 0.03176523\n",
      " 0.03176523 0.08003333]\n",
      "***************************** Train set vectors coming from collaborative filtering ****************************************\n",
      "Length of users from collaborative filtering i.e. Top 5 users recommended : 5,[73 69 95 49 26]\n",
      "Corresponding to each user we have 11997 products coming as a recommendation : (5, 11997)\n",
      "Combining all the 5 user's recommendation into 1, we have got: (1, 11997)\n",
      "*******************************Combined*******************************************\n",
      "Giving weightage to Personalized Profile vectors and collaborative vectors \n",
      "0.7 * Personalized Profile vectors + (1-0.7)*collaborative_vectors\n",
      "Combined sort: [[0.         0.         0.         ... 0.05602333 0.05602333 0.05602333]]\n",
      "Out of the 11997 items , we recommend the 20 items at position [5061 3132 9800 1319   80 3660 2582  544 3965  955 5876 5492 6071 1854\n",
      "   50  234    9  406 1907   34] to the user: 10126\n",
      "***************************** From Personalized insights  POV: Test set vectors for userid=10127 ****************************************\n",
      "(1, 11997) & [0.05294205 0.05294205 0.05294205 0.05294205 0.05294205 0.05294205\n",
      " 0.05294205 0.05294205 0.05294205 0.05294205 0.05294205 0.05294205\n",
      " 0.084035   0.05294205 0.05294205 0.05294205 0.13697705 0.084035\n",
      " 0.084035  ]\n",
      "***************************** Train set vectors coming from collaborative filtering ****************************************\n",
      "Length of users from collaborative filtering i.e. Top 5 users recommended : 5,[69 95 49 26 10]\n",
      "Corresponding to each user we have 11997 products coming as a recommendation : (5, 11997)\n",
      "Combining all the 5 user's recommendation into 1, we have got: (1, 11997)\n",
      "*******************************Combined*******************************************\n",
      "Giving weightage to Personalized Profile vectors and collaborative vectors \n",
      "0.7 * Personalized Profile vectors + (1-0.7)*collaborative_vectors\n",
      "Combined sort: [[0.         0.         0.         ... 0.0588245  0.0588245  0.09588393]]\n",
      "Out of the 11997 items , we recommend the 20 items at position [ 6176  8412  3843 11117    80   957  4159  1701  1004  4027  1083  1743\n",
      "  5936  3447   552   491  1552   219  3478   723] to the user: 10127\n",
      "***************************** From Personalized insights  POV: Test set vectors for userid=10128 ****************************************\n",
      "(1, 11997) & [0.05294205 0.05294205 0.084035   0.084035   0.084035   0.084035\n",
      " 0.05294205 0.05294205 0.05294205 0.05294205 0.084035   0.05294205\n",
      " 0.084035   0.084035   0.05294205 0.05294205 0.05294205 0.05294205\n",
      " 0.05294205 0.05294205]\n",
      "***************************** Train set vectors coming from collaborative filtering ****************************************\n",
      "Length of users from collaborative filtering i.e. Top 5 users recommended : 5,[95 69 49  8 26]\n",
      "Corresponding to each user we have 11997 products coming as a recommendation : (5, 11997)\n",
      "Combining all the 5 user's recommendation into 1, we have got: (1, 11997)\n",
      "*******************************Combined*******************************************\n",
      "Giving weightage to Personalized Profile vectors and collaborative vectors \n",
      "0.7 * Personalized Profile vectors + (1-0.7)*collaborative_vectors\n",
      "Combined sort: [[0.         0.         0.         ... 0.0588245  0.05949412 0.05949412]]\n",
      "Out of the 11997 items , we recommend the 20 items at position [ 505  504 1485 1322  198  197 1562  163    9 2752 1440  640 1158  631\n",
      " 5906 1110 2798 8808 2090 6469] to the user: 10128\n",
      "***************************** From Personalized insights  POV: Test set vectors for userid=10129 ****************************************\n",
      "(1, 11997) & [0.0540225  0.02144153 0.05547571 0.1397725  0.0540225  0.0540225\n",
      " 0.0540225  0.0540225  0.0540225  0.02144153 0.0540225  0.02144153\n",
      " 0.02144153 0.08575    0.08575    0.08575    0.0540225  0.0540225\n",
      " 0.08575   ]\n",
      "***************************** Train set vectors coming from collaborative filtering ****************************************\n",
      "Length of users from collaborative filtering i.e. Top 5 users recommended : 5,[ 8 95 26 69 49]\n",
      "Corresponding to each user we have 11997 products coming as a recommendation : (5, 11997)\n",
      "Combining all the 5 user's recommendation into 1, we have got: (1, 11997)\n",
      "*******************************Combined*******************************************\n",
      "Giving weightage to Personalized Profile vectors and collaborative vectors \n",
      "0.7 * Personalized Profile vectors + (1-0.7)*collaborative_vectors\n",
      "Combined sort: [[0.         0.         0.         ... 0.060025   0.060025   0.09915295]]\n",
      "Out of the 11997 items , we recommend the 20 items at position [  39  952 1630 3383 2163  508  128  133   19  130    8 2245  119 2728\n",
      "  138    9  491  832  523   50] to the user: 10129\n",
      "***************************** From Personalized insights  POV: Test set vectors for userid=10130 ****************************************\n",
      "(1, 11997) & [0.05294205 0.084035   0.05294205]\n",
      "***************************** Train set vectors coming from collaborative filtering ****************************************\n",
      "Length of users from collaborative filtering i.e. Top 5 users recommended : 5,[95 49 69 26 10]\n",
      "Corresponding to each user we have 11997 products coming as a recommendation : (5, 11997)\n",
      "Combining all the 5 user's recommendation into 1, we have got: (1, 11997)\n",
      "*******************************Combined*******************************************\n",
      "Giving weightage to Personalized Profile vectors and collaborative vectors \n",
      "0.7 * Personalized Profile vectors + (1-0.7)*collaborative_vectors\n",
      "Combined sort: [[0.         0.         0.         ... 0.03705943 0.04031117 0.05947524]]\n",
      "Out of the 11997 items , we recommend the 20 items at position [1217    9 1386  723   50  406   34 2321  344 1658  135 2370  536  129\n",
      " 3713 1454 1456 1455  401 1452] to the user: 10130\n",
      "***************************** From Personalized insights  POV: Test set vectors for userid=10131 ****************************************\n",
      "(1, 11997) & [0.0540225  0.10719153 0.0540225  0.02144153 0.08575    0.08575\n",
      " 0.0540225  0.0540225  0.02144153 0.10949821 0.0540225  0.10719153\n",
      " 0.03403417 0.0540225  0.08575    0.03403417 0.02144153 0.0540225\n",
      " 0.03403417 0.08575    0.08575    0.0540225  0.02144153 0.0540225\n",
      " 0.02144153 0.08805667 0.03403417 0.0540225  0.0540225 ]\n",
      "***************************** Train set vectors coming from collaborative filtering ****************************************\n",
      "Length of users from collaborative filtering i.e. Top 5 users recommended : 5,[95 69 60 49 26]\n",
      "Corresponding to each user we have 11997 products coming as a recommendation : (5, 11997)\n",
      "Combining all the 5 user's recommendation into 1, we have got: (1, 11997)\n",
      "*******************************Combined*******************************************\n",
      "Giving weightage to Personalized Profile vectors and collaborative vectors \n",
      "0.7 * Personalized Profile vectors + (1-0.7)*collaborative_vectors\n",
      "Combined sort: [[0.         0.         0.         ... 0.07503407 0.07664874 0.0785823 ]]\n",
      "Out of the 11997 items , we recommend the 20 items at position [ 401 1043 1415 6183  747 2365 2769  535 2966  359  832 2435 9620 2324\n",
      " 3917 1413 6818  775  412 5640] to the user: 10131\n",
      "***************************** From Personalized insights  POV: Test set vectors for userid=10132 ****************************************\n",
      "(1, 11997) & [0.08575    0.03403417 0.03403417 0.03403417 0.02144153 0.03403417\n",
      " 0.03403417 0.08575    0.0540225  0.0540225  0.03403417 0.03403417\n",
      " 0.02144153 0.02144153 0.02144153 0.03403417 0.03403417 0.02144153\n",
      " 0.02144153 0.02144153 0.02144153 0.03403417 0.02144153 0.08575\n",
      " 0.08575    0.08575    0.03403417 0.02144153 0.03403417 0.03403417\n",
      " 0.02144153 0.02144153]\n",
      "***************************** Train set vectors coming from collaborative filtering ****************************************\n",
      "Length of users from collaborative filtering i.e. Top 5 users recommended : 5,[49 69 95 26 10]\n",
      "Corresponding to each user we have 11997 products coming as a recommendation : (5, 11997)\n",
      "Combining all the 5 user's recommendation into 1, we have got: (1, 11997)\n",
      "*******************************Combined*******************************************\n",
      "Giving weightage to Personalized Profile vectors and collaborative vectors \n",
      "0.7 * Personalized Profile vectors + (1-0.7)*collaborative_vectors\n",
      "Combined sort: [[0.         0.         0.         ... 0.060025   0.060025   0.06039397]]\n",
      "Out of the 11997 items , we recommend the 20 items at position [ 214 1190 7195 8451 8114 1442 1436  861  568 3944 4880 1824 1001  477\n",
      "  408 1755 9280 9025 3086 8672] to the user: 10132\n",
      "***************************** From Personalized insights  POV: Test set vectors for userid=10133 ****************************************\n",
      "(1, 11997) & [0.09       0.035721   0.00893193 0.00893193 0.035721   0.0567\n",
      " 0.00893193 0.035721   0.01417766 0.00893193 0.09       0.00893193\n",
      " 0.035721   0.09       0.04465293 0.09       0.035721   0.035721\n",
      " 0.0567     0.09       0.035721   0.00893193 0.14285714 0.09\n",
      " 0.09       0.09       0.09       0.035721   0.035721   0.09\n",
      " 0.035721   0.035721   0.035721   0.00893193 0.01417766 0.00893193\n",
      " 0.07920423 0.09       0.035721   0.00893193 0.035721   0.09      ]\n",
      "***************************** Train set vectors coming from collaborative filtering ****************************************\n",
      "Length of users from collaborative filtering i.e. Top 5 users recommended : 5,[69 95 49 26 71]\n",
      "Corresponding to each user we have 11997 products coming as a recommendation : (5, 11997)\n",
      "Combining all the 5 user's recommendation into 1, we have got: (1, 11997)\n",
      "*******************************Combined*******************************************\n",
      "Giving weightage to Personalized Profile vectors and collaborative vectors \n",
      "0.7 * Personalized Profile vectors + (1-0.7)*collaborative_vectors\n",
      "Combined sort: [[0.    0.    0.    ... 0.063 0.063 0.1  ]]\n",
      "Out of the 11997 items , we recommend the 20 items at position [ 3617   119  4018  1668  8619  1552  4327  1983  4773 11380  5365  5236\n",
      "  2564  8393  2231   945  1692   324  1274  2140] to the user: 10133\n",
      "***************************** From Personalized insights  POV: Test set vectors for userid=10134 ****************************************\n",
      "(1, 11997) & [0.05294205 0.05294205 0.05294205 0.05294205 0.084035   0.084035\n",
      " 0.05294205 0.05294205 0.05294205 0.05294205 0.05294205 0.05294205\n",
      " 0.084035   0.13697705]\n",
      "***************************** Train set vectors coming from collaborative filtering ****************************************\n",
      "Length of users from collaborative filtering i.e. Top 5 users recommended : 5,[69 95 49 26 10]\n",
      "Corresponding to each user we have 11997 products coming as a recommendation : (5, 11997)\n",
      "Combining all the 5 user's recommendation into 1, we have got: (1, 11997)\n",
      "*******************************Combined*******************************************\n",
      "Giving weightage to Personalized Profile vectors and collaborative vectors \n",
      "0.7 * Personalized Profile vectors + (1-0.7)*collaborative_vectors\n",
      "Combined sort: [[0.         0.         0.         ... 0.0588245  0.0588245  0.09588393]]\n",
      "Out of the 11997 items , we recommend the 20 items at position [9501 1283 1773 7869  954 1257  463 2720 6549 4760 4291  775 2009 5295\n",
      "  723   50    9  406   34 2321] to the user: 10134\n",
      "***************************** From Personalized insights  POV: Test set vectors for userid=10135 ****************************************\n",
      "(1, 11997) & [0.05294205 0.05294205 0.05294205 0.084035   0.084035   0.084035\n",
      " 0.13697705 0.084035   0.084035   0.084035   0.05294205 0.084035\n",
      " 0.05294205 0.084035   0.084035   0.05294205 0.084035  ]\n",
      "***************************** Train set vectors coming from collaborative filtering ****************************************\n",
      "Length of users from collaborative filtering i.e. Top 5 users recommended : 5,[95 49 69 26 10]\n",
      "Corresponding to each user we have 11997 products coming as a recommendation : (5, 11997)\n",
      "Combining all the 5 user's recommendation into 1, we have got: (1, 11997)\n",
      "*******************************Combined*******************************************\n",
      "Giving weightage to Personalized Profile vectors and collaborative vectors \n",
      "0.7 * Personalized Profile vectors + (1-0.7)*collaborative_vectors\n",
      "Combined sort: [[0.         0.         0.         ... 0.0588245  0.0588245  0.09588393]]\n",
      "Out of the 11997 items , we recommend the 20 items at position [2705 3478 8912 1761 6704 1753 4598 7231  535 3534 3477    9 7653 6668\n",
      "  506 3535  238  723   50  406] to the user: 10135\n",
      "***************************** From Personalized insights  POV: Test set vectors for userid=10136 ****************************************\n",
      "(1, 11997) & [0.05294205 0.084035   0.05294205 0.05294205 0.05294205 0.05294205\n",
      " 0.05294205 0.05294205 0.05294205 0.084035   0.05294205 0.084035\n",
      " 0.084035   0.05294205 0.05294205 0.05294205 0.084035   0.13697705\n",
      " 0.05294205 0.05294205 0.05294205 0.084035   0.05294205 0.05294205\n",
      " 0.084035   0.084035  ]\n",
      "***************************** Train set vectors coming from collaborative filtering ****************************************\n",
      "Length of users from collaborative filtering i.e. Top 5 users recommended : 5,[95 49 69 26 10]\n",
      "Corresponding to each user we have 11997 products coming as a recommendation : (5, 11997)\n",
      "Combining all the 5 user's recommendation into 1, we have got: (1, 11997)\n",
      "*******************************Combined*******************************************\n",
      "Giving weightage to Personalized Profile vectors and collaborative vectors \n",
      "0.7 * Personalized Profile vectors + (1-0.7)*collaborative_vectors\n",
      "Combined sort: [[0.         0.         0.         ... 0.0588245  0.0588245  0.09588393]]\n",
      "Out of the 11997 items , we recommend the 20 items at position [3972 9672 1771 6227 3970 2753 8680  121 2148    9  251 1034 7817 5009\n",
      " 3965 1663 1199 2838 1708 1243] to the user: 10136\n",
      "***************************** From Personalized insights  POV: Test set vectors for userid=10137 ****************************************\n",
      "(1, 11997) & [0.05294205 0.05294205 0.084035   0.05294205 0.084035   0.084035\n",
      " 0.084035   0.084035   0.084035   0.13697705 0.084035   0.084035\n",
      " 0.084035   0.084035   0.05294205 0.084035   0.084035   0.084035\n",
      " 0.084035   0.084035   0.084035   0.05294205 0.05294205]\n",
      "***************************** Train set vectors coming from collaborative filtering ****************************************\n",
      "Length of users from collaborative filtering i.e. Top 5 users recommended : 5,[95 49 69 73 26]\n",
      "Corresponding to each user we have 11997 products coming as a recommendation : (5, 11997)\n",
      "Combining all the 5 user's recommendation into 1, we have got: (1, 11997)\n",
      "*******************************Combined*******************************************\n",
      "Giving weightage to Personalized Profile vectors and collaborative vectors \n",
      "0.7 * Personalized Profile vectors + (1-0.7)*collaborative_vectors\n",
      "Combined sort: [[0.         0.         0.         ... 0.05891897 0.06008706 0.09588393]]\n",
      "Out of the 11997 items , we recommend the 20 items at position [2490  488  954  183 2152 2444 3641  699 5919 3649 4748 5016 4208 3844\n",
      " 4220 3535 2560    9   61 7826] to the user: 10137\n",
      "***************************** From Personalized insights  POV: Test set vectors for userid=10138 ****************************************\n",
      "(1, 11997) & [0.084035   0.084035   0.084035   0.084035   0.084035   0.084035\n",
      " 0.084035   0.084035   0.084035   0.05294205 0.084035   0.05294205\n",
      " 0.084035   0.05294205 0.13697705 0.084035   0.05294205 0.084035\n",
      " 0.084035   0.05294205 0.05294205 0.084035   0.05294205 0.05294205\n",
      " 0.084035   0.084035   0.084035   0.084035   0.084035   0.05294205\n",
      " 0.05294205 0.084035   0.05294205 0.05294205 0.084035   0.084035\n",
      " 0.05294205 0.084035   0.05294205 0.05294205 0.05294205]\n",
      "***************************** Train set vectors coming from collaborative filtering ****************************************\n",
      "Length of users from collaborative filtering i.e. Top 5 users recommended : 5,[69 95 49 26 10]\n",
      "Corresponding to each user we have 11997 products coming as a recommendation : (5, 11997)\n",
      "Combining all the 5 user's recommendation into 1, we have got: (1, 11997)\n",
      "*******************************Combined*******************************************\n",
      "Giving weightage to Personalized Profile vectors and collaborative vectors \n",
      "0.7 * Personalized Profile vectors + (1-0.7)*collaborative_vectors\n",
      "Combined sort: [[0.         0.         0.         ... 0.05909348 0.05921307 0.09588393]]\n",
      "Out of the 11997 items , we recommend the 20 items at position [ 3466  1210    45  1549  8726 10100  9464  3968  5233  4726  8789   347\n",
      "  8547   951  5806   236  3111  6490  1407 10695] to the user: 10138\n",
      "***************************** From Personalized insights  POV: Test set vectors for userid=10139 ****************************************\n",
      "(1, 11997) & [0.06174    0.02450461 0.02450461 0.02450461 0.02450461 0.02450461\n",
      " 0.0154379  0.1134379  0.0154379  0.0388962  0.0154379  0.0388962\n",
      " 0.0154379  0.098      0.02450461 0.06174    0.02450461 0.0388962\n",
      " 0.02450461 0.03994251 0.02450461 0.0543341  0.0388962  0.098\n",
      " 0.098      0.0154379  0.02450461 0.08624461 0.06174    0.0388962\n",
      " 0.02450461 0.06174    0.0388962  0.0388962  0.0154379  0.02450461\n",
      " 0.098      0.098     ]\n",
      "***************************** Train set vectors coming from collaborative filtering ****************************************\n",
      "Length of users from collaborative filtering i.e. Top 5 users recommended : 5,[71 95 69 49 26]\n",
      "Corresponding to each user we have 11997 products coming as a recommendation : (5, 11997)\n",
      "Combining all the 5 user's recommendation into 1, we have got: (1, 11997)\n",
      "*******************************Combined*******************************************\n",
      "Giving weightage to Personalized Profile vectors and collaborative vectors \n",
      "0.7 * Personalized Profile vectors + (1-0.7)*collaborative_vectors\n",
      "Combined sort: [[0.         0.         0.         ... 0.0686     0.07091429 0.07940653]]\n",
      "Out of the 11997 items , we recommend the 20 items at position [  470  1012  4047  3999 11847  9112  4707  1427  4883  6967     5  3230\n",
      "  2562  6970  6994  3396   829  1691  4988   512] to the user: 10139\n",
      "***************************** From Personalized insights  POV: Test set vectors for userid=10140 ****************************************\n",
      "(1, 11997) & [0.03176523 0.08003333 0.08003333 0.08003333 0.08003333 0.03176523\n",
      " 0.050421   0.08003333 0.08003333 0.08003333 0.08003333 0.08003333\n",
      " 0.08003333 0.03176523 0.08003333 0.08003333 0.08003333 0.08003333\n",
      " 0.03176523 0.08003333 0.03176523 0.03176523 0.03176523 0.03176523\n",
      " 0.08003333 0.08003333 0.08003333 0.08003333 0.08003333 0.08003333\n",
      " 0.08003333 0.08003333 0.08003333 0.050421   0.08003333 0.08003333\n",
      " 0.03176523 0.050421   0.08003333 0.08003333 0.08003333 0.050421\n",
      " 0.03176523 0.08003333 0.08003333 0.08003333 0.050421   0.08003333\n",
      " 0.08003333 0.08003333 0.08003333 0.08003333 0.050421  ]\n",
      "***************************** Train set vectors coming from collaborative filtering ****************************************\n",
      "Length of users from collaborative filtering i.e. Top 5 users recommended : 5,[95 69 26 49 73]\n",
      "Corresponding to each user we have 11997 products coming as a recommendation : (5, 11997)\n",
      "Combining all the 5 user's recommendation into 1, we have got: (1, 11997)\n",
      "*******************************Combined*******************************************\n",
      "Giving weightage to Personalized Profile vectors and collaborative vectors \n",
      "0.7 * Personalized Profile vectors + (1-0.7)*collaborative_vectors\n",
      "Combined sort: [[0.         0.         0.         ... 0.05728297 0.05756619 0.05856629]]\n",
      "Out of the 11997 items , we recommend the 20 items at position [ 406 1362 1538 1440  564   53 1666 1522 1221 5689 2522 2044 1347 1984\n",
      "  781  568  738 7021 4863   51] to the user: 10140\n",
      "***************************** From Personalized insights  POV: Test set vectors for userid=10141 ****************************************\n",
      "(1, 11997) & [0.05294205 0.084035   0.05294205 0.084035   0.084035   0.13697705\n",
      " 0.084035   0.084035   0.084035   0.084035   0.05294205 0.13697705]\n",
      "***************************** Train set vectors coming from collaborative filtering ****************************************\n",
      "Length of users from collaborative filtering i.e. Top 5 users recommended : 5,[69 26 95 49 10]\n",
      "Corresponding to each user we have 11997 products coming as a recommendation : (5, 11997)\n",
      "Combining all the 5 user's recommendation into 1, we have got: (1, 11997)\n",
      "*******************************Combined*******************************************\n",
      "Giving weightage to Personalized Profile vectors and collaborative vectors \n",
      "0.7 * Personalized Profile vectors + (1-0.7)*collaborative_vectors\n",
      "Combined sort: [[0.         0.         0.         ... 0.05942718 0.09588393 0.09588393]]\n",
      "Out of the 11997 items , we recommend the 20 items at position [ 2205 11715  1449   523  2348  1058  5444  4256  4085  1034   215  8558\n",
      "   723    50     9   406  2321    34   344  1658] to the user: 10141\n",
      "***************************** From Personalized insights  POV: Test set vectors for userid=10142 ****************************************\n",
      "(1, 11997) & [0.03176523 0.08003333 0.08003333 0.050421   0.050421   0.08003333\n",
      " 0.03176523]\n",
      "***************************** Train set vectors coming from collaborative filtering ****************************************\n",
      "Length of users from collaborative filtering i.e. Top 5 users recommended : 5,[95 69 49 26 10]\n",
      "Corresponding to each user we have 11997 products coming as a recommendation : (5, 11997)\n",
      "Combining all the 5 user's recommendation into 1, we have got: (1, 11997)\n",
      "*******************************Combined*******************************************\n",
      "Giving weightage to Personalized Profile vectors and collaborative vectors \n",
      "0.7 * Personalized Profile vectors + (1-0.7)*collaborative_vectors\n",
      "Combined sort: [[0.         0.         0.         ... 0.05602333 0.05602333 0.05602609]]\n",
      "Out of the 11997 items , we recommend the 20 items at position [ 607 2619 1130 2405 1910    9 4380  723   50  406   34 2321  344 1658\n",
      "  135 2370  536  129 3713 1455] to the user: 10142\n",
      "***************************** From Personalized insights  POV: Test set vectors for userid=10143 ****************************************\n",
      "(1, 11997) & [0.03403417 0.02144153 0.03403417 0.03403417 0.08575    0.03403417\n",
      " 0.0540225  0.0540225  0.03403417]\n",
      "***************************** Train set vectors coming from collaborative filtering ****************************************\n",
      "Length of users from collaborative filtering i.e. Top 5 users recommended : 5,[95 69 49 26 10]\n",
      "Corresponding to each user we have 11997 products coming as a recommendation : (5, 11997)\n",
      "Combining all the 5 user's recommendation into 1, we have got: (1, 11997)\n",
      "*******************************Combined*******************************************\n",
      "Giving weightage to Personalized Profile vectors and collaborative vectors \n",
      "0.7 * Personalized Profile vectors + (1-0.7)*collaborative_vectors\n",
      "Combined sort: [[0.         0.         0.         ... 0.03781575 0.03781575 0.06007482]]\n",
      "Out of the 11997 items , we recommend the 20 items at position [2406 2848 2846    9  568 2833 8085  919  491  723   50  406 2321   34\n",
      "  344 1658  135 2370  536  129] to the user: 10143\n",
      "***************************** From Personalized insights  POV: Test set vectors for userid=10144 ****************************************\n",
      "(1, 11997) & [0.08003333 0.050421   0.050421   0.050421   0.050421   0.03176523\n",
      " 0.03176523 0.08003333 0.13045433 0.03176523 0.03176523 0.03176523]\n",
      "***************************** Train set vectors coming from collaborative filtering ****************************************\n",
      "Length of users from collaborative filtering i.e. Top 5 users recommended : 5,[69 71 95 49 26]\n",
      "Corresponding to each user we have 11997 products coming as a recommendation : (5, 11997)\n",
      "Combining all the 5 user's recommendation into 1, we have got: (1, 11997)\n",
      "*******************************Combined*******************************************\n",
      "Giving weightage to Personalized Profile vectors and collaborative vectors \n",
      "0.7 * Personalized Profile vectors + (1-0.7)*collaborative_vectors\n",
      "Combined sort: [[0.         0.         0.         ... 0.05602333 0.05602333 0.09131803]]\n",
      "Out of the 11997 items , we recommend the 20 items at position [6240  535 5941 1194 1800  649  734 2140 2250 6893 6762 6766   50    9\n",
      "  127 1505 3209  406  129 1012] to the user: 10144\n"
     ]
    },
    {
     "name": "stderr",
     "output_type": "stream",
     "text": [
      "C:\\Users\\ashis\\AppData\\Local\\Temp\\ipykernel_35660\\256555032.py:1: SettingWithCopyWarning: \n",
      "A value is trying to be set on a copy of a slice from a DataFrame.\n",
      "Try using .loc[row_indexer,col_indexer] = value instead\n",
      "\n",
      "See the caveats in the documentation: https://pandas.pydata.org/pandas-docs/stable/user_guide/indexing.html#returning-a-view-versus-a-copy\n",
      "  df_fut_final_set['Final_Recommendation']=df_fut_final_set.apply(lambda x:final_recommendation(x['user_id']),axis=1)\n"
     ]
    }
   ],
   "source": [
    "df_fut_final_set['Final_Recommendation']=df_fut_final_set.apply(lambda x:final_recommendation(x['user_id']),axis=1)"
   ]
  },
  {
   "cell_type": "code",
   "execution_count": 134,
   "metadata": {
    "application/vnd.databricks.v1+cell": {
     "cellMetadata": {
      "byteLimit": 2048000,
      "rowLimit": 10000
     },
     "inputWidgets": {},
     "nuid": "c0bd0cb8-41be-4858-9da8-c30ff419053b",
     "showTitle": false,
     "tableResultSettingsMap": {},
     "title": ""
    }
   },
   "outputs": [
    {
     "data": {
      "text/html": [
       "<div>\n",
       "<style scoped>\n",
       "    .dataframe tbody tr th:only-of-type {\n",
       "        vertical-align: middle;\n",
       "    }\n",
       "\n",
       "    .dataframe tbody tr th {\n",
       "        vertical-align: top;\n",
       "    }\n",
       "\n",
       "    .dataframe thead th {\n",
       "        text-align: right;\n",
       "    }\n",
       "</style>\n",
       "<table border=\"1\" class=\"dataframe\">\n",
       "  <thead>\n",
       "    <tr style=\"text-align: right;\">\n",
       "      <th></th>\n",
       "      <th>user_id</th>\n",
       "      <th>Final_list_vectors</th>\n",
       "      <th>Final_Recommendation</th>\n",
       "    </tr>\n",
       "  </thead>\n",
       "  <tbody>\n",
       "    <tr>\n",
       "      <th>0</th>\n",
       "      <td>10045</td>\n",
       "      <td>[0.0, 0.0, 0.0, 0.0, 0.0, 0.0, 0.0, 0.0, 0.084...</td>\n",
       "      <td>[401, 135, 8, 1592, 2845, 2846, 396, 4753, 496...</td>\n",
       "    </tr>\n",
       "    <tr>\n",
       "      <th>1</th>\n",
       "      <td>10046</td>\n",
       "      <td>[0.0, 0.0, 0.0, 0.0, 0.03176522999999999, 0.0,...</td>\n",
       "      <td>[719, 1203, 699, 187, 4506, 11357, 1743, 9754,...</td>\n",
       "    </tr>\n",
       "    <tr>\n",
       "      <th>2</th>\n",
       "      <td>10047</td>\n",
       "      <td>[0.0, 0.0, 0.0, 0.0, 0.0, 0.0, 0.0, 0.0, 0.0, ...</td>\n",
       "      <td>[45, 3706, 6549, 182, 2798, 767, 126, 1099, 79...</td>\n",
       "    </tr>\n",
       "    <tr>\n",
       "      <th>3</th>\n",
       "      <td>10048</td>\n",
       "      <td>[0.052942049999999984, 0.0, 0.0, 0.0, 0.0, 0.0...</td>\n",
       "      <td>[1309, 6537, 3299, 2847, 137, 2027, 719, 1592,...</td>\n",
       "    </tr>\n",
       "    <tr>\n",
       "      <th>4</th>\n",
       "      <td>10049</td>\n",
       "      <td>[0.0, 0.0, 0.0, 0.0, 0.0, 0.0, 0.0, 0.0, 0.0, ...</td>\n",
       "      <td>[1356, 3113, 5136, 8717, 2345, 8071, 144, 1743...</td>\n",
       "    </tr>\n",
       "  </tbody>\n",
       "</table>\n",
       "</div>"
      ],
      "text/plain": [
       "   user_id                                 Final_list_vectors  \\\n",
       "0    10045  [0.0, 0.0, 0.0, 0.0, 0.0, 0.0, 0.0, 0.0, 0.084...   \n",
       "1    10046  [0.0, 0.0, 0.0, 0.0, 0.03176522999999999, 0.0,...   \n",
       "2    10047  [0.0, 0.0, 0.0, 0.0, 0.0, 0.0, 0.0, 0.0, 0.0, ...   \n",
       "3    10048  [0.052942049999999984, 0.0, 0.0, 0.0, 0.0, 0.0...   \n",
       "4    10049  [0.0, 0.0, 0.0, 0.0, 0.0, 0.0, 0.0, 0.0, 0.0, ...   \n",
       "\n",
       "                                Final_Recommendation  \n",
       "0  [401, 135, 8, 1592, 2845, 2846, 396, 4753, 496...  \n",
       "1  [719, 1203, 699, 187, 4506, 11357, 1743, 9754,...  \n",
       "2  [45, 3706, 6549, 182, 2798, 767, 126, 1099, 79...  \n",
       "3  [1309, 6537, 3299, 2847, 137, 2027, 719, 1592,...  \n",
       "4  [1356, 3113, 5136, 8717, 2345, 8071, 144, 1743...  "
      ]
     },
     "execution_count": 134,
     "metadata": {},
     "output_type": "execute_result"
    }
   ],
   "source": [
    "df_fut_final_set.head()"
   ]
  },
  {
   "cell_type": "code",
   "execution_count": 135,
   "metadata": {
    "application/vnd.databricks.v1+cell": {
     "cellMetadata": {
      "byteLimit": 2048000,
      "rowLimit": 10000
     },
     "inputWidgets": {},
     "nuid": "7b590487-b4aa-44e1-ab77-3d9621b63a31",
     "showTitle": false,
     "tableResultSettingsMap": {},
     "title": ""
    },
    "colab": {
     "base_uri": "https://localhost:8080/"
    },
    "executionInfo": {
     "elapsed": 453,
     "status": "ok",
     "timestamp": 1721739589443,
     "user": {
      "displayName": "ashis kumar",
      "userId": "11359412875664137523"
     },
     "user_tz": -330
    },
    "id": "HrukLlt8Lkn4",
    "outputId": "3665a3aa-0165-441b-dff2-7d46f9350f3c"
   },
   "outputs": [
    {
     "data": {
      "text/plain": [
       "(Index(['user_id', 'Final_list_vectors', 'Final_Recommendation'], dtype='object'),\n",
       " Index(['user_id', 'Products_as_per_txn_order_future_baskets'], dtype='object'))"
      ]
     },
     "execution_count": 135,
     "metadata": {},
     "output_type": "execute_result"
    }
   ],
   "source": [
    "df_fut_final_set.columns,df_gnd_truth.columns"
   ]
  },
  {
   "cell_type": "code",
   "execution_count": 136,
   "metadata": {
    "application/vnd.databricks.v1+cell": {
     "cellMetadata": {
      "byteLimit": 2048000,
      "rowLimit": 10000
     },
     "inputWidgets": {},
     "nuid": "6894a022-0058-45c2-afd7-b4e82a0e5b85",
     "showTitle": false,
     "tableResultSettingsMap": {},
     "title": ""
    },
    "id": "iNseMEdLD7Gp"
   },
   "outputs": [],
   "source": [
    "df_gnd_truth['Grnd_Truth_unlist']=df_gnd_truth['Products_as_per_txn_order_future_baskets'].apply(lambda x:x[0])"
   ]
  },
  {
   "cell_type": "code",
   "execution_count": 137,
   "metadata": {
    "application/vnd.databricks.v1+cell": {
     "cellMetadata": {
      "byteLimit": 2048000,
      "rowLimit": 10000
     },
     "inputWidgets": {},
     "nuid": "49695545-a416-47b2-bf78-9933fa32063d",
     "showTitle": false,
     "tableResultSettingsMap": {},
     "title": ""
    }
   },
   "outputs": [
    {
     "data": {
      "text/html": [
       "<div>\n",
       "<style scoped>\n",
       "    .dataframe tbody tr th:only-of-type {\n",
       "        vertical-align: middle;\n",
       "    }\n",
       "\n",
       "    .dataframe tbody tr th {\n",
       "        vertical-align: top;\n",
       "    }\n",
       "\n",
       "    .dataframe thead th {\n",
       "        text-align: right;\n",
       "    }\n",
       "</style>\n",
       "<table border=\"1\" class=\"dataframe\">\n",
       "  <thead>\n",
       "    <tr style=\"text-align: right;\">\n",
       "      <th></th>\n",
       "      <th>user_id</th>\n",
       "      <th>Final_list_vectors</th>\n",
       "      <th>Final_Recommendation</th>\n",
       "    </tr>\n",
       "  </thead>\n",
       "  <tbody>\n",
       "    <tr>\n",
       "      <th>0</th>\n",
       "      <td>10045</td>\n",
       "      <td>[0.0, 0.0, 0.0, 0.0, 0.0, 0.0, 0.0, 0.0, 0.084...</td>\n",
       "      <td>[401, 135, 8, 1592, 2845, 2846, 396, 4753, 496...</td>\n",
       "    </tr>\n",
       "    <tr>\n",
       "      <th>1</th>\n",
       "      <td>10046</td>\n",
       "      <td>[0.0, 0.0, 0.0, 0.0, 0.03176522999999999, 0.0,...</td>\n",
       "      <td>[719, 1203, 699, 187, 4506, 11357, 1743, 9754,...</td>\n",
       "    </tr>\n",
       "    <tr>\n",
       "      <th>2</th>\n",
       "      <td>10047</td>\n",
       "      <td>[0.0, 0.0, 0.0, 0.0, 0.0, 0.0, 0.0, 0.0, 0.0, ...</td>\n",
       "      <td>[45, 3706, 6549, 182, 2798, 767, 126, 1099, 79...</td>\n",
       "    </tr>\n",
       "    <tr>\n",
       "      <th>3</th>\n",
       "      <td>10048</td>\n",
       "      <td>[0.052942049999999984, 0.0, 0.0, 0.0, 0.0, 0.0...</td>\n",
       "      <td>[1309, 6537, 3299, 2847, 137, 2027, 719, 1592,...</td>\n",
       "    </tr>\n",
       "    <tr>\n",
       "      <th>4</th>\n",
       "      <td>10049</td>\n",
       "      <td>[0.0, 0.0, 0.0, 0.0, 0.0, 0.0, 0.0, 0.0, 0.0, ...</td>\n",
       "      <td>[1356, 3113, 5136, 8717, 2345, 8071, 144, 1743...</td>\n",
       "    </tr>\n",
       "  </tbody>\n",
       "</table>\n",
       "</div>"
      ],
      "text/plain": [
       "   user_id                                 Final_list_vectors  \\\n",
       "0    10045  [0.0, 0.0, 0.0, 0.0, 0.0, 0.0, 0.0, 0.0, 0.084...   \n",
       "1    10046  [0.0, 0.0, 0.0, 0.0, 0.03176522999999999, 0.0,...   \n",
       "2    10047  [0.0, 0.0, 0.0, 0.0, 0.0, 0.0, 0.0, 0.0, 0.0, ...   \n",
       "3    10048  [0.052942049999999984, 0.0, 0.0, 0.0, 0.0, 0.0...   \n",
       "4    10049  [0.0, 0.0, 0.0, 0.0, 0.0, 0.0, 0.0, 0.0, 0.0, ...   \n",
       "\n",
       "                                Final_Recommendation  \n",
       "0  [401, 135, 8, 1592, 2845, 2846, 396, 4753, 496...  \n",
       "1  [719, 1203, 699, 187, 4506, 11357, 1743, 9754,...  \n",
       "2  [45, 3706, 6549, 182, 2798, 767, 126, 1099, 79...  \n",
       "3  [1309, 6537, 3299, 2847, 137, 2027, 719, 1592,...  \n",
       "4  [1356, 3113, 5136, 8717, 2345, 8071, 144, 1743...  "
      ]
     },
     "execution_count": 137,
     "metadata": {},
     "output_type": "execute_result"
    }
   ],
   "source": [
    "df_fut_final_set.head()"
   ]
  },
  {
   "cell_type": "code",
   "execution_count": 138,
   "metadata": {
    "application/vnd.databricks.v1+cell": {
     "cellMetadata": {
      "byteLimit": 2048000,
      "rowLimit": 10000
     },
     "inputWidgets": {},
     "nuid": "a1f59763-58a3-463b-bb4b-ebb2bdf3bcc3",
     "showTitle": false,
     "tableResultSettingsMap": {},
     "title": ""
    },
    "id": "WXg7qe4YlvKT"
   },
   "outputs": [],
   "source": [
    "df_final_analysis_tbd=df_fut_final_set[['user_id','Final_Recommendation']].\\\n",
    "merge(df_gnd_truth[['user_id','Grnd_Truth_unlist']],how='inner',on='user_id').\\\n",
    "merge(df_fut,how='inner',on='user_id')"
   ]
  },
  {
   "cell_type": "code",
   "execution_count": 139,
   "metadata": {},
   "outputs": [
    {
     "data": {
      "text/html": [
       "<div>\n",
       "<style scoped>\n",
       "    .dataframe tbody tr th:only-of-type {\n",
       "        vertical-align: middle;\n",
       "    }\n",
       "\n",
       "    .dataframe tbody tr th {\n",
       "        vertical-align: top;\n",
       "    }\n",
       "\n",
       "    .dataframe thead th {\n",
       "        text-align: right;\n",
       "    }\n",
       "</style>\n",
       "<table border=\"1\" class=\"dataframe\">\n",
       "  <thead>\n",
       "    <tr style=\"text-align: right;\">\n",
       "      <th></th>\n",
       "      <th>user_id</th>\n",
       "      <th>Final_Recommendation</th>\n",
       "      <th>Grnd_Truth_unlist</th>\n",
       "      <th>Products_as_per_txn_order_hist_baskets</th>\n",
       "      <th>within_decay_rate_list</th>\n",
       "      <th>length</th>\n",
       "      <th>Group_size</th>\n",
       "      <th>Approx_number_of_group</th>\n",
       "      <th>Residual</th>\n",
       "      <th>Flag</th>\n",
       "      <th>txns_into_gp_size</th>\n",
       "      <th>condensed_length</th>\n",
       "      <th>Group_Decay_list</th>\n",
       "      <th>Final_list_vectors</th>\n",
       "    </tr>\n",
       "  </thead>\n",
       "  <tbody>\n",
       "    <tr>\n",
       "      <th>0</th>\n",
       "      <td>10045</td>\n",
       "      <td>[401, 135, 8, 1592, 2845, 2846, 396, 4753, 496...</td>\n",
       "      <td>[3955, 1366, 952, 4716, 1926, 2152, 1882, 1168...</td>\n",
       "      <td>[[110, 1894, 1532, 168, 6783, 5087, 1441, 50, ...</td>\n",
       "      <td>[[0.0, 0.0, 0.0, 0.0, 0.0, 0.0, 0.0, 0.0, 0.0,...</td>\n",
       "      <td>2</td>\n",
       "      <td>7</td>\n",
       "      <td>0.285714</td>\n",
       "      <td>-6.714286</td>\n",
       "      <td>2</td>\n",
       "      <td>[[[0.0, 0.0, 0.0, 0.0, 0.0, 0.0, 0.0, 0.0, 0.0...</td>\n",
       "      <td>2</td>\n",
       "      <td>[[[0.0, 0.0, 0.0, 0.0, 0.0, 0.0, 0.0, 0.0, 0.1...</td>\n",
       "      <td>[0.0, 0.0, 0.0, 0.0, 0.0, 0.0, 0.0, 0.0, 0.084...</td>\n",
       "    </tr>\n",
       "    <tr>\n",
       "      <th>1</th>\n",
       "      <td>10046</td>\n",
       "      <td>[719, 1203, 699, 187, 4506, 11357, 1743, 9754,...</td>\n",
       "      <td>[1447, 1203, 119]</td>\n",
       "      <td>[[2471, 1169, 6647, 732, 491, 5823, 390, 99, 1...</td>\n",
       "      <td>[[0.0, 0.0, 0.0, 0.0, 0.81, 0.0, 0.0, 0.0, 0.0...</td>\n",
       "      <td>3</td>\n",
       "      <td>7</td>\n",
       "      <td>0.428571</td>\n",
       "      <td>-6.571429</td>\n",
       "      <td>2</td>\n",
       "      <td>[[[0.0, 0.0, 0.0, 0.0, 0.81, 0.0, 0.0, 0.0, 0....</td>\n",
       "      <td>3</td>\n",
       "      <td>[[[0.0, 0.0, 0.0, 0.0, 0.0, 0.0, 0.0, 0.0, 0.0...</td>\n",
       "      <td>[0.0, 0.0, 0.0, 0.0, 0.03176522999999999, 0.0,...</td>\n",
       "    </tr>\n",
       "    <tr>\n",
       "      <th>2</th>\n",
       "      <td>10047</td>\n",
       "      <td>[45, 3706, 6549, 182, 2798, 767, 126, 1099, 79...</td>\n",
       "      <td>[4136, 3685, 509, 50, 1034, 828, 1826, 421, 44...</td>\n",
       "      <td>[[2172, 7461, 1186, 9474, 1743, 8229, 8568, 38...</td>\n",
       "      <td>[[0.0, 0.0, 0.0, 0.0, 0.0, 0.0, 0.0, 0.0, 0.0,...</td>\n",
       "      <td>7</td>\n",
       "      <td>7</td>\n",
       "      <td>1.000000</td>\n",
       "      <td>-6.000000</td>\n",
       "      <td>1</td>\n",
       "      <td>[[[0.0, 0.0, 0.0, 0.0, 0.0, 0.0, 0.0, 0.0, 0.0...</td>\n",
       "      <td>7</td>\n",
       "      <td>[[[0.0, 0.0, 0.0, 0.0, 0.0, 0.0, 0.0, 0.0, 0.0...</td>\n",
       "      <td>[0.0, 0.0, 0.0, 0.0, 0.0, 0.0, 0.0, 0.0, 0.0, ...</td>\n",
       "    </tr>\n",
       "    <tr>\n",
       "      <th>3</th>\n",
       "      <td>10048</td>\n",
       "      <td>[1309, 6537, 3299, 2847, 137, 2027, 719, 1592,...</td>\n",
       "      <td>[2808, 491, 2542, 6708, 1347, 469, 9375, 9876,...</td>\n",
       "      <td>[[4274, 9, 2588, 2251, 17, 1245, 6524, 7574, 8...</td>\n",
       "      <td>[[0.9, 0.0, 0.0, 0.0, 0.0, 0.0, 0.0, 0.0, 0.0,...</td>\n",
       "      <td>2</td>\n",
       "      <td>7</td>\n",
       "      <td>0.285714</td>\n",
       "      <td>-6.714286</td>\n",
       "      <td>2</td>\n",
       "      <td>[[[0.9, 0.0, 0.0, 0.0, 0.0, 0.0, 0.0, 0.0, 0.0...</td>\n",
       "      <td>2</td>\n",
       "      <td>[[[0.0, 0.0, 0.0, 0.0, 0.0, 0.0, 0.0, 0.0, 0.0...</td>\n",
       "      <td>[0.052942049999999984, 0.0, 0.0, 0.0, 0.0, 0.0...</td>\n",
       "    </tr>\n",
       "    <tr>\n",
       "      <th>4</th>\n",
       "      <td>10049</td>\n",
       "      <td>[1356, 3113, 5136, 8717, 2345, 8071, 144, 1743...</td>\n",
       "      <td>[5548]</td>\n",
       "      <td>[[1356, 1910, 144, 1743], [8071, 1356, 3113, 2...</td>\n",
       "      <td>[[0.0, 0.0, 0.0, 0.0, 0.0, 0.0, 0.0, 0.0, 0.0,...</td>\n",
       "      <td>3</td>\n",
       "      <td>7</td>\n",
       "      <td>0.428571</td>\n",
       "      <td>-6.571429</td>\n",
       "      <td>2</td>\n",
       "      <td>[[[0.0, 0.0, 0.0, 0.0, 0.0, 0.0, 0.0, 0.0, 0.0...</td>\n",
       "      <td>3</td>\n",
       "      <td>[[[0.0, 0.0, 0.0, 0.0, 0.0, 0.0, 0.0, 0.0, 0.0...</td>\n",
       "      <td>[0.0, 0.0, 0.0, 0.0, 0.0, 0.0, 0.0, 0.0, 0.0, ...</td>\n",
       "    </tr>\n",
       "  </tbody>\n",
       "</table>\n",
       "</div>"
      ],
      "text/plain": [
       "   user_id                               Final_Recommendation  \\\n",
       "0    10045  [401, 135, 8, 1592, 2845, 2846, 396, 4753, 496...   \n",
       "1    10046  [719, 1203, 699, 187, 4506, 11357, 1743, 9754,...   \n",
       "2    10047  [45, 3706, 6549, 182, 2798, 767, 126, 1099, 79...   \n",
       "3    10048  [1309, 6537, 3299, 2847, 137, 2027, 719, 1592,...   \n",
       "4    10049  [1356, 3113, 5136, 8717, 2345, 8071, 144, 1743...   \n",
       "\n",
       "                                   Grnd_Truth_unlist  \\\n",
       "0  [3955, 1366, 952, 4716, 1926, 2152, 1882, 1168...   \n",
       "1                                  [1447, 1203, 119]   \n",
       "2  [4136, 3685, 509, 50, 1034, 828, 1826, 421, 44...   \n",
       "3  [2808, 491, 2542, 6708, 1347, 469, 9375, 9876,...   \n",
       "4                                             [5548]   \n",
       "\n",
       "              Products_as_per_txn_order_hist_baskets  \\\n",
       "0  [[110, 1894, 1532, 168, 6783, 5087, 1441, 50, ...   \n",
       "1  [[2471, 1169, 6647, 732, 491, 5823, 390, 99, 1...   \n",
       "2  [[2172, 7461, 1186, 9474, 1743, 8229, 8568, 38...   \n",
       "3  [[4274, 9, 2588, 2251, 17, 1245, 6524, 7574, 8...   \n",
       "4  [[1356, 1910, 144, 1743], [8071, 1356, 3113, 2...   \n",
       "\n",
       "                              within_decay_rate_list  length  Group_size  \\\n",
       "0  [[0.0, 0.0, 0.0, 0.0, 0.0, 0.0, 0.0, 0.0, 0.0,...       2           7   \n",
       "1  [[0.0, 0.0, 0.0, 0.0, 0.81, 0.0, 0.0, 0.0, 0.0...       3           7   \n",
       "2  [[0.0, 0.0, 0.0, 0.0, 0.0, 0.0, 0.0, 0.0, 0.0,...       7           7   \n",
       "3  [[0.9, 0.0, 0.0, 0.0, 0.0, 0.0, 0.0, 0.0, 0.0,...       2           7   \n",
       "4  [[0.0, 0.0, 0.0, 0.0, 0.0, 0.0, 0.0, 0.0, 0.0,...       3           7   \n",
       "\n",
       "   Approx_number_of_group  Residual  Flag  \\\n",
       "0                0.285714 -6.714286     2   \n",
       "1                0.428571 -6.571429     2   \n",
       "2                1.000000 -6.000000     1   \n",
       "3                0.285714 -6.714286     2   \n",
       "4                0.428571 -6.571429     2   \n",
       "\n",
       "                                   txns_into_gp_size  condensed_length  \\\n",
       "0  [[[0.0, 0.0, 0.0, 0.0, 0.0, 0.0, 0.0, 0.0, 0.0...                 2   \n",
       "1  [[[0.0, 0.0, 0.0, 0.0, 0.81, 0.0, 0.0, 0.0, 0....                 3   \n",
       "2  [[[0.0, 0.0, 0.0, 0.0, 0.0, 0.0, 0.0, 0.0, 0.0...                 7   \n",
       "3  [[[0.9, 0.0, 0.0, 0.0, 0.0, 0.0, 0.0, 0.0, 0.0...                 2   \n",
       "4  [[[0.0, 0.0, 0.0, 0.0, 0.0, 0.0, 0.0, 0.0, 0.0...                 3   \n",
       "\n",
       "                                    Group_Decay_list  \\\n",
       "0  [[[0.0, 0.0, 0.0, 0.0, 0.0, 0.0, 0.0, 0.0, 0.1...   \n",
       "1  [[[0.0, 0.0, 0.0, 0.0, 0.0, 0.0, 0.0, 0.0, 0.0...   \n",
       "2  [[[0.0, 0.0, 0.0, 0.0, 0.0, 0.0, 0.0, 0.0, 0.0...   \n",
       "3  [[[0.0, 0.0, 0.0, 0.0, 0.0, 0.0, 0.0, 0.0, 0.0...   \n",
       "4  [[[0.0, 0.0, 0.0, 0.0, 0.0, 0.0, 0.0, 0.0, 0.0...   \n",
       "\n",
       "                                  Final_list_vectors  \n",
       "0  [0.0, 0.0, 0.0, 0.0, 0.0, 0.0, 0.0, 0.0, 0.084...  \n",
       "1  [0.0, 0.0, 0.0, 0.0, 0.03176522999999999, 0.0,...  \n",
       "2  [0.0, 0.0, 0.0, 0.0, 0.0, 0.0, 0.0, 0.0, 0.0, ...  \n",
       "3  [0.052942049999999984, 0.0, 0.0, 0.0, 0.0, 0.0...  \n",
       "4  [0.0, 0.0, 0.0, 0.0, 0.0, 0.0, 0.0, 0.0, 0.0, ...  "
      ]
     },
     "execution_count": 139,
     "metadata": {},
     "output_type": "execute_result"
    }
   ],
   "source": [
    "df_final_analysis_tbd.head()"
   ]
  },
  {
   "cell_type": "code",
   "execution_count": 128,
   "metadata": {
    "application/vnd.databricks.v1+cell": {
     "cellMetadata": {
      "byteLimit": 2048000,
      "rowLimit": 10000
     },
     "inputWidgets": {},
     "nuid": "9dd9a06f-cd21-4312-a58e-fd5e9a9874ff",
     "showTitle": false,
     "tableResultSettingsMap": {},
     "title": ""
    },
    "colab": {
     "base_uri": "https://localhost:8080/"
    },
    "executionInfo": {
     "elapsed": 10,
     "status": "ok",
     "timestamp": 1721739594327,
     "user": {
      "displayName": "ashis kumar",
      "userId": "11359412875664137523"
     },
     "user_tz": -330
    },
    "id": "2Vpa8fnUIH0h",
    "jupyter": {
     "source_hidden": true
    },
    "outputId": "9e3bbd91-5811-459a-ab43-22e95690ac3a"
   },
   "outputs": [],
   "source": [
    "# df_final_analysis_tbd['Historical_one_list']=df_final_analysis_tbd['Products_as_per_txn_order_hist_baskets'].apply(lambda x:[item for sublist in x for item in sublist] )\n",
    "# df_final_analysis_tbd.head()"
   ]
  },
  {
   "cell_type": "markdown",
   "metadata": {},
   "source": [
    "## 5. Metric on the basis of which we judge the quality of Model "
   ]
  },
  {
   "cell_type": "markdown",
   "metadata": {},
   "source": [
    "### Recall"
   ]
  },
  {
   "cell_type": "code",
   "execution_count": 71,
   "metadata": {
    "application/vnd.databricks.v1+cell": {
     "cellMetadata": {
      "byteLimit": 2048000,
      "rowLimit": 10000
     },
     "inputWidgets": {},
     "nuid": "eafd70e9-80bb-4c12-b2d7-57ffe82ee920",
     "showTitle": false,
     "tableResultSettingsMap": {},
     "title": ""
    },
    "id": "lg0bkjT1WWXN"
   },
   "outputs": [],
   "source": [
    "\n",
    "def func_recall(actual,pred):\n",
    "    Overlap_cnts=len([x for x in pred if x in actual])\n",
    "    total_cnts=len(actual)\n",
    "    recall=Overlap_cnts/total_cnts\n",
    "    return recall\n",
    "df_final_analysis_tbd['Recall']=df_final_analysis_tbd.apply(lambda x:func_recall(x['Grnd_Truth_unlist'],x['Final_Recommendation']),axis=1)"
   ]
  },
  {
   "cell_type": "markdown",
   "metadata": {},
   "source": [
    "### NDCG"
   ]
  },
  {
   "cell_type": "code",
   "execution_count": 72,
   "metadata": {
    "application/vnd.databricks.v1+cell": {
     "cellMetadata": {
      "byteLimit": 2048000,
      "rowLimit": 10000
     },
     "inputWidgets": {},
     "nuid": "411d1e0a-86e5-482e-8542-2798692df66b",
     "showTitle": false,
     "tableResultSettingsMap": {},
     "title": ""
    },
    "id": "5wkL37L6RH5H"
   },
   "outputs": [],
   "source": [
    "import math"
   ]
  },
  {
   "cell_type": "code",
   "execution_count": 73,
   "metadata": {
    "application/vnd.databricks.v1+cell": {
     "cellMetadata": {
      "byteLimit": 2048000,
      "rowLimit": 10000
     },
     "inputWidgets": {},
     "nuid": "2caa3e92-ae04-493c-8a1d-962cd07da0ac",
     "showTitle": false,
     "tableResultSettingsMap": {},
     "title": ""
    },
    "id": "nm3IV7e4RIeo"
   },
   "outputs": [],
   "source": [
    "def func_ndcg(actual,pred):\n",
    "    index_posns_nr=[pred.index(i)+1 for i in pred if i in actual]\n",
    "    numerator=sum([(1/math.log2(x+1)) for x in index_posns_nr])\n",
    "#     print(numerator)\n",
    "    ranges=min(len(actual),len(pred))\n",
    "\n",
    "    if ranges==len(pred):\n",
    "        index_posns_dr=[pred.index(i)+1 for i in pred]\n",
    "#         print(index_posns_dr)\n",
    "        denominator=sum([1/math.log2(x+1) for x in index_posns_dr])\n",
    "#         print(denominator)\n",
    "    if ranges==len(actual):\n",
    "        index_posns_dr=[actual.index(i)+1 for i in actual]\n",
    "#         print(index_posns_dr)\n",
    "        denominator=sum([1/math.log2(x+1) for x in index_posns_dr])\n",
    "#         print(denominator)\n",
    "    ndcg=numerator/denominator\n",
    "    return ndcg"
   ]
  },
  {
   "cell_type": "code",
   "execution_count": 74,
   "metadata": {
    "application/vnd.databricks.v1+cell": {
     "cellMetadata": {
      "byteLimit": 2048000,
      "rowLimit": 10000
     },
     "inputWidgets": {},
     "nuid": "7c9a6dc8-846d-45e3-a3ca-9a5a7d8d2d1a",
     "showTitle": false,
     "tableResultSettingsMap": {},
     "title": ""
    },
    "id": "bjRqSdSfRU4C"
   },
   "outputs": [],
   "source": [
    "df_final_analysis_tbd['Ndcg']=df_final_analysis_tbd.apply(lambda x:func_ndcg(x['Grnd_Truth_unlist'],x['Final_Recommendation']),axis=1)"
   ]
  },
  {
   "cell_type": "markdown",
   "metadata": {},
   "source": [
    "### Personalized Hit Ratio"
   ]
  },
  {
   "cell_type": "code",
   "execution_count": 75,
   "metadata": {
    "application/vnd.databricks.v1+cell": {
     "cellMetadata": {
      "byteLimit": 2048000,
      "rowLimit": 10000
     },
     "inputWidgets": {},
     "nuid": "042c8c1f-7f1c-4377-a262-b43c100a1d91",
     "showTitle": false,
     "tableResultSettingsMap": {},
     "title": ""
    },
    "id": "CijLyCDBRf7V"
   },
   "outputs": [],
   "source": [
    "def func_phr(actual,pred):\n",
    "    return int(any([x for x in pred if x in actual]))"
   ]
  },
  {
   "cell_type": "code",
   "execution_count": 76,
   "metadata": {
    "application/vnd.databricks.v1+cell": {
     "cellMetadata": {
      "byteLimit": 2048000,
      "rowLimit": 10000
     },
     "inputWidgets": {},
     "nuid": "59d52463-9048-4166-8208-4ce4de3f0ddb",
     "showTitle": false,
     "tableResultSettingsMap": {},
     "title": ""
    },
    "colab": {
     "base_uri": "https://localhost:8080/",
     "height": 206
    },
    "executionInfo": {
     "elapsed": 461,
     "status": "ok",
     "timestamp": 1721739611264,
     "user": {
      "displayName": "ashis kumar",
      "userId": "11359412875664137523"
     },
     "user_tz": -330
    },
    "id": "m9vxprfqRgTW",
    "outputId": "a2f638a9-257b-4d18-ffa6-0b37e1b289be"
   },
   "outputs": [
    {
     "data": {
      "text/html": [
       "<div>\n",
       "<style scoped>\n",
       "    .dataframe tbody tr th:only-of-type {\n",
       "        vertical-align: middle;\n",
       "    }\n",
       "\n",
       "    .dataframe tbody tr th {\n",
       "        vertical-align: top;\n",
       "    }\n",
       "\n",
       "    .dataframe thead th {\n",
       "        text-align: right;\n",
       "    }\n",
       "</style>\n",
       "<table border=\"1\" class=\"dataframe\">\n",
       "  <thead>\n",
       "    <tr style=\"text-align: right;\">\n",
       "      <th></th>\n",
       "      <th>user_id</th>\n",
       "      <th>Final_Recommendation</th>\n",
       "      <th>Grnd_Truth_unlist</th>\n",
       "      <th>Products_as_per_txn_order_hist_baskets</th>\n",
       "      <th>within_decay_rate_list</th>\n",
       "      <th>length</th>\n",
       "      <th>Group_size</th>\n",
       "      <th>Approx_number_of_group</th>\n",
       "      <th>Residual</th>\n",
       "      <th>Flag</th>\n",
       "      <th>txns_into_gp_size</th>\n",
       "      <th>condensed_length</th>\n",
       "      <th>Group_Decay_list</th>\n",
       "      <th>Final_list_vectors</th>\n",
       "      <th>Historical_one_list</th>\n",
       "      <th>Recall</th>\n",
       "      <th>Ndcg</th>\n",
       "      <th>PHR</th>\n",
       "    </tr>\n",
       "  </thead>\n",
       "  <tbody>\n",
       "    <tr>\n",
       "      <th>0</th>\n",
       "      <td>10045</td>\n",
       "      <td>[401, 135, 8, 1592, 2845, 2846, 396, 4753, 496...</td>\n",
       "      <td>[3955, 1366, 952, 4716, 1926, 2152, 1882, 1168...</td>\n",
       "      <td>[[110, 1894, 1532, 168, 6783, 5087, 1441, 50, ...</td>\n",
       "      <td>[[0.0, 0.0, 0.0, 0.0, 0.0, 0.0, 0.0, 0.0, 0.0,...</td>\n",
       "      <td>2</td>\n",
       "      <td>7</td>\n",
       "      <td>0.285714</td>\n",
       "      <td>-6.714286</td>\n",
       "      <td>2</td>\n",
       "      <td>[[[0.0, 0.0, 0.0, 0.0, 0.0, 0.0, 0.0, 0.0, 0.0...</td>\n",
       "      <td>2</td>\n",
       "      <td>[[[0.0, 0.0, 0.0, 0.0, 0.0, 0.0, 0.0, 0.0, 0.1...</td>\n",
       "      <td>[0.0, 0.0, 0.0, 0.0, 0.0, 0.0, 0.0, 0.0, 0.084...</td>\n",
       "      <td>[110, 1894, 1532, 168, 6783, 5087, 1441, 50, 2...</td>\n",
       "      <td>0.000000</td>\n",
       "      <td>0.000000</td>\n",
       "      <td>0</td>\n",
       "    </tr>\n",
       "    <tr>\n",
       "      <th>1</th>\n",
       "      <td>10046</td>\n",
       "      <td>[719, 1203, 699, 187, 4506, 11357, 1743, 9754,...</td>\n",
       "      <td>[1447, 1203, 119]</td>\n",
       "      <td>[[2471, 1169, 6647, 732, 491, 5823, 390, 99, 1...</td>\n",
       "      <td>[[0.0, 0.0, 0.0, 0.0, 0.81, 0.0, 0.0, 0.0, 0.0...</td>\n",
       "      <td>3</td>\n",
       "      <td>7</td>\n",
       "      <td>0.428571</td>\n",
       "      <td>-6.571429</td>\n",
       "      <td>2</td>\n",
       "      <td>[[[0.0, 0.0, 0.0, 0.0, 0.81, 0.0, 0.0, 0.0, 0....</td>\n",
       "      <td>3</td>\n",
       "      <td>[[[0.0, 0.0, 0.0, 0.0, 0.0, 0.0, 0.0, 0.0, 0.0...</td>\n",
       "      <td>[0.0, 0.0, 0.0, 0.0, 0.03176522999999999, 0.0,...</td>\n",
       "      <td>[2471, 1169, 6647, 732, 491, 5823, 390, 99, 10...</td>\n",
       "      <td>0.333333</td>\n",
       "      <td>0.296082</td>\n",
       "      <td>1</td>\n",
       "    </tr>\n",
       "    <tr>\n",
       "      <th>2</th>\n",
       "      <td>10047</td>\n",
       "      <td>[45, 3706, 6549, 182, 2798, 767, 126, 1099, 79...</td>\n",
       "      <td>[4136, 3685, 509, 50, 1034, 828, 1826, 421, 44...</td>\n",
       "      <td>[[2172, 7461, 1186, 9474, 1743, 8229, 8568, 38...</td>\n",
       "      <td>[[0.0, 0.0, 0.0, 0.0, 0.0, 0.0, 0.0, 0.0, 0.0,...</td>\n",
       "      <td>7</td>\n",
       "      <td>7</td>\n",
       "      <td>1.000000</td>\n",
       "      <td>-6.000000</td>\n",
       "      <td>1</td>\n",
       "      <td>[[[0.0, 0.0, 0.0, 0.0, 0.0, 0.0, 0.0, 0.0, 0.0...</td>\n",
       "      <td>7</td>\n",
       "      <td>[[[0.0, 0.0, 0.0, 0.0, 0.0, 0.0, 0.0, 0.0, 0.0...</td>\n",
       "      <td>[0.0, 0.0, 0.0, 0.0, 0.0, 0.0, 0.0, 0.0, 0.0, ...</td>\n",
       "      <td>[2172, 7461, 1186, 9474, 1743, 8229, 8568, 386...</td>\n",
       "      <td>0.142857</td>\n",
       "      <td>0.088732</td>\n",
       "      <td>1</td>\n",
       "    </tr>\n",
       "    <tr>\n",
       "      <th>3</th>\n",
       "      <td>10048</td>\n",
       "      <td>[1309, 6537, 3299, 2847, 137, 2027, 719, 1592,...</td>\n",
       "      <td>[2808, 491, 2542, 6708, 1347, 469, 9375, 9876,...</td>\n",
       "      <td>[[4274, 9, 2588, 2251, 17, 1245, 6524, 7574, 8...</td>\n",
       "      <td>[[0.9, 0.0, 0.0, 0.0, 0.0, 0.0, 0.0, 0.0, 0.0,...</td>\n",
       "      <td>2</td>\n",
       "      <td>7</td>\n",
       "      <td>0.285714</td>\n",
       "      <td>-6.714286</td>\n",
       "      <td>2</td>\n",
       "      <td>[[[0.9, 0.0, 0.0, 0.0, 0.0, 0.0, 0.0, 0.0, 0.0...</td>\n",
       "      <td>2</td>\n",
       "      <td>[[[0.0, 0.0, 0.0, 0.0, 0.0, 0.0, 0.0, 0.0, 0.0...</td>\n",
       "      <td>[0.052942049999999984, 0.0, 0.0, 0.0, 0.0, 0.0...</td>\n",
       "      <td>[4274, 9, 2588, 2251, 17, 1245, 6524, 7574, 80...</td>\n",
       "      <td>0.000000</td>\n",
       "      <td>0.000000</td>\n",
       "      <td>0</td>\n",
       "    </tr>\n",
       "    <tr>\n",
       "      <th>4</th>\n",
       "      <td>10049</td>\n",
       "      <td>[1356, 3113, 5136, 8717, 2345, 8071, 144, 1743...</td>\n",
       "      <td>[5548]</td>\n",
       "      <td>[[1356, 1910, 144, 1743], [8071, 1356, 3113, 2...</td>\n",
       "      <td>[[0.0, 0.0, 0.0, 0.0, 0.0, 0.0, 0.0, 0.0, 0.0,...</td>\n",
       "      <td>3</td>\n",
       "      <td>7</td>\n",
       "      <td>0.428571</td>\n",
       "      <td>-6.571429</td>\n",
       "      <td>2</td>\n",
       "      <td>[[[0.0, 0.0, 0.0, 0.0, 0.0, 0.0, 0.0, 0.0, 0.0...</td>\n",
       "      <td>3</td>\n",
       "      <td>[[[0.0, 0.0, 0.0, 0.0, 0.0, 0.0, 0.0, 0.0, 0.0...</td>\n",
       "      <td>[0.0, 0.0, 0.0, 0.0, 0.0, 0.0, 0.0, 0.0, 0.0, ...</td>\n",
       "      <td>[1356, 1910, 144, 1743, 8071, 1356, 3113, 2345...</td>\n",
       "      <td>0.000000</td>\n",
       "      <td>0.000000</td>\n",
       "      <td>0</td>\n",
       "    </tr>\n",
       "  </tbody>\n",
       "</table>\n",
       "</div>"
      ],
      "text/plain": [
       "   user_id                               Final_Recommendation  \\\n",
       "0    10045  [401, 135, 8, 1592, 2845, 2846, 396, 4753, 496...   \n",
       "1    10046  [719, 1203, 699, 187, 4506, 11357, 1743, 9754,...   \n",
       "2    10047  [45, 3706, 6549, 182, 2798, 767, 126, 1099, 79...   \n",
       "3    10048  [1309, 6537, 3299, 2847, 137, 2027, 719, 1592,...   \n",
       "4    10049  [1356, 3113, 5136, 8717, 2345, 8071, 144, 1743...   \n",
       "\n",
       "                                   Grnd_Truth_unlist  \\\n",
       "0  [3955, 1366, 952, 4716, 1926, 2152, 1882, 1168...   \n",
       "1                                  [1447, 1203, 119]   \n",
       "2  [4136, 3685, 509, 50, 1034, 828, 1826, 421, 44...   \n",
       "3  [2808, 491, 2542, 6708, 1347, 469, 9375, 9876,...   \n",
       "4                                             [5548]   \n",
       "\n",
       "              Products_as_per_txn_order_hist_baskets  \\\n",
       "0  [[110, 1894, 1532, 168, 6783, 5087, 1441, 50, ...   \n",
       "1  [[2471, 1169, 6647, 732, 491, 5823, 390, 99, 1...   \n",
       "2  [[2172, 7461, 1186, 9474, 1743, 8229, 8568, 38...   \n",
       "3  [[4274, 9, 2588, 2251, 17, 1245, 6524, 7574, 8...   \n",
       "4  [[1356, 1910, 144, 1743], [8071, 1356, 3113, 2...   \n",
       "\n",
       "                              within_decay_rate_list  length  Group_size  \\\n",
       "0  [[0.0, 0.0, 0.0, 0.0, 0.0, 0.0, 0.0, 0.0, 0.0,...       2           7   \n",
       "1  [[0.0, 0.0, 0.0, 0.0, 0.81, 0.0, 0.0, 0.0, 0.0...       3           7   \n",
       "2  [[0.0, 0.0, 0.0, 0.0, 0.0, 0.0, 0.0, 0.0, 0.0,...       7           7   \n",
       "3  [[0.9, 0.0, 0.0, 0.0, 0.0, 0.0, 0.0, 0.0, 0.0,...       2           7   \n",
       "4  [[0.0, 0.0, 0.0, 0.0, 0.0, 0.0, 0.0, 0.0, 0.0,...       3           7   \n",
       "\n",
       "   Approx_number_of_group  Residual  Flag  \\\n",
       "0                0.285714 -6.714286     2   \n",
       "1                0.428571 -6.571429     2   \n",
       "2                1.000000 -6.000000     1   \n",
       "3                0.285714 -6.714286     2   \n",
       "4                0.428571 -6.571429     2   \n",
       "\n",
       "                                   txns_into_gp_size  condensed_length  \\\n",
       "0  [[[0.0, 0.0, 0.0, 0.0, 0.0, 0.0, 0.0, 0.0, 0.0...                 2   \n",
       "1  [[[0.0, 0.0, 0.0, 0.0, 0.81, 0.0, 0.0, 0.0, 0....                 3   \n",
       "2  [[[0.0, 0.0, 0.0, 0.0, 0.0, 0.0, 0.0, 0.0, 0.0...                 7   \n",
       "3  [[[0.9, 0.0, 0.0, 0.0, 0.0, 0.0, 0.0, 0.0, 0.0...                 2   \n",
       "4  [[[0.0, 0.0, 0.0, 0.0, 0.0, 0.0, 0.0, 0.0, 0.0...                 3   \n",
       "\n",
       "                                    Group_Decay_list  \\\n",
       "0  [[[0.0, 0.0, 0.0, 0.0, 0.0, 0.0, 0.0, 0.0, 0.1...   \n",
       "1  [[[0.0, 0.0, 0.0, 0.0, 0.0, 0.0, 0.0, 0.0, 0.0...   \n",
       "2  [[[0.0, 0.0, 0.0, 0.0, 0.0, 0.0, 0.0, 0.0, 0.0...   \n",
       "3  [[[0.0, 0.0, 0.0, 0.0, 0.0, 0.0, 0.0, 0.0, 0.0...   \n",
       "4  [[[0.0, 0.0, 0.0, 0.0, 0.0, 0.0, 0.0, 0.0, 0.0...   \n",
       "\n",
       "                                  Final_list_vectors  \\\n",
       "0  [0.0, 0.0, 0.0, 0.0, 0.0, 0.0, 0.0, 0.0, 0.084...   \n",
       "1  [0.0, 0.0, 0.0, 0.0, 0.03176522999999999, 0.0,...   \n",
       "2  [0.0, 0.0, 0.0, 0.0, 0.0, 0.0, 0.0, 0.0, 0.0, ...   \n",
       "3  [0.052942049999999984, 0.0, 0.0, 0.0, 0.0, 0.0...   \n",
       "4  [0.0, 0.0, 0.0, 0.0, 0.0, 0.0, 0.0, 0.0, 0.0, ...   \n",
       "\n",
       "                                 Historical_one_list    Recall      Ndcg  PHR  \n",
       "0  [110, 1894, 1532, 168, 6783, 5087, 1441, 50, 2...  0.000000  0.000000    0  \n",
       "1  [2471, 1169, 6647, 732, 491, 5823, 390, 99, 10...  0.333333  0.296082    1  \n",
       "2  [2172, 7461, 1186, 9474, 1743, 8229, 8568, 386...  0.142857  0.088732    1  \n",
       "3  [4274, 9, 2588, 2251, 17, 1245, 6524, 7574, 80...  0.000000  0.000000    0  \n",
       "4  [1356, 1910, 144, 1743, 8071, 1356, 3113, 2345...  0.000000  0.000000    0  "
      ]
     },
     "execution_count": 76,
     "metadata": {},
     "output_type": "execute_result"
    }
   ],
   "source": [
    "\n",
    "df_final_analysis_tbd['PHR']=df_final_analysis_tbd.apply(lambda x:func_phr(x['Grnd_Truth_unlist'],x['Final_Recommendation']),axis=1)\n",
    "df_final_analysis_tbd.head()"
   ]
  },
  {
   "cell_type": "code",
   "execution_count": 77,
   "metadata": {
    "application/vnd.databricks.v1+cell": {
     "cellMetadata": {
      "byteLimit": 2048000,
      "rowLimit": 10000
     },
     "inputWidgets": {},
     "nuid": "c2ceaa34-65e4-4f76-b7a6-2378da19e511",
     "showTitle": false,
     "tableResultSettingsMap": {},
     "title": ""
    },
    "colab": {
     "base_uri": "https://localhost:8080/"
    },
    "executionInfo": {
     "elapsed": 12,
     "status": "ok",
     "timestamp": 1721739612733,
     "user": {
      "displayName": "ashis kumar",
      "userId": "11359412875664137523"
     },
     "user_tz": -330
    },
    "id": "lPK2A3Z9SLr7",
    "outputId": "5500db72-3f7e-4a61-c32e-52e0c5051c2c"
   },
   "outputs": [
    {
     "name": "stdout",
     "output_type": "stream",
     "text": [
      "Avg Recall is :- 0.12904844877344876\n",
      "Avg Ndcg is :- 0.09972347192587067\n",
      "Avg PHR is:- 0.44\n"
     ]
    }
   ],
   "source": [
    "print(f\"Avg Recall is :- {df_final_analysis_tbd['Recall'].mean()}\")\n",
    "print(f\"Avg Ndcg is :- {df_final_analysis_tbd['Ndcg'].mean()}\")\n",
    "print(f\"Avg PHR is:- {df_final_analysis_tbd['PHR'].sum()/df_final_analysis_tbd.shape[0]}\")"
   ]
  },
  {
   "cell_type": "code",
   "execution_count": null,
   "metadata": {},
   "outputs": [],
   "source": []
  },
  {
   "cell_type": "code",
   "execution_count": null,
   "metadata": {},
   "outputs": [],
   "source": []
  },
  {
   "cell_type": "code",
   "execution_count": null,
   "metadata": {},
   "outputs": [],
   "source": []
  },
  {
   "cell_type": "code",
   "execution_count": null,
   "metadata": {},
   "outputs": [],
   "source": []
  },
  {
   "cell_type": "code",
   "execution_count": 78,
   "metadata": {
    "application/vnd.databricks.v1+cell": {
     "cellMetadata": {
      "byteLimit": 2048000,
      "rowLimit": 10000
     },
     "inputWidgets": {},
     "nuid": "c4d3f2ac-093c-4c3c-9a7b-eb982142fafe",
     "showTitle": false,
     "tableResultSettingsMap": {},
     "title": ""
    }
   },
   "outputs": [
    {
     "name": "stdout",
     "output_type": "stream",
     "text": [
      "2772\n"
     ]
    },
    {
     "data": {
      "text/plain": [
       "1109"
      ]
     },
     "execution_count": 78,
     "metadata": {},
     "output_type": "execute_result"
    }
   ],
   "source": [
    "print(len(test_user))\n",
    "val_uss1=[item for item in val_user if item not in test_user]\n",
    "\n",
    "len(val_uss1)"
   ]
  },
  {
   "cell_type": "code",
   "execution_count": 79,
   "metadata": {
    "application/vnd.databricks.v1+cell": {
     "cellMetadata": {
      "byteLimit": 2048000,
      "rowLimit": 10000
     },
     "inputWidgets": {},
     "nuid": "0c4cb8bd-a009-41ad-b504-58dc5126b607",
     "showTitle": false,
     "tableResultSettingsMap": {},
     "title": ""
    }
   },
   "outputs": [
    {
     "name": "stdout",
     "output_type": "stream",
     "text": [
      "(100, 18)\n",
      "Avg Recall is :- 0.12904844877344876\n",
      "Avg Ndcg is :- 0.09972347192587067\n",
      "Avg PHR is:- 0.44\n"
     ]
    }
   ],
   "source": [
    "# Val user\n",
    "df_final_analysis_tbd_test=df_final_analysis_tbd[df_final_analysis_tbd['user_id'].isin([int(x) for x in val_uss1])]\n",
    "print(df_final_analysis_tbd_test.shape)\n",
    "print(f\"Avg Recall is :- {df_final_analysis_tbd_test['Recall'].mean()}\")\n",
    "print(f\"Avg Ndcg is :- {df_final_analysis_tbd_test['Ndcg'].mean()}\")\n",
    "print(f\"Avg PHR is:- {df_final_analysis_tbd_test['PHR'].sum()/df_final_analysis_tbd_test.shape[0]}\")"
   ]
  },
  {
   "cell_type": "code",
   "execution_count": 80,
   "metadata": {
    "application/vnd.databricks.v1+cell": {
     "cellMetadata": {
      "byteLimit": 2048000,
      "rowLimit": 10000
     },
     "inputWidgets": {},
     "nuid": "8568bf73-a09b-4e17-91b7-1285d54c0007",
     "showTitle": false,
     "tableResultSettingsMap": {},
     "title": ""
    },
    "id": "z0FofC-OSSUt"
   },
   "outputs": [
    {
     "name": "stdout",
     "output_type": "stream",
     "text": [
      "100\n"
     ]
    }
   ],
   "source": [
    "\n",
    "print(df_final_analysis_tbd.shape[0])"
   ]
  },
  {
   "cell_type": "code",
   "execution_count": 81,
   "metadata": {
    "application/vnd.databricks.v1+cell": {
     "cellMetadata": {
      "byteLimit": 2048000,
      "rowLimit": 10000
     },
     "inputWidgets": {},
     "nuid": "1994bcf8-194c-419d-9dcc-2c24300c1533",
     "showTitle": false,
     "tableResultSettingsMap": {},
     "title": ""
    }
   },
   "outputs": [],
   "source": [
    "# df_final_analysis_tbd.head()"
   ]
  },
  {
   "cell_type": "code",
   "execution_count": 82,
   "metadata": {
    "application/vnd.databricks.v1+cell": {
     "cellMetadata": {
      "byteLimit": 2048000,
      "rowLimit": 10000
     },
     "inputWidgets": {},
     "nuid": "d9b00c60-06c7-46f8-91c6-71ab4119db3c",
     "showTitle": false,
     "tableResultSettingsMap": {},
     "title": ""
    }
   },
   "outputs": [],
   "source": [
    "# print(df_final_analysis_tbd.columns)"
   ]
  },
  {
   "cell_type": "code",
   "execution_count": null,
   "metadata": {
    "application/vnd.databricks.v1+cell": {
     "cellMetadata": {
      "byteLimit": 2048000,
      "rowLimit": 10000
     },
     "inputWidgets": {},
     "nuid": "608d6c17-ed10-4ce4-ae2d-ae72b5f4295e",
     "showTitle": false,
     "tableResultSettingsMap": {},
     "title": ""
    }
   },
   "outputs": [
    {
     "name": "stdout",
     "output_type": "stream",
     "text": [
      "0.040298892038134505\n",
      "0.9597011079618654\n"
     ]
    }
   ],
   "source": [
    "k=20\n",
    "df_final_analysis_tbd['common_items_count']=df_final_analysis_tbd.apply(lambda x:len(list(set(x['Historical_one_list']) & set(x['Grnd_Truth_unlist'])))/k,axis=1)\n",
    "\n",
    "df_final_analysis_tbd['uncommon_items_count']=df_final_analysis_tbd.apply(lambda x:1-x['common_items_count'],axis=1)\n",
    "\n",
    "print(df_final_analysis_tbd['common_items_count'].mean())\n",
    "print(df_final_analysis_tbd['uncommon_items_count'].mean())\n"
   ]
  },
  {
   "cell_type": "code",
   "execution_count": null,
   "metadata": {
    "application/vnd.databricks.v1+cell": {
     "cellMetadata": {
      "byteLimit": 2048000,
      "rowLimit": 10000
     },
     "inputWidgets": {},
     "nuid": "e8b580b1-360f-45fc-a4d6-dd585820ba63",
     "showTitle": false,
     "tableResultSettingsMap": {},
     "title": ""
    }
   },
   "outputs": [
    {
     "data": {
      "text/plain": [
       "100"
      ]
     },
     "execution_count": 107,
     "metadata": {},
     "output_type": "execute_result"
    }
   ],
   "source": []
  },
  {
   "cell_type": "code",
   "execution_count": null,
   "metadata": {
    "application/vnd.databricks.v1+cell": {
     "cellMetadata": {
      "byteLimit": 2048000,
      "rowLimit": 10000
     },
     "inputWidgets": {},
     "nuid": "4234448a-e816-48f0-aa1f-8a766a0f29f7",
     "showTitle": false,
     "tableResultSettingsMap": {},
     "title": ""
    }
   },
   "outputs": [],
   "source": []
  },
  {
   "cell_type": "code",
   "execution_count": 127,
   "metadata": {},
   "outputs": [
    {
     "name": "stderr",
     "output_type": "stream",
     "text": [
      "C:\\Users\\ashis\\AppData\\Local\\Temp\\ipykernel_35660\\531736715.py:8: RuntimeWarning: divide by zero encountered in divide\n",
      "  y_values = 1/np.log2(x_values)\n"
     ]
    },
    {
     "data": {
      "image/png": "[encoded data removed]",
      "text/plain": [
       "<Figure size 640x480 with 1 Axes>"
      ]
     },
     "metadata": {},
     "output_type": "display_data"
    }
   ],
   "source": [
    "\n",
    "# import numpy as np\n",
    "# import matplotlib.pyplot as plt\n",
    "\n",
    "# # Generate x values from 1 to 10\n",
    "# x_values = np.arange(1, 11)\n",
    "\n",
    "# # Calculate y values using log base 2\n",
    "# y_values = 1/np.log2(x_values)\n",
    "\n",
    "# # Plot the logarithmic function\n",
    "# plt.plot(x_values, y_values, marker='o', linestyle='-')\n",
    "\n",
    "# # Add labels and title\n",
    "# plt.xlabel('x')\n",
    "# plt.ylabel('log2(x)')\n",
    "# plt.title('Logarithmic Graph with Base 2')\n",
    "\n",
    "# # Add grid\n",
    "# plt.grid(True)\n",
    "\n",
    "# # Show plot\n",
    "# plt.show()"
   ]
  },
  {
   "cell_type": "code",
   "execution_count": null,
   "metadata": {},
   "outputs": [],
   "source": []
  }
 ],
 "metadata": {
  "application/vnd.databricks.v1+notebook": {
   "computePreferences": null,
   "dashboards": [],
   "environmentMetadata": null,
   "language": "python",
   "notebookMetadata": {
    "pythonIndentUnit": 4
   },
   "notebookName": "(Clone) (Clone) (Clone) (Clone) All work- Pandas",
   "widgets": {}
  },
  "colab": {
   "provenance": []
  },
  "kernelspec": {
   "display_name": "Python 3",
   "language": "python",
   "name": "python3"
  },
  "language_info": {
   "codemirror_mode": {
    "name": "ipython",
    "version": 3
   },
   "file_extension": ".py",
   "mimetype": "text/x-python",
   "name": "python",
   "nbconvert_exporter": "python",
   "pygments_lexer": "ipython3",
   "version": "3.8.5"
  }
 },
 "nbformat": 4,
 "nbformat_minor": 4
}
